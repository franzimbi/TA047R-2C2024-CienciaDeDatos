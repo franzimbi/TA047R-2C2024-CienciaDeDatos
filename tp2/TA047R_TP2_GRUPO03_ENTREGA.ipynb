{
  "cells": [
    {
      "cell_type": "markdown",
      "metadata": {
        "id": "9_eHc7VO-81v"
      },
      "source": [
        "# Trabajo Práctico 2 : Story Points"
      ]
    },
    {
      "cell_type": "markdown",
      "metadata": {
        "id": "N3F6zanZ_Uky"
      },
      "source": [
        "## Grupo 3 - Team \"M\":\n",
        "    - De Benedetto Celeste\n",
        "    - Sandroni Morena\n",
        "    - Zimbimbakis Francisco\n"
      ]
    },
    {
      "cell_type": "markdown",
      "metadata": {
        "id": "aZYiXfd3_pwC"
      },
      "source": [
        "## Importación del Data Set"
      ]
    },
    {
      "cell_type": "code",
      "execution_count": null,
      "metadata": {
        "colab": {
          "base_uri": "https://localhost:8080/"
        },
        "id": "zF6NZrRc_vLc",
        "outputId": "954a069f-47a6-4b79-e167-f9ef29e2756b"
      },
      "outputs": [
        {
          "output_type": "stream",
          "name": "stderr",
          "text": [
            "[nltk_data] Downloading package averaged_perceptron_tagger_eng to\n",
            "[nltk_data]     /root/nltk_data...\n",
            "[nltk_data]   Unzipping taggers/averaged_perceptron_tagger_eng.zip.\n",
            "[nltk_data] Downloading package averaged_perceptron_tagger to\n",
            "[nltk_data]     /root/nltk_data...\n",
            "[nltk_data]   Unzipping taggers/averaged_perceptron_tagger.zip.\n",
            "[nltk_data] Downloading package wordnet to /root/nltk_data...\n",
            "[nltk_data] Downloading package punkt_tab to /root/nltk_data...\n",
            "[nltk_data]   Unzipping tokenizers/punkt_tab.zip.\n",
            "[nltk_data] Downloading package stopwords to /root/nltk_data...\n",
            "[nltk_data]   Unzipping corpora/stopwords.zip.\n"
          ]
        },
        {
          "output_type": "execute_result",
          "data": {
            "text/plain": [
              "True"
            ]
          },
          "metadata": {},
          "execution_count": 1
        }
      ],
      "source": [
        "import pandas as pd\n",
        "import joblib\n",
        "import matplotlib.pyplot as plt\n",
        "import numpy as np\n",
        "import seaborn as sns\n",
        "import pandas as pd\n",
        "from sklearn.model_selection import train_test_split\n",
        "from sklearn.feature_extraction.text import TfidfVectorizer\n",
        "import re\n",
        "import nltk\n",
        "from nltk.corpus import stopwords, wordnet\n",
        "from nltk.stem import WordNetLemmatizer\n",
        "from nltk import pos_tag\n",
        "import nltk\n",
        "nltk.download('averaged_perceptron_tagger_eng')\n",
        "nltk.download('averaged_perceptron_tagger')\n",
        "import tensorflow as tf\n",
        "from tensorflow.keras.models import Sequential\n",
        "from tensorflow.keras.layers import Dense, Dropout\n",
        "from tensorflow.keras.preprocessing.text import Tokenizer\n",
        "from tensorflow.keras.preprocessing.sequence import pad_sequences\n",
        "from sklearn.model_selection import train_test_split\n",
        "from sklearn.naive_bayes import MultinomialNB\n",
        "from sklearn.feature_extraction.text import CountVectorizer\n",
        "from sklearn.model_selection import GridSearchCV\n",
        "from sklearn.metrics import mean_squared_error, classification_report\n",
        "import xgboost as xgb\n",
        "import pandas as pd\n",
        "nltk.download('wordnet')\n",
        "\n",
        "from nltk.tokenize import word_tokenize\n",
        "nltk.download('punkt_tab')\n",
        "from gensim.models import Word2Vec\n",
        "\n",
        "train = 'https://raw.githubusercontent.com/franzimbi/TA047R-2C2024-GRUPO03/refs/heads/main/tp2/train.csv?token=GHSAT0AAAAAACYBMO7XYGPDGAL6B5JVOIHEZ2LOXDA'\n",
        "train = pd.read_csv(train)\n",
        "\n",
        "test = 'https://raw.githubusercontent.com/franzimbi/TA047R-2C2024-GRUPO03/refs/heads/main/tp2/test.csv?token=GHSAT0AAAAAACYBMO7WOWZPYEPUPUUZX3QYZ2LOW3Q'\n",
        "test = pd.read_csv(test)\n",
        "\n",
        "nltk.download('stopwords')"
      ]
    },
    {
      "cell_type": "code",
      "execution_count": null,
      "metadata": {
        "id": "IaA-_nKbCSKA"
      },
      "outputs": [],
      "source": [
        "from google.colab import files\n",
        "from tensorflow.keras.models import load_model"
      ]
    },
    {
      "cell_type": "code",
      "execution_count": null,
      "metadata": {
        "colab": {
          "base_uri": "https://localhost:8080/"
        },
        "id": "4JpwZvTz2pG7",
        "outputId": "5c54c492-32e6-493a-9bf3-cf272c9345ff"
      },
      "outputs": [
        {
          "output_type": "stream",
          "name": "stderr",
          "text": [
            "[nltk_data] Downloading package wordnet to /root/nltk_data...\n",
            "[nltk_data]   Package wordnet is already up-to-date!\n"
          ]
        },
        {
          "output_type": "execute_result",
          "data": {
            "text/plain": [
              "True"
            ]
          },
          "metadata": {},
          "execution_count": 3
        }
      ],
      "source": [
        "import nltk\n",
        "nltk.download('wordnet')"
      ]
    },
    {
      "cell_type": "markdown",
      "metadata": {
        "id": "CtZZUby4JvVk"
      },
      "source": [
        "##Analisis Exploratorio"
      ]
    },
    {
      "cell_type": "code",
      "execution_count": null,
      "metadata": {
        "colab": {
          "base_uri": "https://localhost:8080/"
        },
        "id": "PZJ4yQU5ljbQ",
        "outputId": "c489c820-a48a-475c-f5a4-627177c36324"
      },
      "outputs": [
        {
          "output_type": "execute_result",
          "data": {
            "text/plain": [
              "(7900, 5)"
            ]
          },
          "metadata": {},
          "execution_count": 4
        }
      ],
      "source": [
        "train.shape"
      ]
    },
    {
      "cell_type": "code",
      "execution_count": null,
      "metadata": {
        "colab": {
          "base_uri": "https://localhost:8080/",
          "height": 206
        },
        "id": "YAuSSyv_PXri",
        "outputId": "9736cdb6-65d0-48ea-bc2b-709942630dc5"
      },
      "outputs": [
        {
          "output_type": "execute_result",
          "data": {
            "text/plain": [
              "     id                                              title  \\\n",
              "0  5660  Error enabling Appcelerator services during ap...   \n",
              "1  9014                        Create a maintenance branch   \n",
              "2  4094  Service Activity Monitoring Backend integrated...   \n",
              "3   811  fs::enter(rootfs) does not work if 'rootfs' is...   \n",
              "4  4459   transform processor with script option is broken   \n",
              "\n",
              "                                         description   project  storypoint  \n",
              "0  When creating the default app, I encountered t...  project8           3  \n",
              "1  As a developer, I'd like to have a maintenance...  project6           5  \n",
              "2                            SAM API used by SAM GUI  project1           5  \n",
              "3  I noticed this when I was testing the unified ...  project5           2  \n",
              "4  Creating the following stream throws exception...  project6           2  "
            ],
            "text/html": [
              "\n",
              "  <div id=\"df-1190a786-30ba-45ab-8fd5-41a60655b6e6\" class=\"colab-df-container\">\n",
              "    <div>\n",
              "<style scoped>\n",
              "    .dataframe tbody tr th:only-of-type {\n",
              "        vertical-align: middle;\n",
              "    }\n",
              "\n",
              "    .dataframe tbody tr th {\n",
              "        vertical-align: top;\n",
              "    }\n",
              "\n",
              "    .dataframe thead th {\n",
              "        text-align: right;\n",
              "    }\n",
              "</style>\n",
              "<table border=\"1\" class=\"dataframe\">\n",
              "  <thead>\n",
              "    <tr style=\"text-align: right;\">\n",
              "      <th></th>\n",
              "      <th>id</th>\n",
              "      <th>title</th>\n",
              "      <th>description</th>\n",
              "      <th>project</th>\n",
              "      <th>storypoint</th>\n",
              "    </tr>\n",
              "  </thead>\n",
              "  <tbody>\n",
              "    <tr>\n",
              "      <th>0</th>\n",
              "      <td>5660</td>\n",
              "      <td>Error enabling Appcelerator services during ap...</td>\n",
              "      <td>When creating the default app, I encountered t...</td>\n",
              "      <td>project8</td>\n",
              "      <td>3</td>\n",
              "    </tr>\n",
              "    <tr>\n",
              "      <th>1</th>\n",
              "      <td>9014</td>\n",
              "      <td>Create a maintenance branch</td>\n",
              "      <td>As a developer, I'd like to have a maintenance...</td>\n",
              "      <td>project6</td>\n",
              "      <td>5</td>\n",
              "    </tr>\n",
              "    <tr>\n",
              "      <th>2</th>\n",
              "      <td>4094</td>\n",
              "      <td>Service Activity Monitoring Backend integrated...</td>\n",
              "      <td>SAM API used by SAM GUI</td>\n",
              "      <td>project1</td>\n",
              "      <td>5</td>\n",
              "    </tr>\n",
              "    <tr>\n",
              "      <th>3</th>\n",
              "      <td>811</td>\n",
              "      <td>fs::enter(rootfs) does not work if 'rootfs' is...</td>\n",
              "      <td>I noticed this when I was testing the unified ...</td>\n",
              "      <td>project5</td>\n",
              "      <td>2</td>\n",
              "    </tr>\n",
              "    <tr>\n",
              "      <th>4</th>\n",
              "      <td>4459</td>\n",
              "      <td>transform processor with script option is broken</td>\n",
              "      <td>Creating the following stream throws exception...</td>\n",
              "      <td>project6</td>\n",
              "      <td>2</td>\n",
              "    </tr>\n",
              "  </tbody>\n",
              "</table>\n",
              "</div>\n",
              "    <div class=\"colab-df-buttons\">\n",
              "\n",
              "  <div class=\"colab-df-container\">\n",
              "    <button class=\"colab-df-convert\" onclick=\"convertToInteractive('df-1190a786-30ba-45ab-8fd5-41a60655b6e6')\"\n",
              "            title=\"Convert this dataframe to an interactive table.\"\n",
              "            style=\"display:none;\">\n",
              "\n",
              "  <svg xmlns=\"http://www.w3.org/2000/svg\" height=\"24px\" viewBox=\"0 -960 960 960\">\n",
              "    <path d=\"M120-120v-720h720v720H120Zm60-500h600v-160H180v160Zm220 220h160v-160H400v160Zm0 220h160v-160H400v160ZM180-400h160v-160H180v160Zm440 0h160v-160H620v160ZM180-180h160v-160H180v160Zm440 0h160v-160H620v160Z\"/>\n",
              "  </svg>\n",
              "    </button>\n",
              "\n",
              "  <style>\n",
              "    .colab-df-container {\n",
              "      display:flex;\n",
              "      gap: 12px;\n",
              "    }\n",
              "\n",
              "    .colab-df-convert {\n",
              "      background-color: #E8F0FE;\n",
              "      border: none;\n",
              "      border-radius: 50%;\n",
              "      cursor: pointer;\n",
              "      display: none;\n",
              "      fill: #1967D2;\n",
              "      height: 32px;\n",
              "      padding: 0 0 0 0;\n",
              "      width: 32px;\n",
              "    }\n",
              "\n",
              "    .colab-df-convert:hover {\n",
              "      background-color: #E2EBFA;\n",
              "      box-shadow: 0px 1px 2px rgba(60, 64, 67, 0.3), 0px 1px 3px 1px rgba(60, 64, 67, 0.15);\n",
              "      fill: #174EA6;\n",
              "    }\n",
              "\n",
              "    .colab-df-buttons div {\n",
              "      margin-bottom: 4px;\n",
              "    }\n",
              "\n",
              "    [theme=dark] .colab-df-convert {\n",
              "      background-color: #3B4455;\n",
              "      fill: #D2E3FC;\n",
              "    }\n",
              "\n",
              "    [theme=dark] .colab-df-convert:hover {\n",
              "      background-color: #434B5C;\n",
              "      box-shadow: 0px 1px 3px 1px rgba(0, 0, 0, 0.15);\n",
              "      filter: drop-shadow(0px 1px 2px rgba(0, 0, 0, 0.3));\n",
              "      fill: #FFFFFF;\n",
              "    }\n",
              "  </style>\n",
              "\n",
              "    <script>\n",
              "      const buttonEl =\n",
              "        document.querySelector('#df-1190a786-30ba-45ab-8fd5-41a60655b6e6 button.colab-df-convert');\n",
              "      buttonEl.style.display =\n",
              "        google.colab.kernel.accessAllowed ? 'block' : 'none';\n",
              "\n",
              "      async function convertToInteractive(key) {\n",
              "        const element = document.querySelector('#df-1190a786-30ba-45ab-8fd5-41a60655b6e6');\n",
              "        const dataTable =\n",
              "          await google.colab.kernel.invokeFunction('convertToInteractive',\n",
              "                                                    [key], {});\n",
              "        if (!dataTable) return;\n",
              "\n",
              "        const docLinkHtml = 'Like what you see? Visit the ' +\n",
              "          '<a target=\"_blank\" href=https://colab.research.google.com/notebooks/data_table.ipynb>data table notebook</a>'\n",
              "          + ' to learn more about interactive tables.';\n",
              "        element.innerHTML = '';\n",
              "        dataTable['output_type'] = 'display_data';\n",
              "        await google.colab.output.renderOutput(dataTable, element);\n",
              "        const docLink = document.createElement('div');\n",
              "        docLink.innerHTML = docLinkHtml;\n",
              "        element.appendChild(docLink);\n",
              "      }\n",
              "    </script>\n",
              "  </div>\n",
              "\n",
              "\n",
              "<div id=\"df-e0137ef8-0b70-4d9b-8ca9-0a42392d9873\">\n",
              "  <button class=\"colab-df-quickchart\" onclick=\"quickchart('df-e0137ef8-0b70-4d9b-8ca9-0a42392d9873')\"\n",
              "            title=\"Suggest charts\"\n",
              "            style=\"display:none;\">\n",
              "\n",
              "<svg xmlns=\"http://www.w3.org/2000/svg\" height=\"24px\"viewBox=\"0 0 24 24\"\n",
              "     width=\"24px\">\n",
              "    <g>\n",
              "        <path d=\"M19 3H5c-1.1 0-2 .9-2 2v14c0 1.1.9 2 2 2h14c1.1 0 2-.9 2-2V5c0-1.1-.9-2-2-2zM9 17H7v-7h2v7zm4 0h-2V7h2v10zm4 0h-2v-4h2v4z\"/>\n",
              "    </g>\n",
              "</svg>\n",
              "  </button>\n",
              "\n",
              "<style>\n",
              "  .colab-df-quickchart {\n",
              "      --bg-color: #E8F0FE;\n",
              "      --fill-color: #1967D2;\n",
              "      --hover-bg-color: #E2EBFA;\n",
              "      --hover-fill-color: #174EA6;\n",
              "      --disabled-fill-color: #AAA;\n",
              "      --disabled-bg-color: #DDD;\n",
              "  }\n",
              "\n",
              "  [theme=dark] .colab-df-quickchart {\n",
              "      --bg-color: #3B4455;\n",
              "      --fill-color: #D2E3FC;\n",
              "      --hover-bg-color: #434B5C;\n",
              "      --hover-fill-color: #FFFFFF;\n",
              "      --disabled-bg-color: #3B4455;\n",
              "      --disabled-fill-color: #666;\n",
              "  }\n",
              "\n",
              "  .colab-df-quickchart {\n",
              "    background-color: var(--bg-color);\n",
              "    border: none;\n",
              "    border-radius: 50%;\n",
              "    cursor: pointer;\n",
              "    display: none;\n",
              "    fill: var(--fill-color);\n",
              "    height: 32px;\n",
              "    padding: 0;\n",
              "    width: 32px;\n",
              "  }\n",
              "\n",
              "  .colab-df-quickchart:hover {\n",
              "    background-color: var(--hover-bg-color);\n",
              "    box-shadow: 0 1px 2px rgba(60, 64, 67, 0.3), 0 1px 3px 1px rgba(60, 64, 67, 0.15);\n",
              "    fill: var(--button-hover-fill-color);\n",
              "  }\n",
              "\n",
              "  .colab-df-quickchart-complete:disabled,\n",
              "  .colab-df-quickchart-complete:disabled:hover {\n",
              "    background-color: var(--disabled-bg-color);\n",
              "    fill: var(--disabled-fill-color);\n",
              "    box-shadow: none;\n",
              "  }\n",
              "\n",
              "  .colab-df-spinner {\n",
              "    border: 2px solid var(--fill-color);\n",
              "    border-color: transparent;\n",
              "    border-bottom-color: var(--fill-color);\n",
              "    animation:\n",
              "      spin 1s steps(1) infinite;\n",
              "  }\n",
              "\n",
              "  @keyframes spin {\n",
              "    0% {\n",
              "      border-color: transparent;\n",
              "      border-bottom-color: var(--fill-color);\n",
              "      border-left-color: var(--fill-color);\n",
              "    }\n",
              "    20% {\n",
              "      border-color: transparent;\n",
              "      border-left-color: var(--fill-color);\n",
              "      border-top-color: var(--fill-color);\n",
              "    }\n",
              "    30% {\n",
              "      border-color: transparent;\n",
              "      border-left-color: var(--fill-color);\n",
              "      border-top-color: var(--fill-color);\n",
              "      border-right-color: var(--fill-color);\n",
              "    }\n",
              "    40% {\n",
              "      border-color: transparent;\n",
              "      border-right-color: var(--fill-color);\n",
              "      border-top-color: var(--fill-color);\n",
              "    }\n",
              "    60% {\n",
              "      border-color: transparent;\n",
              "      border-right-color: var(--fill-color);\n",
              "    }\n",
              "    80% {\n",
              "      border-color: transparent;\n",
              "      border-right-color: var(--fill-color);\n",
              "      border-bottom-color: var(--fill-color);\n",
              "    }\n",
              "    90% {\n",
              "      border-color: transparent;\n",
              "      border-bottom-color: var(--fill-color);\n",
              "    }\n",
              "  }\n",
              "</style>\n",
              "\n",
              "  <script>\n",
              "    async function quickchart(key) {\n",
              "      const quickchartButtonEl =\n",
              "        document.querySelector('#' + key + ' button');\n",
              "      quickchartButtonEl.disabled = true;  // To prevent multiple clicks.\n",
              "      quickchartButtonEl.classList.add('colab-df-spinner');\n",
              "      try {\n",
              "        const charts = await google.colab.kernel.invokeFunction(\n",
              "            'suggestCharts', [key], {});\n",
              "      } catch (error) {\n",
              "        console.error('Error during call to suggestCharts:', error);\n",
              "      }\n",
              "      quickchartButtonEl.classList.remove('colab-df-spinner');\n",
              "      quickchartButtonEl.classList.add('colab-df-quickchart-complete');\n",
              "    }\n",
              "    (() => {\n",
              "      let quickchartButtonEl =\n",
              "        document.querySelector('#df-e0137ef8-0b70-4d9b-8ca9-0a42392d9873 button');\n",
              "      quickchartButtonEl.style.display =\n",
              "        google.colab.kernel.accessAllowed ? 'block' : 'none';\n",
              "    })();\n",
              "  </script>\n",
              "</div>\n",
              "\n",
              "    </div>\n",
              "  </div>\n"
            ],
            "application/vnd.google.colaboratory.intrinsic+json": {
              "type": "dataframe",
              "variable_name": "train",
              "summary": "{\n  \"name\": \"train\",\n  \"rows\": 7900,\n  \"fields\": [\n    {\n      \"column\": \"id\",\n      \"properties\": {\n        \"dtype\": \"number\",\n        \"std\": 2853,\n        \"min\": 1,\n        \"max\": 9874,\n        \"num_unique_values\": 7900,\n        \"samples\": [\n          5889,\n          6273,\n          5084\n        ],\n        \"semantic_type\": \"\",\n        \"description\": \"\"\n      }\n    },\n    {\n      \"column\": \"title\",\n      \"properties\": {\n        \"dtype\": \"string\",\n        \"num_unique_values\": 7851,\n        \"samples\": [\n          \"Add \\\"Run Configurations...\\\" to the global toolbar dropdown\",\n          \"Move Run > iOS Device action to ios plugin(s)\",\n          \"Allow tapping a stream prior to stream creation without specifying module name\"\n        ],\n        \"semantic_type\": \"\",\n        \"description\": \"\"\n      }\n    },\n    {\n      \"column\": \"description\",\n      \"properties\": {\n        \"dtype\": \"string\",\n        \"num_unique_values\": 7810,\n        \"samples\": [\n          \"We need to be able to support V1 (Python) and V2 (Node.js) of the SDKs directly.    # Create an extension point which describes the SDK per version range (< 2.2 is v1, >= 2.2 is v2), and allow contributing commands that are designed to run on a specific CLI.  # The extension will return a 'command' to run by asking for a specific command key and passing the SDK version to filter by. A returned command will then be executed and provide progress as it's being executed.  # When the CLI has no support for a specific command, a 'no-op' command (or null) can be returned.    The extension should also allow querying for a command on a specified CLI version (V1/V2). \",\n          \"cgroups_subsystems is a slave flag that is no longer used and should be deprecated.\",\n          \"I'm parsing an XML date into a {{java.lang.Date}}. Parsing works when the process is run from Studio. When the process is started from the standalone process engine, I get this exception in the log:    {noformat}SCHWERWIEGEND: Error while evaluating the groovy expressions.  org.ow2.bonita.util.GroovyException: Exception while evaluating expression. ActivityInstanceUUID: Rent_a_car--1.2--1--Show_reservation--it1--mainActivityInstance--noLoop cause:  Unparseable date: \\\"Sun Sep 23 00:00:00 CEST 2012\\\"  java.text.ParseException: Unparseable date: \\\"Sun Sep 23 00:00:00 CEST 2012\\\"    java.text.DateFormat.parse(DateFormat.java:337)    org.codehaus.groovy.runtime.DefaultGroovyStaticMethods.parse(DefaultGroovyStaticMethods.java:181)  {noformat}\"\n        ],\n        \"semantic_type\": \"\",\n        \"description\": \"\"\n      }\n    },\n    {\n      \"column\": \"project\",\n      \"properties\": {\n        \"dtype\": \"category\",\n        \"num_unique_values\": 8,\n        \"samples\": [\n          \"project6\",\n          \"project3\",\n          \"project8\"\n        ],\n        \"semantic_type\": \"\",\n        \"description\": \"\"\n      }\n    },\n    {\n      \"column\": \"storypoint\",\n      \"properties\": {\n        \"dtype\": \"number\",\n        \"std\": 3,\n        \"min\": 1,\n        \"max\": 40,\n        \"num_unique_values\": 20,\n        \"samples\": [\n          3,\n          14,\n          21\n        ],\n        \"semantic_type\": \"\",\n        \"description\": \"\"\n      }\n    }\n  ]\n}"
            }
          },
          "metadata": {},
          "execution_count": 5
        }
      ],
      "source": [
        "train.head(5)"
      ]
    },
    {
      "cell_type": "code",
      "execution_count": null,
      "metadata": {
        "colab": {
          "base_uri": "https://localhost:8080/"
        },
        "id": "PdWnc6o5lnog",
        "outputId": "0be2b7c5-a80d-4638-ccfa-5150a94a9540"
      },
      "outputs": [
        {
          "output_type": "execute_result",
          "data": {
            "text/plain": [
              "(1975, 4)"
            ]
          },
          "metadata": {},
          "execution_count": 6
        }
      ],
      "source": [
        "test.shape"
      ]
    },
    {
      "cell_type": "code",
      "execution_count": null,
      "metadata": {
        "colab": {
          "base_uri": "https://localhost:8080/",
          "height": 206
        },
        "id": "NzBlil7OPd3N",
        "outputId": "b0828171-a7b6-4aba-c554-1c2dc5ccc960"
      },
      "outputs": [
        {
          "output_type": "execute_result",
          "data": {
            "text/plain": [
              "     id                                              title  \\\n",
              "0  3433  Add Run > Tizen Emulator menu action in App an...   \n",
              "1   106                           Chrome & IE mis-behavior   \n",
              "2  7182  Problems with Publishing routes (on release re...   \n",
              "3  8985  Redis sink: better handling of module options/...   \n",
              "4  2149                     java0.log generated by the SAM   \n",
              "\n",
              "                                         description   project  \n",
              "0  The action will create the launch shortcut for...  project8  \n",
              "1  On Wed, Aug 4, 2010 at 12:21 PM, Bryan Beecher...  project2  \n",
              "2  I have a problem with publishing routes in Nex...  project1  \n",
              "3  Please see the discussion here:  https://githu...  project6  \n",
              "4  I found an issue on the TAC 5.2.1, a java0.log...  project1  "
            ],
            "text/html": [
              "\n",
              "  <div id=\"df-9021cef1-a475-4175-9704-5a63873a4ec4\" class=\"colab-df-container\">\n",
              "    <div>\n",
              "<style scoped>\n",
              "    .dataframe tbody tr th:only-of-type {\n",
              "        vertical-align: middle;\n",
              "    }\n",
              "\n",
              "    .dataframe tbody tr th {\n",
              "        vertical-align: top;\n",
              "    }\n",
              "\n",
              "    .dataframe thead th {\n",
              "        text-align: right;\n",
              "    }\n",
              "</style>\n",
              "<table border=\"1\" class=\"dataframe\">\n",
              "  <thead>\n",
              "    <tr style=\"text-align: right;\">\n",
              "      <th></th>\n",
              "      <th>id</th>\n",
              "      <th>title</th>\n",
              "      <th>description</th>\n",
              "      <th>project</th>\n",
              "    </tr>\n",
              "  </thead>\n",
              "  <tbody>\n",
              "    <tr>\n",
              "      <th>0</th>\n",
              "      <td>3433</td>\n",
              "      <td>Add Run &gt; Tizen Emulator menu action in App an...</td>\n",
              "      <td>The action will create the launch shortcut for...</td>\n",
              "      <td>project8</td>\n",
              "    </tr>\n",
              "    <tr>\n",
              "      <th>1</th>\n",
              "      <td>106</td>\n",
              "      <td>Chrome &amp; IE mis-behavior</td>\n",
              "      <td>On Wed, Aug 4, 2010 at 12:21 PM, Bryan Beecher...</td>\n",
              "      <td>project2</td>\n",
              "    </tr>\n",
              "    <tr>\n",
              "      <th>2</th>\n",
              "      <td>7182</td>\n",
              "      <td>Problems with Publishing routes (on release re...</td>\n",
              "      <td>I have a problem with publishing routes in Nex...</td>\n",
              "      <td>project1</td>\n",
              "    </tr>\n",
              "    <tr>\n",
              "      <th>3</th>\n",
              "      <td>8985</td>\n",
              "      <td>Redis sink: better handling of module options/...</td>\n",
              "      <td>Please see the discussion here:  https://githu...</td>\n",
              "      <td>project6</td>\n",
              "    </tr>\n",
              "    <tr>\n",
              "      <th>4</th>\n",
              "      <td>2149</td>\n",
              "      <td>java0.log generated by the SAM</td>\n",
              "      <td>I found an issue on the TAC 5.2.1, a java0.log...</td>\n",
              "      <td>project1</td>\n",
              "    </tr>\n",
              "  </tbody>\n",
              "</table>\n",
              "</div>\n",
              "    <div class=\"colab-df-buttons\">\n",
              "\n",
              "  <div class=\"colab-df-container\">\n",
              "    <button class=\"colab-df-convert\" onclick=\"convertToInteractive('df-9021cef1-a475-4175-9704-5a63873a4ec4')\"\n",
              "            title=\"Convert this dataframe to an interactive table.\"\n",
              "            style=\"display:none;\">\n",
              "\n",
              "  <svg xmlns=\"http://www.w3.org/2000/svg\" height=\"24px\" viewBox=\"0 -960 960 960\">\n",
              "    <path d=\"M120-120v-720h720v720H120Zm60-500h600v-160H180v160Zm220 220h160v-160H400v160Zm0 220h160v-160H400v160ZM180-400h160v-160H180v160Zm440 0h160v-160H620v160ZM180-180h160v-160H180v160Zm440 0h160v-160H620v160Z\"/>\n",
              "  </svg>\n",
              "    </button>\n",
              "\n",
              "  <style>\n",
              "    .colab-df-container {\n",
              "      display:flex;\n",
              "      gap: 12px;\n",
              "    }\n",
              "\n",
              "    .colab-df-convert {\n",
              "      background-color: #E8F0FE;\n",
              "      border: none;\n",
              "      border-radius: 50%;\n",
              "      cursor: pointer;\n",
              "      display: none;\n",
              "      fill: #1967D2;\n",
              "      height: 32px;\n",
              "      padding: 0 0 0 0;\n",
              "      width: 32px;\n",
              "    }\n",
              "\n",
              "    .colab-df-convert:hover {\n",
              "      background-color: #E2EBFA;\n",
              "      box-shadow: 0px 1px 2px rgba(60, 64, 67, 0.3), 0px 1px 3px 1px rgba(60, 64, 67, 0.15);\n",
              "      fill: #174EA6;\n",
              "    }\n",
              "\n",
              "    .colab-df-buttons div {\n",
              "      margin-bottom: 4px;\n",
              "    }\n",
              "\n",
              "    [theme=dark] .colab-df-convert {\n",
              "      background-color: #3B4455;\n",
              "      fill: #D2E3FC;\n",
              "    }\n",
              "\n",
              "    [theme=dark] .colab-df-convert:hover {\n",
              "      background-color: #434B5C;\n",
              "      box-shadow: 0px 1px 3px 1px rgba(0, 0, 0, 0.15);\n",
              "      filter: drop-shadow(0px 1px 2px rgba(0, 0, 0, 0.3));\n",
              "      fill: #FFFFFF;\n",
              "    }\n",
              "  </style>\n",
              "\n",
              "    <script>\n",
              "      const buttonEl =\n",
              "        document.querySelector('#df-9021cef1-a475-4175-9704-5a63873a4ec4 button.colab-df-convert');\n",
              "      buttonEl.style.display =\n",
              "        google.colab.kernel.accessAllowed ? 'block' : 'none';\n",
              "\n",
              "      async function convertToInteractive(key) {\n",
              "        const element = document.querySelector('#df-9021cef1-a475-4175-9704-5a63873a4ec4');\n",
              "        const dataTable =\n",
              "          await google.colab.kernel.invokeFunction('convertToInteractive',\n",
              "                                                    [key], {});\n",
              "        if (!dataTable) return;\n",
              "\n",
              "        const docLinkHtml = 'Like what you see? Visit the ' +\n",
              "          '<a target=\"_blank\" href=https://colab.research.google.com/notebooks/data_table.ipynb>data table notebook</a>'\n",
              "          + ' to learn more about interactive tables.';\n",
              "        element.innerHTML = '';\n",
              "        dataTable['output_type'] = 'display_data';\n",
              "        await google.colab.output.renderOutput(dataTable, element);\n",
              "        const docLink = document.createElement('div');\n",
              "        docLink.innerHTML = docLinkHtml;\n",
              "        element.appendChild(docLink);\n",
              "      }\n",
              "    </script>\n",
              "  </div>\n",
              "\n",
              "\n",
              "<div id=\"df-77da0305-0bb7-4eb9-9448-bd4886dddef0\">\n",
              "  <button class=\"colab-df-quickchart\" onclick=\"quickchart('df-77da0305-0bb7-4eb9-9448-bd4886dddef0')\"\n",
              "            title=\"Suggest charts\"\n",
              "            style=\"display:none;\">\n",
              "\n",
              "<svg xmlns=\"http://www.w3.org/2000/svg\" height=\"24px\"viewBox=\"0 0 24 24\"\n",
              "     width=\"24px\">\n",
              "    <g>\n",
              "        <path d=\"M19 3H5c-1.1 0-2 .9-2 2v14c0 1.1.9 2 2 2h14c1.1 0 2-.9 2-2V5c0-1.1-.9-2-2-2zM9 17H7v-7h2v7zm4 0h-2V7h2v10zm4 0h-2v-4h2v4z\"/>\n",
              "    </g>\n",
              "</svg>\n",
              "  </button>\n",
              "\n",
              "<style>\n",
              "  .colab-df-quickchart {\n",
              "      --bg-color: #E8F0FE;\n",
              "      --fill-color: #1967D2;\n",
              "      --hover-bg-color: #E2EBFA;\n",
              "      --hover-fill-color: #174EA6;\n",
              "      --disabled-fill-color: #AAA;\n",
              "      --disabled-bg-color: #DDD;\n",
              "  }\n",
              "\n",
              "  [theme=dark] .colab-df-quickchart {\n",
              "      --bg-color: #3B4455;\n",
              "      --fill-color: #D2E3FC;\n",
              "      --hover-bg-color: #434B5C;\n",
              "      --hover-fill-color: #FFFFFF;\n",
              "      --disabled-bg-color: #3B4455;\n",
              "      --disabled-fill-color: #666;\n",
              "  }\n",
              "\n",
              "  .colab-df-quickchart {\n",
              "    background-color: var(--bg-color);\n",
              "    border: none;\n",
              "    border-radius: 50%;\n",
              "    cursor: pointer;\n",
              "    display: none;\n",
              "    fill: var(--fill-color);\n",
              "    height: 32px;\n",
              "    padding: 0;\n",
              "    width: 32px;\n",
              "  }\n",
              "\n",
              "  .colab-df-quickchart:hover {\n",
              "    background-color: var(--hover-bg-color);\n",
              "    box-shadow: 0 1px 2px rgba(60, 64, 67, 0.3), 0 1px 3px 1px rgba(60, 64, 67, 0.15);\n",
              "    fill: var(--button-hover-fill-color);\n",
              "  }\n",
              "\n",
              "  .colab-df-quickchart-complete:disabled,\n",
              "  .colab-df-quickchart-complete:disabled:hover {\n",
              "    background-color: var(--disabled-bg-color);\n",
              "    fill: var(--disabled-fill-color);\n",
              "    box-shadow: none;\n",
              "  }\n",
              "\n",
              "  .colab-df-spinner {\n",
              "    border: 2px solid var(--fill-color);\n",
              "    border-color: transparent;\n",
              "    border-bottom-color: var(--fill-color);\n",
              "    animation:\n",
              "      spin 1s steps(1) infinite;\n",
              "  }\n",
              "\n",
              "  @keyframes spin {\n",
              "    0% {\n",
              "      border-color: transparent;\n",
              "      border-bottom-color: var(--fill-color);\n",
              "      border-left-color: var(--fill-color);\n",
              "    }\n",
              "    20% {\n",
              "      border-color: transparent;\n",
              "      border-left-color: var(--fill-color);\n",
              "      border-top-color: var(--fill-color);\n",
              "    }\n",
              "    30% {\n",
              "      border-color: transparent;\n",
              "      border-left-color: var(--fill-color);\n",
              "      border-top-color: var(--fill-color);\n",
              "      border-right-color: var(--fill-color);\n",
              "    }\n",
              "    40% {\n",
              "      border-color: transparent;\n",
              "      border-right-color: var(--fill-color);\n",
              "      border-top-color: var(--fill-color);\n",
              "    }\n",
              "    60% {\n",
              "      border-color: transparent;\n",
              "      border-right-color: var(--fill-color);\n",
              "    }\n",
              "    80% {\n",
              "      border-color: transparent;\n",
              "      border-right-color: var(--fill-color);\n",
              "      border-bottom-color: var(--fill-color);\n",
              "    }\n",
              "    90% {\n",
              "      border-color: transparent;\n",
              "      border-bottom-color: var(--fill-color);\n",
              "    }\n",
              "  }\n",
              "</style>\n",
              "\n",
              "  <script>\n",
              "    async function quickchart(key) {\n",
              "      const quickchartButtonEl =\n",
              "        document.querySelector('#' + key + ' button');\n",
              "      quickchartButtonEl.disabled = true;  // To prevent multiple clicks.\n",
              "      quickchartButtonEl.classList.add('colab-df-spinner');\n",
              "      try {\n",
              "        const charts = await google.colab.kernel.invokeFunction(\n",
              "            'suggestCharts', [key], {});\n",
              "      } catch (error) {\n",
              "        console.error('Error during call to suggestCharts:', error);\n",
              "      }\n",
              "      quickchartButtonEl.classList.remove('colab-df-spinner');\n",
              "      quickchartButtonEl.classList.add('colab-df-quickchart-complete');\n",
              "    }\n",
              "    (() => {\n",
              "      let quickchartButtonEl =\n",
              "        document.querySelector('#df-77da0305-0bb7-4eb9-9448-bd4886dddef0 button');\n",
              "      quickchartButtonEl.style.display =\n",
              "        google.colab.kernel.accessAllowed ? 'block' : 'none';\n",
              "    })();\n",
              "  </script>\n",
              "</div>\n",
              "\n",
              "    </div>\n",
              "  </div>\n"
            ],
            "application/vnd.google.colaboratory.intrinsic+json": {
              "type": "dataframe",
              "variable_name": "test",
              "summary": "{\n  \"name\": \"test\",\n  \"rows\": 1975,\n  \"fields\": [\n    {\n      \"column\": \"id\",\n      \"properties\": {\n        \"dtype\": \"number\",\n        \"std\": 2841,\n        \"min\": 0,\n        \"max\": 9873,\n        \"num_unique_values\": 1975,\n        \"samples\": [\n          4165,\n          3411,\n          3082\n        ],\n        \"semantic_type\": \"\",\n        \"description\": \"\"\n      }\n    },\n    {\n      \"column\": \"title\",\n      \"properties\": {\n        \"dtype\": \"string\",\n        \"num_unique_values\": 1974,\n        \"samples\": [\n          \"Add configurable HADOOP_USER_NAME support\",\n          \"PropertySource leakage between runtime and modules\",\n          \"The default size of modules table in tiapp is reduced\"\n        ],\n        \"semantic_type\": \"\",\n        \"description\": \"\"\n      }\n    },\n    {\n      \"column\": \"description\",\n      \"properties\": {\n        \"dtype\": \"string\",\n        \"num_unique_values\": 1969,\n        \"samples\": [\n          \"relevant to examples:  examples\\\\talend\\\\camel\\\\jaxrs-jms-http\\\\  examples\\\\talend\\\\camel\\\\jaxws-jms\\\\    Try to start the broker in container:  features:install activemq-spring  activemq:create-broker    Port 61616 do not established, no errors in log\",\n          \"The jobs aren't spread evenly across available container nodes as they are created/deployed. I had 3 nodes but only one has the job modules.    [zk: localhost:2181(CONNECTED) 56] ls /xd/deployments/modules/621230e0-a089-4fbe-afc8-611ae527fcbc  [myjob9.job.jdbchdfs-0, myjob5.job.jdbchdfs-0, myjob8.job.jdbchdfs-0, myjob4.job.jdbchdfs-0, myjob6.job.jdbchdfs-0, myjob7.job.jdbchdfs-0]  [zk: localhost:2181(CONNECTED) 57] ls /xd/deployments/modules/6969579c-0cf4-4cc1-8e21-e01d73a70965  []  [zk: localhost:2181(CONNECTED) 58] ls /xd/deployments/modules/d0667cd1-a57a-4279-b7fb-dd63e4dd40d4  []    \",\n          \"This update is to modify app-config, SecurityUserBean, and security-users.xsd, as appropriate to support the inclusion of ACL 'groups' during instance initialization.\"\n        ],\n        \"semantic_type\": \"\",\n        \"description\": \"\"\n      }\n    },\n    {\n      \"column\": \"project\",\n      \"properties\": {\n        \"dtype\": \"category\",\n        \"num_unique_values\": 8,\n        \"samples\": [\n          \"project2\",\n          \"project3\",\n          \"project8\"\n        ],\n        \"semantic_type\": \"\",\n        \"description\": \"\"\n      }\n    }\n  ]\n}"
            }
          },
          "metadata": {},
          "execution_count": 7
        }
      ],
      "source": [
        "test.head(5)"
      ]
    },
    {
      "cell_type": "code",
      "execution_count": null,
      "metadata": {
        "colab": {
          "base_uri": "https://localhost:8080/"
        },
        "id": "QTKuxcwpxRkS",
        "outputId": "f27e2ec2-07b4-422d-b81b-9afbd06b1db3"
      },
      "outputs": [
        {
          "output_type": "stream",
          "name": "stdout",
          "text": [
            "                                            description  storypoint\n",
            "7850  After the agent's {{/containers}} endpoint is ...           2\n",
            "2495  Get a java.io.File and copy it into HDFS.  Cou...           8\n",
            "3808  As a developer, I'd like to rerun _baseline_, ...           8\n",
            "7322  As a user, I'd like to have Spring 'Core' upgr...           3\n",
            "834   This is an extension of TISTUD-5241. When the ...           5\n",
            "5682  PUT call to an organization's app to update ac...           3\n",
            "1177  Small follow up story to XD-2094 to improve to...           1\n",
            "6726  h5. Problem description      Under Windows, se...           8\n",
            "2407  In Titanium Developer the console output color...           1\n",
            "729   As the use of the OSGi container and PAX-tooli...           2\n",
            "325   Docs currently talk about resources, static/dy...           2\n",
            "2119  We should add execution of the {{support/test-...           5\n",
            "5009  The {{/state}} and {{/flags}} endpoints are in...           3\n",
            "7041  I'm getting an NPE in my dev environment. IOSS...           3\n",
            "7296  This improvement is to determine a way to allo...           2\n",
            "3733  Appcelerator Studio sets invalid {{proxyServer...           5\n",
            "7796  Query parameters for resolution, from, and to ...           1\n",
            "1909  After the quick fix is applied to create a eve...           3\n",
            "4827  Starting teh shell without having admin runnin...           3\n",
            "2362  When debugging on device, Studio launches two ...           8\n"
          ]
        }
      ],
      "source": [
        "# muestra de descripciones y sus respectivos story points\n",
        "sample_data = train[['description', 'storypoint']].sample(20, random_state=1)\n",
        "print(sample_data)"
      ]
    },
    {
      "cell_type": "code",
      "execution_count": null,
      "metadata": {
        "colab": {
          "base_uri": "https://localhost:8080/"
        },
        "id": "faIl6qKvJz8k",
        "outputId": "52866ae6-770c-48fb-9a75-17731aab672c"
      },
      "outputs": [
        {
          "output_type": "stream",
          "name": "stdout",
          "text": [
            "id             0\n",
            "title          0\n",
            "description    0\n",
            "project        0\n",
            "storypoint     0\n",
            "dtype: int64\n"
          ]
        }
      ],
      "source": [
        "# valores nulos en el dataset de entrenamiento\n",
        "print(train.isnull().sum())"
      ]
    },
    {
      "cell_type": "code",
      "execution_count": null,
      "metadata": {
        "colab": {
          "base_uri": "https://localhost:8080/",
          "height": 488
        },
        "id": "Z0GOrlcAKQ-0",
        "outputId": "ff1f1cff-f03a-4d72-fb33-b46471e22b53"
      },
      "outputs": [
        {
          "output_type": "display_data",
          "data": {
            "text/plain": [
              "<Figure size 1000x500 with 1 Axes>"
            ],
            "image/png": "[encoded data removed]"
          },
          "metadata": {}
        }
      ],
      "source": [
        "import matplotlib.pyplot as plt\n",
        "import seaborn as sns\n",
        "\n",
        "# distribución de storypoint\n",
        "plt.figure(figsize=(10, 5))\n",
        "sns.histplot(train['storypoint'], bins=30, kde=True)\n",
        "plt.title('Distribución de Story Points')\n",
        "plt.xlabel('Story Points')\n",
        "plt.ylabel('Frecuencia')\n",
        "plt.show()"
      ]
    },
    {
      "cell_type": "code",
      "execution_count": null,
      "metadata": {
        "colab": {
          "base_uri": "https://localhost:8080/"
        },
        "id": "gUthaoVlKiHo",
        "outputId": "f27dd156-8f01-49f5-b703-5ca9fc2e70d5"
      },
      "outputs": [
        {
          "output_type": "stream",
          "name": "stdout",
          "text": [
            "       title_length  description_length\n",
            "count   7900.000000         7900.000000\n",
            "mean       8.778481           80.886582\n",
            "std        4.108608          163.114426\n",
            "min        1.000000            1.000000\n",
            "25%        6.000000           26.000000\n",
            "50%        8.000000           47.000000\n",
            "75%       11.000000           85.000000\n",
            "max       36.000000         2074.000000\n"
          ]
        }
      ],
      "source": [
        "# Creación de nuevas features: longitud de título y descripción\n",
        "train['title_length'] = train['title'].apply(lambda x: len(x.split()))\n",
        "train['description_length'] = train['description'].apply(lambda x: len(x.split()))\n",
        "\n",
        "# Creación de nuevas features en test\n",
        "test['title_length'] = test['title'].apply(lambda x: len(x.split()))\n",
        "test['description_length'] = test['description'].apply(lambda x: len(x.split()))\n",
        "\n",
        "print(train[['title_length', 'description_length']].describe())"
      ]
    },
    {
      "cell_type": "code",
      "execution_count": null,
      "metadata": {
        "colab": {
          "base_uri": "https://localhost:8080/",
          "height": 488
        },
        "id": "-o0MLN6nKnE3",
        "outputId": "1bbfe138-b157-458c-f317-701b85c44aef"
      },
      "outputs": [
        {
          "output_type": "display_data",
          "data": {
            "text/plain": [
              "<Figure size 1000x500 with 1 Axes>"
            ],
            "image/png": "[encoded data removed]"
          },
          "metadata": {}
        }
      ],
      "source": [
        "# Gráfico de dispersión para longitud de descripción vs. storypoint\n",
        "plt.figure(figsize=(10, 5))\n",
        "sns.scatterplot(data=train, x='description_length', y='storypoint')\n",
        "plt.title('Relación entre longitud de la descripción y Story Points')\n",
        "plt.xlabel('Longitud de la descripción (palabras)')\n",
        "plt.ylabel('Story Points')\n",
        "plt.show()"
      ]
    },
    {
      "cell_type": "code",
      "execution_count": null,
      "metadata": {
        "colab": {
          "base_uri": "https://localhost:8080/",
          "height": 488
        },
        "id": "SVL468TqKpp8",
        "outputId": "4e3f9ce3-98ce-4fed-885a-c00df42a57dc"
      },
      "outputs": [
        {
          "output_type": "display_data",
          "data": {
            "text/plain": [
              "<Figure size 1000x500 with 1 Axes>"
            ],
            "image/png": "[encoded data removed]"
          },
          "metadata": {}
        }
      ],
      "source": [
        "# Gráfico de dispersión para longitud de título vs. storypoint\n",
        "plt.figure(figsize=(10, 5))\n",
        "sns.scatterplot(data=train, x='title_length', y='storypoint')\n",
        "plt.title('Relación entre longitud del título y Story Points')\n",
        "plt.xlabel('Longitud del título (palabras)')\n",
        "plt.ylabel('Story Points')\n",
        "plt.show()"
      ]
    },
    {
      "cell_type": "code",
      "execution_count": null,
      "metadata": {
        "colab": {
          "base_uri": "https://localhost:8080/",
          "height": 559
        },
        "id": "uRNUSclZKjP8",
        "outputId": "ea103323-9e38-4832-f141-eb029c0e8bc5"
      },
      "outputs": [
        {
          "output_type": "display_data",
          "data": {
            "text/plain": [
              "<Figure size 1200x600 with 1 Axes>"
            ],
            "image/png": "[encoded data removed]"
          },
          "metadata": {}
        }
      ],
      "source": [
        "# ejemplos por proyecto\n",
        "plt.figure(figsize=(12, 6))\n",
        "sns.countplot(data=train, x='project', order=train['project'].value_counts().index)\n",
        "plt.title('Número de ejemplos por Proyecto')\n",
        "plt.xlabel('Proyecto')\n",
        "plt.ylabel('Frecuencia')\n",
        "plt.xticks(rotation=45)\n",
        "plt.show()"
      ]
    },
    {
      "cell_type": "code",
      "execution_count": null,
      "metadata": {
        "colab": {
          "base_uri": "https://localhost:8080/",
          "height": 582
        },
        "id": "1dgVbd6MKtkV",
        "outputId": "0bc310a9-e816-47c1-ccaa-4eb9b54e63cd"
      },
      "outputs": [
        {
          "output_type": "display_data",
          "data": {
            "text/plain": [
              "<Figure size 1500x800 with 1 Axes>"
            ],
            "image/png": "[encoded data removed]"
          },
          "metadata": {}
        }
      ],
      "source": [
        "# relación entre el proyecto y los story points\n",
        "plt.figure(figsize=(15, 8))\n",
        "sns.boxplot(data=train, x='project', y='storypoint', order=train['project'].value_counts().index)\n",
        "plt.title('Distribución de Story Points por Proyecto')\n",
        "plt.xlabel('Proyecto')\n",
        "plt.ylabel('Story Points')\n",
        "plt.xticks(rotation=45)\n",
        "plt.show()"
      ]
    },
    {
      "cell_type": "markdown",
      "metadata": {
        "id": "9jgBkcP9K0bk"
      },
      "source": [
        "Decidimos aplicar One-Hot Encoding a la columna \"project\" ya que notamos cierta relación con el \"Storypoint\""
      ]
    },
    {
      "cell_type": "code",
      "execution_count": null,
      "metadata": {
        "id": "XE-1sk6MKz38"
      },
      "outputs": [],
      "source": [
        "# One-Hot Encoding a la columna 'project'\n",
        "train = pd.get_dummies(train, columns=['project'], prefix='project')\n",
        "test = pd.get_dummies(test, columns=['project'], prefix='project')\n",
        "\n",
        "# Alinear columnas de train y test para asegurar consistencia\n",
        "train, test = train.align(test, join='left', axis=1, fill_value=0)"
      ]
    },
    {
      "cell_type": "code",
      "execution_count": null,
      "metadata": {
        "id": "bBXTBTi3LDM0"
      },
      "outputs": [],
      "source": [
        "# Concatenar title y description\n",
        "train['text'] = train['title'] + ' ' + train['description']\n",
        "test['text'] = test['title'] + ' ' + test['description']"
      ]
    },
    {
      "cell_type": "code",
      "execution_count": null,
      "metadata": {
        "colab": {
          "base_uri": "https://localhost:8080/",
          "height": 504
        },
        "id": "S43oBvzpLGuT",
        "outputId": "bad6fa97-3e0f-440c-b241-3f3ca9f215be"
      },
      "outputs": [
        {
          "output_type": "execute_result",
          "data": {
            "text/plain": [
              "     id                                              title  \\\n",
              "0  5660  Error enabling Appcelerator services during ap...   \n",
              "1  9014                        Create a maintenance branch   \n",
              "2  4094  Service Activity Monitoring Backend integrated...   \n",
              "3   811  fs::enter(rootfs) does not work if 'rootfs' is...   \n",
              "4  4459   transform processor with script option is broken   \n",
              "\n",
              "                                         description  storypoint  \\\n",
              "0  When creating the default app, I encountered t...           3   \n",
              "1  As a developer, I'd like to have a maintenance...           5   \n",
              "2                            SAM API used by SAM GUI           5   \n",
              "3  I noticed this when I was testing the unified ...           2   \n",
              "4  Creating the following stream throws exception...           2   \n",
              "\n",
              "   title_length  description_length  project_project1  project_project2  \\\n",
              "0             7                  27             False             False   \n",
              "1             4                  26             False             False   \n",
              "2             8                   6              True             False   \n",
              "3             9                  81             False             False   \n",
              "4             7                  52             False             False   \n",
              "\n",
              "   project_project3  project_project4  project_project5  project_project6  \\\n",
              "0             False             False             False             False   \n",
              "1             False             False             False              True   \n",
              "2             False             False             False             False   \n",
              "3             False             False              True             False   \n",
              "4             False             False             False              True   \n",
              "\n",
              "   project_project7  project_project8  \\\n",
              "0             False              True   \n",
              "1             False             False   \n",
              "2             False             False   \n",
              "3             False             False   \n",
              "4             False             False   \n",
              "\n",
              "                                                text  \n",
              "0  Error enabling Appcelerator services during ap...  \n",
              "1  Create a maintenance branch As a developer, I'...  \n",
              "2  Service Activity Monitoring Backend integrated...  \n",
              "3  fs::enter(rootfs) does not work if 'rootfs' is...  \n",
              "4  transform processor with script option is brok...  "
            ],
            "text/html": [
              "\n",
              "  <div id=\"df-ead30edc-5e18-4657-91b1-341976b0c422\" class=\"colab-df-container\">\n",
              "    <div>\n",
              "<style scoped>\n",
              "    .dataframe tbody tr th:only-of-type {\n",
              "        vertical-align: middle;\n",
              "    }\n",
              "\n",
              "    .dataframe tbody tr th {\n",
              "        vertical-align: top;\n",
              "    }\n",
              "\n",
              "    .dataframe thead th {\n",
              "        text-align: right;\n",
              "    }\n",
              "</style>\n",
              "<table border=\"1\" class=\"dataframe\">\n",
              "  <thead>\n",
              "    <tr style=\"text-align: right;\">\n",
              "      <th></th>\n",
              "      <th>id</th>\n",
              "      <th>title</th>\n",
              "      <th>description</th>\n",
              "      <th>storypoint</th>\n",
              "      <th>title_length</th>\n",
              "      <th>description_length</th>\n",
              "      <th>project_project1</th>\n",
              "      <th>project_project2</th>\n",
              "      <th>project_project3</th>\n",
              "      <th>project_project4</th>\n",
              "      <th>project_project5</th>\n",
              "      <th>project_project6</th>\n",
              "      <th>project_project7</th>\n",
              "      <th>project_project8</th>\n",
              "      <th>text</th>\n",
              "    </tr>\n",
              "  </thead>\n",
              "  <tbody>\n",
              "    <tr>\n",
              "      <th>0</th>\n",
              "      <td>5660</td>\n",
              "      <td>Error enabling Appcelerator services during ap...</td>\n",
              "      <td>When creating the default app, I encountered t...</td>\n",
              "      <td>3</td>\n",
              "      <td>7</td>\n",
              "      <td>27</td>\n",
              "      <td>False</td>\n",
              "      <td>False</td>\n",
              "      <td>False</td>\n",
              "      <td>False</td>\n",
              "      <td>False</td>\n",
              "      <td>False</td>\n",
              "      <td>False</td>\n",
              "      <td>True</td>\n",
              "      <td>Error enabling Appcelerator services during ap...</td>\n",
              "    </tr>\n",
              "    <tr>\n",
              "      <th>1</th>\n",
              "      <td>9014</td>\n",
              "      <td>Create a maintenance branch</td>\n",
              "      <td>As a developer, I'd like to have a maintenance...</td>\n",
              "      <td>5</td>\n",
              "      <td>4</td>\n",
              "      <td>26</td>\n",
              "      <td>False</td>\n",
              "      <td>False</td>\n",
              "      <td>False</td>\n",
              "      <td>False</td>\n",
              "      <td>False</td>\n",
              "      <td>True</td>\n",
              "      <td>False</td>\n",
              "      <td>False</td>\n",
              "      <td>Create a maintenance branch As a developer, I'...</td>\n",
              "    </tr>\n",
              "    <tr>\n",
              "      <th>2</th>\n",
              "      <td>4094</td>\n",
              "      <td>Service Activity Monitoring Backend integrated...</td>\n",
              "      <td>SAM API used by SAM GUI</td>\n",
              "      <td>5</td>\n",
              "      <td>8</td>\n",
              "      <td>6</td>\n",
              "      <td>True</td>\n",
              "      <td>False</td>\n",
              "      <td>False</td>\n",
              "      <td>False</td>\n",
              "      <td>False</td>\n",
              "      <td>False</td>\n",
              "      <td>False</td>\n",
              "      <td>False</td>\n",
              "      <td>Service Activity Monitoring Backend integrated...</td>\n",
              "    </tr>\n",
              "    <tr>\n",
              "      <th>3</th>\n",
              "      <td>811</td>\n",
              "      <td>fs::enter(rootfs) does not work if 'rootfs' is...</td>\n",
              "      <td>I noticed this when I was testing the unified ...</td>\n",
              "      <td>2</td>\n",
              "      <td>9</td>\n",
              "      <td>81</td>\n",
              "      <td>False</td>\n",
              "      <td>False</td>\n",
              "      <td>False</td>\n",
              "      <td>False</td>\n",
              "      <td>True</td>\n",
              "      <td>False</td>\n",
              "      <td>False</td>\n",
              "      <td>False</td>\n",
              "      <td>fs::enter(rootfs) does not work if 'rootfs' is...</td>\n",
              "    </tr>\n",
              "    <tr>\n",
              "      <th>4</th>\n",
              "      <td>4459</td>\n",
              "      <td>transform processor with script option is broken</td>\n",
              "      <td>Creating the following stream throws exception...</td>\n",
              "      <td>2</td>\n",
              "      <td>7</td>\n",
              "      <td>52</td>\n",
              "      <td>False</td>\n",
              "      <td>False</td>\n",
              "      <td>False</td>\n",
              "      <td>False</td>\n",
              "      <td>False</td>\n",
              "      <td>True</td>\n",
              "      <td>False</td>\n",
              "      <td>False</td>\n",
              "      <td>transform processor with script option is brok...</td>\n",
              "    </tr>\n",
              "  </tbody>\n",
              "</table>\n",
              "</div>\n",
              "    <div class=\"colab-df-buttons\">\n",
              "\n",
              "  <div class=\"colab-df-container\">\n",
              "    <button class=\"colab-df-convert\" onclick=\"convertToInteractive('df-ead30edc-5e18-4657-91b1-341976b0c422')\"\n",
              "            title=\"Convert this dataframe to an interactive table.\"\n",
              "            style=\"display:none;\">\n",
              "\n",
              "  <svg xmlns=\"http://www.w3.org/2000/svg\" height=\"24px\" viewBox=\"0 -960 960 960\">\n",
              "    <path d=\"M120-120v-720h720v720H120Zm60-500h600v-160H180v160Zm220 220h160v-160H400v160Zm0 220h160v-160H400v160ZM180-400h160v-160H180v160Zm440 0h160v-160H620v160ZM180-180h160v-160H180v160Zm440 0h160v-160H620v160Z\"/>\n",
              "  </svg>\n",
              "    </button>\n",
              "\n",
              "  <style>\n",
              "    .colab-df-container {\n",
              "      display:flex;\n",
              "      gap: 12px;\n",
              "    }\n",
              "\n",
              "    .colab-df-convert {\n",
              "      background-color: #E8F0FE;\n",
              "      border: none;\n",
              "      border-radius: 50%;\n",
              "      cursor: pointer;\n",
              "      display: none;\n",
              "      fill: #1967D2;\n",
              "      height: 32px;\n",
              "      padding: 0 0 0 0;\n",
              "      width: 32px;\n",
              "    }\n",
              "\n",
              "    .colab-df-convert:hover {\n",
              "      background-color: #E2EBFA;\n",
              "      box-shadow: 0px 1px 2px rgba(60, 64, 67, 0.3), 0px 1px 3px 1px rgba(60, 64, 67, 0.15);\n",
              "      fill: #174EA6;\n",
              "    }\n",
              "\n",
              "    .colab-df-buttons div {\n",
              "      margin-bottom: 4px;\n",
              "    }\n",
              "\n",
              "    [theme=dark] .colab-df-convert {\n",
              "      background-color: #3B4455;\n",
              "      fill: #D2E3FC;\n",
              "    }\n",
              "\n",
              "    [theme=dark] .colab-df-convert:hover {\n",
              "      background-color: #434B5C;\n",
              "      box-shadow: 0px 1px 3px 1px rgba(0, 0, 0, 0.15);\n",
              "      filter: drop-shadow(0px 1px 2px rgba(0, 0, 0, 0.3));\n",
              "      fill: #FFFFFF;\n",
              "    }\n",
              "  </style>\n",
              "\n",
              "    <script>\n",
              "      const buttonEl =\n",
              "        document.querySelector('#df-ead30edc-5e18-4657-91b1-341976b0c422 button.colab-df-convert');\n",
              "      buttonEl.style.display =\n",
              "        google.colab.kernel.accessAllowed ? 'block' : 'none';\n",
              "\n",
              "      async function convertToInteractive(key) {\n",
              "        const element = document.querySelector('#df-ead30edc-5e18-4657-91b1-341976b0c422');\n",
              "        const dataTable =\n",
              "          await google.colab.kernel.invokeFunction('convertToInteractive',\n",
              "                                                    [key], {});\n",
              "        if (!dataTable) return;\n",
              "\n",
              "        const docLinkHtml = 'Like what you see? Visit the ' +\n",
              "          '<a target=\"_blank\" href=https://colab.research.google.com/notebooks/data_table.ipynb>data table notebook</a>'\n",
              "          + ' to learn more about interactive tables.';\n",
              "        element.innerHTML = '';\n",
              "        dataTable['output_type'] = 'display_data';\n",
              "        await google.colab.output.renderOutput(dataTable, element);\n",
              "        const docLink = document.createElement('div');\n",
              "        docLink.innerHTML = docLinkHtml;\n",
              "        element.appendChild(docLink);\n",
              "      }\n",
              "    </script>\n",
              "  </div>\n",
              "\n",
              "\n",
              "<div id=\"df-1c61617b-235e-4d49-a1d3-6dea79975ede\">\n",
              "  <button class=\"colab-df-quickchart\" onclick=\"quickchart('df-1c61617b-235e-4d49-a1d3-6dea79975ede')\"\n",
              "            title=\"Suggest charts\"\n",
              "            style=\"display:none;\">\n",
              "\n",
              "<svg xmlns=\"http://www.w3.org/2000/svg\" height=\"24px\"viewBox=\"0 0 24 24\"\n",
              "     width=\"24px\">\n",
              "    <g>\n",
              "        <path d=\"M19 3H5c-1.1 0-2 .9-2 2v14c0 1.1.9 2 2 2h14c1.1 0 2-.9 2-2V5c0-1.1-.9-2-2-2zM9 17H7v-7h2v7zm4 0h-2V7h2v10zm4 0h-2v-4h2v4z\"/>\n",
              "    </g>\n",
              "</svg>\n",
              "  </button>\n",
              "\n",
              "<style>\n",
              "  .colab-df-quickchart {\n",
              "      --bg-color: #E8F0FE;\n",
              "      --fill-color: #1967D2;\n",
              "      --hover-bg-color: #E2EBFA;\n",
              "      --hover-fill-color: #174EA6;\n",
              "      --disabled-fill-color: #AAA;\n",
              "      --disabled-bg-color: #DDD;\n",
              "  }\n",
              "\n",
              "  [theme=dark] .colab-df-quickchart {\n",
              "      --bg-color: #3B4455;\n",
              "      --fill-color: #D2E3FC;\n",
              "      --hover-bg-color: #434B5C;\n",
              "      --hover-fill-color: #FFFFFF;\n",
              "      --disabled-bg-color: #3B4455;\n",
              "      --disabled-fill-color: #666;\n",
              "  }\n",
              "\n",
              "  .colab-df-quickchart {\n",
              "    background-color: var(--bg-color);\n",
              "    border: none;\n",
              "    border-radius: 50%;\n",
              "    cursor: pointer;\n",
              "    display: none;\n",
              "    fill: var(--fill-color);\n",
              "    height: 32px;\n",
              "    padding: 0;\n",
              "    width: 32px;\n",
              "  }\n",
              "\n",
              "  .colab-df-quickchart:hover {\n",
              "    background-color: var(--hover-bg-color);\n",
              "    box-shadow: 0 1px 2px rgba(60, 64, 67, 0.3), 0 1px 3px 1px rgba(60, 64, 67, 0.15);\n",
              "    fill: var(--button-hover-fill-color);\n",
              "  }\n",
              "\n",
              "  .colab-df-quickchart-complete:disabled,\n",
              "  .colab-df-quickchart-complete:disabled:hover {\n",
              "    background-color: var(--disabled-bg-color);\n",
              "    fill: var(--disabled-fill-color);\n",
              "    box-shadow: none;\n",
              "  }\n",
              "\n",
              "  .colab-df-spinner {\n",
              "    border: 2px solid var(--fill-color);\n",
              "    border-color: transparent;\n",
              "    border-bottom-color: var(--fill-color);\n",
              "    animation:\n",
              "      spin 1s steps(1) infinite;\n",
              "  }\n",
              "\n",
              "  @keyframes spin {\n",
              "    0% {\n",
              "      border-color: transparent;\n",
              "      border-bottom-color: var(--fill-color);\n",
              "      border-left-color: var(--fill-color);\n",
              "    }\n",
              "    20% {\n",
              "      border-color: transparent;\n",
              "      border-left-color: var(--fill-color);\n",
              "      border-top-color: var(--fill-color);\n",
              "    }\n",
              "    30% {\n",
              "      border-color: transparent;\n",
              "      border-left-color: var(--fill-color);\n",
              "      border-top-color: var(--fill-color);\n",
              "      border-right-color: var(--fill-color);\n",
              "    }\n",
              "    40% {\n",
              "      border-color: transparent;\n",
              "      border-right-color: var(--fill-color);\n",
              "      border-top-color: var(--fill-color);\n",
              "    }\n",
              "    60% {\n",
              "      border-color: transparent;\n",
              "      border-right-color: var(--fill-color);\n",
              "    }\n",
              "    80% {\n",
              "      border-color: transparent;\n",
              "      border-right-color: var(--fill-color);\n",
              "      border-bottom-color: var(--fill-color);\n",
              "    }\n",
              "    90% {\n",
              "      border-color: transparent;\n",
              "      border-bottom-color: var(--fill-color);\n",
              "    }\n",
              "  }\n",
              "</style>\n",
              "\n",
              "  <script>\n",
              "    async function quickchart(key) {\n",
              "      const quickchartButtonEl =\n",
              "        document.querySelector('#' + key + ' button');\n",
              "      quickchartButtonEl.disabled = true;  // To prevent multiple clicks.\n",
              "      quickchartButtonEl.classList.add('colab-df-spinner');\n",
              "      try {\n",
              "        const charts = await google.colab.kernel.invokeFunction(\n",
              "            'suggestCharts', [key], {});\n",
              "      } catch (error) {\n",
              "        console.error('Error during call to suggestCharts:', error);\n",
              "      }\n",
              "      quickchartButtonEl.classList.remove('colab-df-spinner');\n",
              "      quickchartButtonEl.classList.add('colab-df-quickchart-complete');\n",
              "    }\n",
              "    (() => {\n",
              "      let quickchartButtonEl =\n",
              "        document.querySelector('#df-1c61617b-235e-4d49-a1d3-6dea79975ede button');\n",
              "      quickchartButtonEl.style.display =\n",
              "        google.colab.kernel.accessAllowed ? 'block' : 'none';\n",
              "    })();\n",
              "  </script>\n",
              "</div>\n",
              "\n",
              "    </div>\n",
              "  </div>\n"
            ],
            "application/vnd.google.colaboratory.intrinsic+json": {
              "type": "dataframe",
              "variable_name": "train",
              "summary": "{\n  \"name\": \"train\",\n  \"rows\": 7900,\n  \"fields\": [\n    {\n      \"column\": \"id\",\n      \"properties\": {\n        \"dtype\": \"number\",\n        \"std\": 2853,\n        \"min\": 1,\n        \"max\": 9874,\n        \"num_unique_values\": 7900,\n        \"samples\": [\n          5889,\n          6273,\n          5084\n        ],\n        \"semantic_type\": \"\",\n        \"description\": \"\"\n      }\n    },\n    {\n      \"column\": \"title\",\n      \"properties\": {\n        \"dtype\": \"string\",\n        \"num_unique_values\": 7851,\n        \"samples\": [\n          \"Add \\\"Run Configurations...\\\" to the global toolbar dropdown\",\n          \"Move Run > iOS Device action to ios plugin(s)\",\n          \"Allow tapping a stream prior to stream creation without specifying module name\"\n        ],\n        \"semantic_type\": \"\",\n        \"description\": \"\"\n      }\n    },\n    {\n      \"column\": \"description\",\n      \"properties\": {\n        \"dtype\": \"string\",\n        \"num_unique_values\": 7810,\n        \"samples\": [\n          \"We need to be able to support V1 (Python) and V2 (Node.js) of the SDKs directly.    # Create an extension point which describes the SDK per version range (< 2.2 is v1, >= 2.2 is v2), and allow contributing commands that are designed to run on a specific CLI.  # The extension will return a 'command' to run by asking for a specific command key and passing the SDK version to filter by. A returned command will then be executed and provide progress as it's being executed.  # When the CLI has no support for a specific command, a 'no-op' command (or null) can be returned.    The extension should also allow querying for a command on a specified CLI version (V1/V2). \",\n          \"cgroups_subsystems is a slave flag that is no longer used and should be deprecated.\",\n          \"I'm parsing an XML date into a {{java.lang.Date}}. Parsing works when the process is run from Studio. When the process is started from the standalone process engine, I get this exception in the log:    {noformat}SCHWERWIEGEND: Error while evaluating the groovy expressions.  org.ow2.bonita.util.GroovyException: Exception while evaluating expression. ActivityInstanceUUID: Rent_a_car--1.2--1--Show_reservation--it1--mainActivityInstance--noLoop cause:  Unparseable date: \\\"Sun Sep 23 00:00:00 CEST 2012\\\"  java.text.ParseException: Unparseable date: \\\"Sun Sep 23 00:00:00 CEST 2012\\\"    java.text.DateFormat.parse(DateFormat.java:337)    org.codehaus.groovy.runtime.DefaultGroovyStaticMethods.parse(DefaultGroovyStaticMethods.java:181)  {noformat}\"\n        ],\n        \"semantic_type\": \"\",\n        \"description\": \"\"\n      }\n    },\n    {\n      \"column\": \"storypoint\",\n      \"properties\": {\n        \"dtype\": \"number\",\n        \"std\": 3,\n        \"min\": 1,\n        \"max\": 40,\n        \"num_unique_values\": 20,\n        \"samples\": [\n          3,\n          14,\n          21\n        ],\n        \"semantic_type\": \"\",\n        \"description\": \"\"\n      }\n    },\n    {\n      \"column\": \"title_length\",\n      \"properties\": {\n        \"dtype\": \"number\",\n        \"std\": 4,\n        \"min\": 1,\n        \"max\": 36,\n        \"num_unique_values\": 35,\n        \"samples\": [\n          35,\n          13,\n          22\n        ],\n        \"semantic_type\": \"\",\n        \"description\": \"\"\n      }\n    },\n    {\n      \"column\": \"description_length\",\n      \"properties\": {\n        \"dtype\": \"number\",\n        \"std\": 163,\n        \"min\": 1,\n        \"max\": 2074,\n        \"num_unique_values\": 453,\n        \"samples\": [\n          1981,\n          17,\n          1895\n        ],\n        \"semantic_type\": \"\",\n        \"description\": \"\"\n      }\n    },\n    {\n      \"column\": \"project_project1\",\n      \"properties\": {\n        \"dtype\": \"boolean\",\n        \"num_unique_values\": 2,\n        \"samples\": [\n          true,\n          false\n        ],\n        \"semantic_type\": \"\",\n        \"description\": \"\"\n      }\n    },\n    {\n      \"column\": \"project_project2\",\n      \"properties\": {\n        \"dtype\": \"boolean\",\n        \"num_unique_values\": 2,\n        \"samples\": [\n          true,\n          false\n        ],\n        \"semantic_type\": \"\",\n        \"description\": \"\"\n      }\n    },\n    {\n      \"column\": \"project_project3\",\n      \"properties\": {\n        \"dtype\": \"boolean\",\n        \"num_unique_values\": 2,\n        \"samples\": [\n          true,\n          false\n        ],\n        \"semantic_type\": \"\",\n        \"description\": \"\"\n      }\n    },\n    {\n      \"column\": \"project_project4\",\n      \"properties\": {\n        \"dtype\": \"boolean\",\n        \"num_unique_values\": 2,\n        \"samples\": [\n          true,\n          false\n        ],\n        \"semantic_type\": \"\",\n        \"description\": \"\"\n      }\n    },\n    {\n      \"column\": \"project_project5\",\n      \"properties\": {\n        \"dtype\": \"boolean\",\n        \"num_unique_values\": 2,\n        \"samples\": [\n          true,\n          false\n        ],\n        \"semantic_type\": \"\",\n        \"description\": \"\"\n      }\n    },\n    {\n      \"column\": \"project_project6\",\n      \"properties\": {\n        \"dtype\": \"boolean\",\n        \"num_unique_values\": 2,\n        \"samples\": [\n          true,\n          false\n        ],\n        \"semantic_type\": \"\",\n        \"description\": \"\"\n      }\n    },\n    {\n      \"column\": \"project_project7\",\n      \"properties\": {\n        \"dtype\": \"boolean\",\n        \"num_unique_values\": 2,\n        \"samples\": [\n          true,\n          false\n        ],\n        \"semantic_type\": \"\",\n        \"description\": \"\"\n      }\n    },\n    {\n      \"column\": \"project_project8\",\n      \"properties\": {\n        \"dtype\": \"boolean\",\n        \"num_unique_values\": 2,\n        \"samples\": [\n          false,\n          true\n        ],\n        \"semantic_type\": \"\",\n        \"description\": \"\"\n      }\n    },\n    {\n      \"column\": \"text\",\n      \"properties\": {\n        \"dtype\": \"string\",\n        \"num_unique_values\": 7857,\n        \"samples\": [\n          \"Remove localhost as a name for binding and port in WSDL of rent-a-car Don't use localhost for WSDL port name and localhostbinding for the WSDL binding in the two WSDLs of rent-a-car:    <wsdl:service name=\\\"ReservationServiceProvider\\\">      <wsdl:port binding=\\\"tns:localhostBinding\\\" name=\\\"localhost\\\">        <soap:address location=\\\"http://localhost:8888/soap/ReservationServiceProvider/\\\"/>      </wsdl:port>    </wsdl:service>    <wsdl:binding name=\\\"localhostBinding\\\" type=\\\"tns:ReservationService\\\">\",\n          \"The problem markers in editor should disappear after applying quick fix After the quick fix is applied either through quick fix context menu or Problems view, the problem markers disappear in the Problems view, but the marker annotations in the editor does not disappear.    Currently we need to do a quick edit in the View file for the reconciler to be kicked back and only then the problem annotations disappear in the editor. After the quick fix is applied, either we need to get hold of the editor problem annotations and remove them, or trigger the reconciler on View file.\"\n        ],\n        \"semantic_type\": \"\",\n        \"description\": \"\"\n      }\n    }\n  ]\n}"
            }
          },
          "metadata": {},
          "execution_count": 18
        }
      ],
      "source": [
        "train.head(5)"
      ]
    },
    {
      "cell_type": "code",
      "execution_count": null,
      "metadata": {
        "colab": {
          "base_uri": "https://localhost:8080/",
          "height": 660
        },
        "id": "XpByUOU58wth",
        "outputId": "7a679ed9-52f8-4e22-d922-0f8a4adab18d"
      },
      "outputs": [
        {
          "output_type": "execute_result",
          "data": {
            "text/plain": [
              "     id                                              title  \\\n",
              "0  3433  Add Run > Tizen Emulator menu action in App an...   \n",
              "1   106                           Chrome & IE mis-behavior   \n",
              "2  7182  Problems with Publishing routes (on release re...   \n",
              "3  8985  Redis sink: better handling of module options/...   \n",
              "4  2149                     java0.log generated by the SAM   \n",
              "\n",
              "                                         description  storypoint  \\\n",
              "0  The action will create the launch shortcut for...           0   \n",
              "1  On Wed, Aug 4, 2010 at 12:21 PM, Bryan Beecher...           0   \n",
              "2  I have a problem with publishing routes in Nex...           0   \n",
              "3  Please see the discussion here:  https://githu...           0   \n",
              "4  I found an issue on the TAC 5.2.1, a java0.log...           0   \n",
              "\n",
              "   title_length  description_length  project_project1  project_project2  \\\n",
              "0            12                  40             False             False   \n",
              "1             4                 124             False              True   \n",
              "2            15                  47              True             False   \n",
              "3             8                   6             False             False   \n",
              "4             5                  57              True             False   \n",
              "\n",
              "   project_project3  project_project4  project_project5  project_project6  \\\n",
              "0             False             False             False             False   \n",
              "1             False             False             False             False   \n",
              "2             False             False             False             False   \n",
              "3             False             False             False              True   \n",
              "4             False             False             False             False   \n",
              "\n",
              "   project_project7  project_project8  \\\n",
              "0             False              True   \n",
              "1             False             False   \n",
              "2             False             False   \n",
              "3             False             False   \n",
              "4             False             False   \n",
              "\n",
              "                                                text  \n",
              "0  Add Run > Tizen Emulator menu action in App an...  \n",
              "1  Chrome & IE mis-behavior On Wed, Aug 4, 2010 a...  \n",
              "2  Problems with Publishing routes (on release re...  \n",
              "3  Redis sink: better handling of module options/...  \n",
              "4  java0.log generated by the SAM I found an issu...  "
            ],
            "text/html": [
              "\n",
              "  <div id=\"df-6780191a-a143-459e-9624-5fa7b58abcd4\" class=\"colab-df-container\">\n",
              "    <div>\n",
              "<style scoped>\n",
              "    .dataframe tbody tr th:only-of-type {\n",
              "        vertical-align: middle;\n",
              "    }\n",
              "\n",
              "    .dataframe tbody tr th {\n",
              "        vertical-align: top;\n",
              "    }\n",
              "\n",
              "    .dataframe thead th {\n",
              "        text-align: right;\n",
              "    }\n",
              "</style>\n",
              "<table border=\"1\" class=\"dataframe\">\n",
              "  <thead>\n",
              "    <tr style=\"text-align: right;\">\n",
              "      <th></th>\n",
              "      <th>id</th>\n",
              "      <th>title</th>\n",
              "      <th>description</th>\n",
              "      <th>storypoint</th>\n",
              "      <th>title_length</th>\n",
              "      <th>description_length</th>\n",
              "      <th>project_project1</th>\n",
              "      <th>project_project2</th>\n",
              "      <th>project_project3</th>\n",
              "      <th>project_project4</th>\n",
              "      <th>project_project5</th>\n",
              "      <th>project_project6</th>\n",
              "      <th>project_project7</th>\n",
              "      <th>project_project8</th>\n",
              "      <th>text</th>\n",
              "    </tr>\n",
              "  </thead>\n",
              "  <tbody>\n",
              "    <tr>\n",
              "      <th>0</th>\n",
              "      <td>3433</td>\n",
              "      <td>Add Run &gt; Tizen Emulator menu action in App an...</td>\n",
              "      <td>The action will create the launch shortcut for...</td>\n",
              "      <td>0</td>\n",
              "      <td>12</td>\n",
              "      <td>40</td>\n",
              "      <td>False</td>\n",
              "      <td>False</td>\n",
              "      <td>False</td>\n",
              "      <td>False</td>\n",
              "      <td>False</td>\n",
              "      <td>False</td>\n",
              "      <td>False</td>\n",
              "      <td>True</td>\n",
              "      <td>Add Run &gt; Tizen Emulator menu action in App an...</td>\n",
              "    </tr>\n",
              "    <tr>\n",
              "      <th>1</th>\n",
              "      <td>106</td>\n",
              "      <td>Chrome &amp; IE mis-behavior</td>\n",
              "      <td>On Wed, Aug 4, 2010 at 12:21 PM, Bryan Beecher...</td>\n",
              "      <td>0</td>\n",
              "      <td>4</td>\n",
              "      <td>124</td>\n",
              "      <td>False</td>\n",
              "      <td>True</td>\n",
              "      <td>False</td>\n",
              "      <td>False</td>\n",
              "      <td>False</td>\n",
              "      <td>False</td>\n",
              "      <td>False</td>\n",
              "      <td>False</td>\n",
              "      <td>Chrome &amp; IE mis-behavior On Wed, Aug 4, 2010 a...</td>\n",
              "    </tr>\n",
              "    <tr>\n",
              "      <th>2</th>\n",
              "      <td>7182</td>\n",
              "      <td>Problems with Publishing routes (on release re...</td>\n",
              "      <td>I have a problem with publishing routes in Nex...</td>\n",
              "      <td>0</td>\n",
              "      <td>15</td>\n",
              "      <td>47</td>\n",
              "      <td>True</td>\n",
              "      <td>False</td>\n",
              "      <td>False</td>\n",
              "      <td>False</td>\n",
              "      <td>False</td>\n",
              "      <td>False</td>\n",
              "      <td>False</td>\n",
              "      <td>False</td>\n",
              "      <td>Problems with Publishing routes (on release re...</td>\n",
              "    </tr>\n",
              "    <tr>\n",
              "      <th>3</th>\n",
              "      <td>8985</td>\n",
              "      <td>Redis sink: better handling of module options/...</td>\n",
              "      <td>Please see the discussion here:  https://githu...</td>\n",
              "      <td>0</td>\n",
              "      <td>8</td>\n",
              "      <td>6</td>\n",
              "      <td>False</td>\n",
              "      <td>False</td>\n",
              "      <td>False</td>\n",
              "      <td>False</td>\n",
              "      <td>False</td>\n",
              "      <td>True</td>\n",
              "      <td>False</td>\n",
              "      <td>False</td>\n",
              "      <td>Redis sink: better handling of module options/...</td>\n",
              "    </tr>\n",
              "    <tr>\n",
              "      <th>4</th>\n",
              "      <td>2149</td>\n",
              "      <td>java0.log generated by the SAM</td>\n",
              "      <td>I found an issue on the TAC 5.2.1, a java0.log...</td>\n",
              "      <td>0</td>\n",
              "      <td>5</td>\n",
              "      <td>57</td>\n",
              "      <td>True</td>\n",
              "      <td>False</td>\n",
              "      <td>False</td>\n",
              "      <td>False</td>\n",
              "      <td>False</td>\n",
              "      <td>False</td>\n",
              "      <td>False</td>\n",
              "      <td>False</td>\n",
              "      <td>java0.log generated by the SAM I found an issu...</td>\n",
              "    </tr>\n",
              "  </tbody>\n",
              "</table>\n",
              "</div>\n",
              "    <div class=\"colab-df-buttons\">\n",
              "\n",
              "  <div class=\"colab-df-container\">\n",
              "    <button class=\"colab-df-convert\" onclick=\"convertToInteractive('df-6780191a-a143-459e-9624-5fa7b58abcd4')\"\n",
              "            title=\"Convert this dataframe to an interactive table.\"\n",
              "            style=\"display:none;\">\n",
              "\n",
              "  <svg xmlns=\"http://www.w3.org/2000/svg\" height=\"24px\" viewBox=\"0 -960 960 960\">\n",
              "    <path d=\"M120-120v-720h720v720H120Zm60-500h600v-160H180v160Zm220 220h160v-160H400v160Zm0 220h160v-160H400v160ZM180-400h160v-160H180v160Zm440 0h160v-160H620v160ZM180-180h160v-160H180v160Zm440 0h160v-160H620v160Z\"/>\n",
              "  </svg>\n",
              "    </button>\n",
              "\n",
              "  <style>\n",
              "    .colab-df-container {\n",
              "      display:flex;\n",
              "      gap: 12px;\n",
              "    }\n",
              "\n",
              "    .colab-df-convert {\n",
              "      background-color: #E8F0FE;\n",
              "      border: none;\n",
              "      border-radius: 50%;\n",
              "      cursor: pointer;\n",
              "      display: none;\n",
              "      fill: #1967D2;\n",
              "      height: 32px;\n",
              "      padding: 0 0 0 0;\n",
              "      width: 32px;\n",
              "    }\n",
              "\n",
              "    .colab-df-convert:hover {\n",
              "      background-color: #E2EBFA;\n",
              "      box-shadow: 0px 1px 2px rgba(60, 64, 67, 0.3), 0px 1px 3px 1px rgba(60, 64, 67, 0.15);\n",
              "      fill: #174EA6;\n",
              "    }\n",
              "\n",
              "    .colab-df-buttons div {\n",
              "      margin-bottom: 4px;\n",
              "    }\n",
              "\n",
              "    [theme=dark] .colab-df-convert {\n",
              "      background-color: #3B4455;\n",
              "      fill: #D2E3FC;\n",
              "    }\n",
              "\n",
              "    [theme=dark] .colab-df-convert:hover {\n",
              "      background-color: #434B5C;\n",
              "      box-shadow: 0px 1px 3px 1px rgba(0, 0, 0, 0.15);\n",
              "      filter: drop-shadow(0px 1px 2px rgba(0, 0, 0, 0.3));\n",
              "      fill: #FFFFFF;\n",
              "    }\n",
              "  </style>\n",
              "\n",
              "    <script>\n",
              "      const buttonEl =\n",
              "        document.querySelector('#df-6780191a-a143-459e-9624-5fa7b58abcd4 button.colab-df-convert');\n",
              "      buttonEl.style.display =\n",
              "        google.colab.kernel.accessAllowed ? 'block' : 'none';\n",
              "\n",
              "      async function convertToInteractive(key) {\n",
              "        const element = document.querySelector('#df-6780191a-a143-459e-9624-5fa7b58abcd4');\n",
              "        const dataTable =\n",
              "          await google.colab.kernel.invokeFunction('convertToInteractive',\n",
              "                                                    [key], {});\n",
              "        if (!dataTable) return;\n",
              "\n",
              "        const docLinkHtml = 'Like what you see? Visit the ' +\n",
              "          '<a target=\"_blank\" href=https://colab.research.google.com/notebooks/data_table.ipynb>data table notebook</a>'\n",
              "          + ' to learn more about interactive tables.';\n",
              "        element.innerHTML = '';\n",
              "        dataTable['output_type'] = 'display_data';\n",
              "        await google.colab.output.renderOutput(dataTable, element);\n",
              "        const docLink = document.createElement('div');\n",
              "        docLink.innerHTML = docLinkHtml;\n",
              "        element.appendChild(docLink);\n",
              "      }\n",
              "    </script>\n",
              "  </div>\n",
              "\n",
              "\n",
              "<div id=\"df-ce55a91c-cb11-47d6-9861-d298566b652d\">\n",
              "  <button class=\"colab-df-quickchart\" onclick=\"quickchart('df-ce55a91c-cb11-47d6-9861-d298566b652d')\"\n",
              "            title=\"Suggest charts\"\n",
              "            style=\"display:none;\">\n",
              "\n",
              "<svg xmlns=\"http://www.w3.org/2000/svg\" height=\"24px\"viewBox=\"0 0 24 24\"\n",
              "     width=\"24px\">\n",
              "    <g>\n",
              "        <path d=\"M19 3H5c-1.1 0-2 .9-2 2v14c0 1.1.9 2 2 2h14c1.1 0 2-.9 2-2V5c0-1.1-.9-2-2-2zM9 17H7v-7h2v7zm4 0h-2V7h2v10zm4 0h-2v-4h2v4z\"/>\n",
              "    </g>\n",
              "</svg>\n",
              "  </button>\n",
              "\n",
              "<style>\n",
              "  .colab-df-quickchart {\n",
              "      --bg-color: #E8F0FE;\n",
              "      --fill-color: #1967D2;\n",
              "      --hover-bg-color: #E2EBFA;\n",
              "      --hover-fill-color: #174EA6;\n",
              "      --disabled-fill-color: #AAA;\n",
              "      --disabled-bg-color: #DDD;\n",
              "  }\n",
              "\n",
              "  [theme=dark] .colab-df-quickchart {\n",
              "      --bg-color: #3B4455;\n",
              "      --fill-color: #D2E3FC;\n",
              "      --hover-bg-color: #434B5C;\n",
              "      --hover-fill-color: #FFFFFF;\n",
              "      --disabled-bg-color: #3B4455;\n",
              "      --disabled-fill-color: #666;\n",
              "  }\n",
              "\n",
              "  .colab-df-quickchart {\n",
              "    background-color: var(--bg-color);\n",
              "    border: none;\n",
              "    border-radius: 50%;\n",
              "    cursor: pointer;\n",
              "    display: none;\n",
              "    fill: var(--fill-color);\n",
              "    height: 32px;\n",
              "    padding: 0;\n",
              "    width: 32px;\n",
              "  }\n",
              "\n",
              "  .colab-df-quickchart:hover {\n",
              "    background-color: var(--hover-bg-color);\n",
              "    box-shadow: 0 1px 2px rgba(60, 64, 67, 0.3), 0 1px 3px 1px rgba(60, 64, 67, 0.15);\n",
              "    fill: var(--button-hover-fill-color);\n",
              "  }\n",
              "\n",
              "  .colab-df-quickchart-complete:disabled,\n",
              "  .colab-df-quickchart-complete:disabled:hover {\n",
              "    background-color: var(--disabled-bg-color);\n",
              "    fill: var(--disabled-fill-color);\n",
              "    box-shadow: none;\n",
              "  }\n",
              "\n",
              "  .colab-df-spinner {\n",
              "    border: 2px solid var(--fill-color);\n",
              "    border-color: transparent;\n",
              "    border-bottom-color: var(--fill-color);\n",
              "    animation:\n",
              "      spin 1s steps(1) infinite;\n",
              "  }\n",
              "\n",
              "  @keyframes spin {\n",
              "    0% {\n",
              "      border-color: transparent;\n",
              "      border-bottom-color: var(--fill-color);\n",
              "      border-left-color: var(--fill-color);\n",
              "    }\n",
              "    20% {\n",
              "      border-color: transparent;\n",
              "      border-left-color: var(--fill-color);\n",
              "      border-top-color: var(--fill-color);\n",
              "    }\n",
              "    30% {\n",
              "      border-color: transparent;\n",
              "      border-left-color: var(--fill-color);\n",
              "      border-top-color: var(--fill-color);\n",
              "      border-right-color: var(--fill-color);\n",
              "    }\n",
              "    40% {\n",
              "      border-color: transparent;\n",
              "      border-right-color: var(--fill-color);\n",
              "      border-top-color: var(--fill-color);\n",
              "    }\n",
              "    60% {\n",
              "      border-color: transparent;\n",
              "      border-right-color: var(--fill-color);\n",
              "    }\n",
              "    80% {\n",
              "      border-color: transparent;\n",
              "      border-right-color: var(--fill-color);\n",
              "      border-bottom-color: var(--fill-color);\n",
              "    }\n",
              "    90% {\n",
              "      border-color: transparent;\n",
              "      border-bottom-color: var(--fill-color);\n",
              "    }\n",
              "  }\n",
              "</style>\n",
              "\n",
              "  <script>\n",
              "    async function quickchart(key) {\n",
              "      const quickchartButtonEl =\n",
              "        document.querySelector('#' + key + ' button');\n",
              "      quickchartButtonEl.disabled = true;  // To prevent multiple clicks.\n",
              "      quickchartButtonEl.classList.add('colab-df-spinner');\n",
              "      try {\n",
              "        const charts = await google.colab.kernel.invokeFunction(\n",
              "            'suggestCharts', [key], {});\n",
              "      } catch (error) {\n",
              "        console.error('Error during call to suggestCharts:', error);\n",
              "      }\n",
              "      quickchartButtonEl.classList.remove('colab-df-spinner');\n",
              "      quickchartButtonEl.classList.add('colab-df-quickchart-complete');\n",
              "    }\n",
              "    (() => {\n",
              "      let quickchartButtonEl =\n",
              "        document.querySelector('#df-ce55a91c-cb11-47d6-9861-d298566b652d button');\n",
              "      quickchartButtonEl.style.display =\n",
              "        google.colab.kernel.accessAllowed ? 'block' : 'none';\n",
              "    })();\n",
              "  </script>\n",
              "</div>\n",
              "\n",
              "    </div>\n",
              "  </div>\n"
            ],
            "application/vnd.google.colaboratory.intrinsic+json": {
              "type": "dataframe",
              "variable_name": "test",
              "summary": "{\n  \"name\": \"test\",\n  \"rows\": 1975,\n  \"fields\": [\n    {\n      \"column\": \"id\",\n      \"properties\": {\n        \"dtype\": \"number\",\n        \"std\": 2841,\n        \"min\": 0,\n        \"max\": 9873,\n        \"num_unique_values\": 1975,\n        \"samples\": [\n          4165,\n          3411,\n          3082\n        ],\n        \"semantic_type\": \"\",\n        \"description\": \"\"\n      }\n    },\n    {\n      \"column\": \"title\",\n      \"properties\": {\n        \"dtype\": \"string\",\n        \"num_unique_values\": 1974,\n        \"samples\": [\n          \"Add configurable HADOOP_USER_NAME support\",\n          \"PropertySource leakage between runtime and modules\",\n          \"The default size of modules table in tiapp is reduced\"\n        ],\n        \"semantic_type\": \"\",\n        \"description\": \"\"\n      }\n    },\n    {\n      \"column\": \"description\",\n      \"properties\": {\n        \"dtype\": \"string\",\n        \"num_unique_values\": 1969,\n        \"samples\": [\n          \"relevant to examples:  examples\\\\talend\\\\camel\\\\jaxrs-jms-http\\\\  examples\\\\talend\\\\camel\\\\jaxws-jms\\\\    Try to start the broker in container:  features:install activemq-spring  activemq:create-broker    Port 61616 do not established, no errors in log\",\n          \"The jobs aren't spread evenly across available container nodes as they are created/deployed. I had 3 nodes but only one has the job modules.    [zk: localhost:2181(CONNECTED) 56] ls /xd/deployments/modules/621230e0-a089-4fbe-afc8-611ae527fcbc  [myjob9.job.jdbchdfs-0, myjob5.job.jdbchdfs-0, myjob8.job.jdbchdfs-0, myjob4.job.jdbchdfs-0, myjob6.job.jdbchdfs-0, myjob7.job.jdbchdfs-0]  [zk: localhost:2181(CONNECTED) 57] ls /xd/deployments/modules/6969579c-0cf4-4cc1-8e21-e01d73a70965  []  [zk: localhost:2181(CONNECTED) 58] ls /xd/deployments/modules/d0667cd1-a57a-4279-b7fb-dd63e4dd40d4  []    \",\n          \"This update is to modify app-config, SecurityUserBean, and security-users.xsd, as appropriate to support the inclusion of ACL 'groups' during instance initialization.\"\n        ],\n        \"semantic_type\": \"\",\n        \"description\": \"\"\n      }\n    },\n    {\n      \"column\": \"storypoint\",\n      \"properties\": {\n        \"dtype\": \"number\",\n        \"std\": 0,\n        \"min\": 0,\n        \"max\": 0,\n        \"num_unique_values\": 1,\n        \"samples\": [\n          0\n        ],\n        \"semantic_type\": \"\",\n        \"description\": \"\"\n      }\n    },\n    {\n      \"column\": \"title_length\",\n      \"properties\": {\n        \"dtype\": \"number\",\n        \"std\": 4,\n        \"min\": 1,\n        \"max\": 32,\n        \"num_unique_values\": 30,\n        \"samples\": [\n          32\n        ],\n        \"semantic_type\": \"\",\n        \"description\": \"\"\n      }\n    },\n    {\n      \"column\": \"description_length\",\n      \"properties\": {\n        \"dtype\": \"number\",\n        \"std\": 151,\n        \"min\": 0,\n        \"max\": 2004,\n        \"num_unique_values\": 275,\n        \"samples\": [\n          22\n        ],\n        \"semantic_type\": \"\",\n        \"description\": \"\"\n      }\n    },\n    {\n      \"column\": \"project_project1\",\n      \"properties\": {\n        \"dtype\": \"boolean\",\n        \"num_unique_values\": 2,\n        \"samples\": [\n          true\n        ],\n        \"semantic_type\": \"\",\n        \"description\": \"\"\n      }\n    },\n    {\n      \"column\": \"project_project2\",\n      \"properties\": {\n        \"dtype\": \"boolean\",\n        \"num_unique_values\": 2,\n        \"samples\": [\n          true\n        ],\n        \"semantic_type\": \"\",\n        \"description\": \"\"\n      }\n    },\n    {\n      \"column\": \"project_project3\",\n      \"properties\": {\n        \"dtype\": \"boolean\",\n        \"num_unique_values\": 2,\n        \"samples\": [\n          true\n        ],\n        \"semantic_type\": \"\",\n        \"description\": \"\"\n      }\n    },\n    {\n      \"column\": \"project_project4\",\n      \"properties\": {\n        \"dtype\": \"boolean\",\n        \"num_unique_values\": 2,\n        \"samples\": [\n          true\n        ],\n        \"semantic_type\": \"\",\n        \"description\": \"\"\n      }\n    },\n    {\n      \"column\": \"project_project5\",\n      \"properties\": {\n        \"dtype\": \"boolean\",\n        \"num_unique_values\": 2,\n        \"samples\": [\n          true\n        ],\n        \"semantic_type\": \"\",\n        \"description\": \"\"\n      }\n    },\n    {\n      \"column\": \"project_project6\",\n      \"properties\": {\n        \"dtype\": \"boolean\",\n        \"num_unique_values\": 2,\n        \"samples\": [\n          true\n        ],\n        \"semantic_type\": \"\",\n        \"description\": \"\"\n      }\n    },\n    {\n      \"column\": \"project_project7\",\n      \"properties\": {\n        \"dtype\": \"boolean\",\n        \"num_unique_values\": 2,\n        \"samples\": [\n          true\n        ],\n        \"semantic_type\": \"\",\n        \"description\": \"\"\n      }\n    },\n    {\n      \"column\": \"project_project8\",\n      \"properties\": {\n        \"dtype\": \"boolean\",\n        \"num_unique_values\": 2,\n        \"samples\": [\n          false\n        ],\n        \"semantic_type\": \"\",\n        \"description\": \"\"\n      }\n    },\n    {\n      \"column\": \"text\",\n      \"properties\": {\n        \"dtype\": \"string\",\n        \"num_unique_values\": 1974,\n        \"samples\": [\n          \"Add configurable HADOOP_USER_NAME support As a developer, I'd like to configure HADOOP_USER_NAME environment variable to implement and run-as-user for kerberos secured clusters. This would need some additional work in SHDP.\"\n        ],\n        \"semantic_type\": \"\",\n        \"description\": \"\"\n      }\n    }\n  ]\n}"
            }
          },
          "metadata": {},
          "execution_count": 19
        }
      ],
      "source": [
        "test.head(5)"
      ]
    },
    {
      "cell_type": "code",
      "execution_count": null,
      "metadata": {
        "colab": {
          "base_uri": "https://localhost:8080/"
        },
        "id": "wGYjxCGa8iaB",
        "outputId": "fbea3e5a-a3c7-4add-a87e-90f466c14fc7"
      },
      "outputs": [
        {
          "output_type": "execute_result",
          "data": {
            "text/plain": [
              "(1975, 15)"
            ]
          },
          "metadata": {},
          "execution_count": 20
        }
      ],
      "source": [
        "test.shape"
      ]
    },
    {
      "cell_type": "code",
      "execution_count": null,
      "metadata": {
        "colab": {
          "base_uri": "https://localhost:8080/"
        },
        "id": "QZPDjNFh8s4Z",
        "outputId": "c6465c75-79bd-4717-808a-8be75200d959"
      },
      "outputs": [
        {
          "output_type": "execute_result",
          "data": {
            "text/plain": [
              "(7900, 15)"
            ]
          },
          "metadata": {},
          "execution_count": 21
        }
      ],
      "source": [
        "train.shape"
      ]
    },
    {
      "cell_type": "markdown",
      "metadata": {
        "id": "jtC09q3HJpR1"
      },
      "source": [
        "#Funciones Auxiliares"
      ]
    },
    {
      "cell_type": "code",
      "execution_count": null,
      "metadata": {
        "id": "4OKWQTNO48nn"
      },
      "outputs": [],
      "source": [
        "# para convertir etiquetas gramaticales de POS a las de wordnet\n",
        "def get_wordnet_pos(nltk_pos_tag):\n",
        "    if nltk_pos_tag.startswith('J'):\n",
        "        return wordnet.ADJ\n",
        "    elif nltk_pos_tag.startswith('V'):\n",
        "        return wordnet.VERB\n",
        "    elif nltk_pos_tag.startswith('N'):\n",
        "        return wordnet.NOUN\n",
        "    elif nltk_pos_tag.startswith('R'):\n",
        "        return wordnet.ADV\n",
        "    else:\n",
        "        return wordnet.NOUN"
      ]
    },
    {
      "cell_type": "code",
      "execution_count": null,
      "metadata": {
        "id": "KRzCDRPhLZrF"
      },
      "outputs": [],
      "source": [
        "# funcion de limpieza de texto\n",
        "def clean_text(text):\n",
        "    text = text.lower() # todo en minuscula\n",
        "    text = re.sub(r'[^a-z\\s]', '', text) # eliminar acentos y simbolos\n",
        "    stop_words = set(stopwords.words('english'))\n",
        "    text = \" \".join([word for word in text.split() if word not in stop_words]) # eliminar stopwords\n",
        "    return text"
      ]
    },
    {
      "cell_type": "code",
      "execution_count": null,
      "metadata": {
        "id": "cJh4O1w-A7-9"
      },
      "outputs": [],
      "source": [
        "stop_words = set(stopwords.words('english'))\n",
        "\n",
        "lemmatizer = WordNetLemmatizer() # lematizar\n",
        "\n",
        "# para limpiar el texto\n",
        "def clean_text_lemattizer(text):\n",
        "  text = text.lower()  # todo en minuscula\n",
        "  text = re.sub(r'[^a-zA-Z\\s]', '', text)  # eliminar acentos y simbolos\n",
        "  tokens = text.split()  # dividir el texto en tokens\n",
        "\n",
        "  # Filtrar tokens que son stop words o de longitud menor o igual a 2\n",
        "  filtered_tokens = [word for word in tokens if word not in stop_words and len(word) > 2]\n",
        "\n",
        "  # Etiquetar palabras con su POS\n",
        "  tagged_tokens = pos_tag(filtered_tokens)\n",
        "\n",
        "  # Lematizar los tokens filtrados\n",
        "  lemmatized = [\n",
        "      lemmatizer.lemmatize(word, get_wordnet_pos(pos))\n",
        "      for word, pos in tagged_tokens\n",
        "    ]\n",
        "\n",
        "  return ' '.join(lemmatized).strip()"
      ]
    },
    {
      "cell_type": "code",
      "execution_count": null,
      "metadata": {
        "id": "I_n8MVlrHFyD"
      },
      "outputs": [],
      "source": [
        "from collections import Counter\n",
        "\n",
        "# para obtener un vocabulario con una frecuencia mínima\n",
        "def filter_by_min_freq(texts, min_freq=5):\n",
        "    # contador de palabras\n",
        "    word_counts = Counter(\" \".join(texts).split())\n",
        "\n",
        "    # Filtrar palabras que cumplen con la frecuencia mínima\n",
        "    common_words = {word for word, count in word_counts.items() if count >= min_freq}\n",
        "\n",
        "    # Función interna para filtrar palabras de un texto basado en el vocabulario\n",
        "    def filter_text(text):\n",
        "        return \" \".join([word for word in text.split() if word in common_words])\n",
        "    return texts.apply(filter_text)"
      ]
    },
    {
      "cell_type": "code",
      "execution_count": null,
      "metadata": {
        "id": "ExM5QDcAHytE"
      },
      "outputs": [],
      "source": [
        "# para contar el número de palabras únicas en una columna de texto\n",
        "def count_unique_words(column):\n",
        "    unique_words = set(\" \".join(column).split())\n",
        "    return len(unique_words)"
      ]
    },
    {
      "cell_type": "markdown",
      "metadata": {
        "id": "9ad0f1z7At3q"
      },
      "source": [
        "#Preprocesamiento del texto"
      ]
    },
    {
      "cell_type": "code",
      "execution_count": null,
      "metadata": {
        "id": "gZuymWs_Gvr2"
      },
      "outputs": [],
      "source": [
        "#Creo columna \"clean_text\" con texto con preprocesado básico\n",
        "train['clean_text'] = train['text'].apply(clean_text)\n",
        "test['clean_text'] = test['text'].apply(clean_text)\n",
        "\n",
        "#Creo columna \"lemmatized_text\" con texto con procesamiento más complejo\n",
        "train['lemmatized_text'] = train['text'].apply(clean_text_lemattizer)\n",
        "test['lemmatized_text'] = test['text'].apply(clean_text_lemattizer)"
      ]
    },
    {
      "cell_type": "code",
      "execution_count": null,
      "metadata": {
        "colab": {
          "base_uri": "https://localhost:8080/"
        },
        "id": "2AdPCxAMIWXD",
        "outputId": "a7111b8b-3dad-4530-aae7-e4fa5c4ee7dd"
      },
      "outputs": [
        {
          "output_type": "stream",
          "name": "stdout",
          "text": [
            "                                 clean_filtered_text  \\\n",
            "0  error enabling appcelerator services app creat...   \n",
            "1  create maintenance branch developer id like ma...   \n",
            "2  service activity monitoring backend integrated...   \n",
            "3  work rootfs read noticed testing unified conta...   \n",
            "4  transform processor script option broken creat...   \n",
            "\n",
            "                                          clean_text  \n",
            "0  error enabling appcelerator services app creat...  \n",
            "1  create maintenance branch developer id like ma...  \n",
            "2  service activity monitoring backend integrated...  \n",
            "3  fsenterrootfs work rootfs read noticed testing...  \n",
            "4  transform processor script option broken creat...  \n"
          ]
        }
      ],
      "source": [
        "# Aplicar el filtro a la columna 'clean_text' con una frecuencia mínima de 5\n",
        "train['clean_filtered_text'] = filter_by_min_freq(train['clean_text'], min_freq=5)\n",
        "test['clean_filtered_text'] = filter_by_min_freq(test['clean_text'], min_freq=5)\n",
        "\n",
        "print(train[['clean_filtered_text', 'clean_text']].head())"
      ]
    },
    {
      "cell_type": "code",
      "execution_count": null,
      "metadata": {
        "colab": {
          "base_uri": "https://localhost:8080/"
        },
        "id": "h_7jMqx_HC2M",
        "outputId": "459502c6-d01f-4675-e26f-cd417675195f"
      },
      "outputs": [
        {
          "output_type": "stream",
          "name": "stdout",
          "text": [
            "                                     lemmatized_text  \\\n",
            "0  error enable appcelerator service app creation...   \n",
            "1  create maintenance branch developer like maint...   \n",
            "2  service activity monitor backend integrate sam...   \n",
            "3  fsenterrootfs work rootfs read noticed test un...   \n",
            "4  transform processor script option broken creat...   \n",
            "\n",
            "                                       filtered_text  \n",
            "0  error enable appcelerator service app creation...  \n",
            "1  create maintenance branch developer like maint...  \n",
            "2  service activity monitor backend integrate sam...  \n",
            "3  work rootfs read noticed test unified containe...  \n",
            "4  transform processor script option broken creat...  \n"
          ]
        }
      ],
      "source": [
        "# Aplicar el filtro a la columna 'lemmatized_text' con una frecuencia mínima de 5\n",
        "train['filtered_text'] = filter_by_min_freq(train['lemmatized_text'], min_freq=5)\n",
        "test['filtered_text'] = filter_by_min_freq(test['lemmatized_text'], min_freq=5)\n",
        "\n",
        "print(train[['lemmatized_text', 'filtered_text']].head())"
      ]
    },
    {
      "cell_type": "code",
      "execution_count": null,
      "metadata": {
        "colab": {
          "base_uri": "https://localhost:8080/"
        },
        "id": "YBSK0Vq6H1rz",
        "outputId": "f737486b-7e49-420f-961d-529cb76a2ded"
      },
      "outputs": [
        {
          "output_type": "stream",
          "name": "stdout",
          "text": [
            "Número de palabras únicas en 'lemmatized_text': 31648\n",
            "Número de palabras únicas en 'filtered_text': 5722\n"
          ]
        }
      ],
      "source": [
        "# Contar palabras únicas en ambas columnas\n",
        "lemmatized_vocab_size = count_unique_words(train['lemmatized_text'])\n",
        "filtered_vocab_size = count_unique_words(train['filtered_text'])\n",
        "\n",
        "print(f\"Número de palabras únicas en 'lemmatized_text': {lemmatized_vocab_size}\")\n",
        "print(f\"Número de palabras únicas en 'filtered_text': {filtered_vocab_size}\")"
      ]
    },
    {
      "cell_type": "code",
      "execution_count": null,
      "metadata": {
        "colab": {
          "base_uri": "https://localhost:8080/"
        },
        "id": "vWvE1rznJJzE",
        "outputId": "2dac704e-da10-4388-828d-f0600947c7e1"
      },
      "outputs": [
        {
          "output_type": "stream",
          "name": "stdout",
          "text": [
            "Número de palabras únicas en 'clean_text': 33820\n",
            "Número de palabras únicas en 'clean_filtered_text': 6933\n"
          ]
        }
      ],
      "source": [
        "# Contar palabras únicas en ambas columnas\n",
        "clean_text_vocab_size = count_unique_words(train['clean_text'])\n",
        "clean_filtered_vocab_size = count_unique_words(train['clean_filtered_text'])\n",
        "\n",
        "print(f\"Número de palabras únicas en 'clean_text': {clean_text_vocab_size}\")\n",
        "print(f\"Número de palabras únicas en 'clean_filtered_text': {clean_filtered_vocab_size}\")"
      ]
    },
    {
      "cell_type": "markdown",
      "metadata": {
        "id": "M_cltW6vL4mu"
      },
      "source": [
        "Vemos el texto simplemente concatenado"
      ]
    },
    {
      "cell_type": "code",
      "execution_count": null,
      "metadata": {
        "colab": {
          "base_uri": "https://localhost:8080/"
        },
        "id": "A9Pi8RTKz7Mu",
        "outputId": "4d216fc3-0e22-4dca-b207-bfd3618a5dd3"
      },
      "outputs": [
        {
          "output_type": "execute_result",
          "data": {
            "text/plain": [
              "['Error enabling Appcelerator services during app creation When creating the default app, I encountered the error during enabling of appcelerator services. Please, see the attachment.    Note: I noticed Environment choice(screenshot), which is not working.',\n",
              " \"Create a maintenance branch As a developer, I'd like to have a maintenance branch so that I can commit MINOR release _(ex: 1.0.2)_ code changes instead of committing to MASTER.\",\n",
              " 'Service Activity Monitoring Backend integrated in SAM Server SAM API used by SAM GUI']"
            ]
          },
          "metadata": {},
          "execution_count": 32
        }
      ],
      "source": [
        "train['text'].tolist()[:3]"
      ]
    },
    {
      "cell_type": "markdown",
      "metadata": {
        "id": "zG75MbhGL-hE"
      },
      "source": [
        "El texto con un preprocesamiento básico"
      ]
    },
    {
      "cell_type": "code",
      "execution_count": null,
      "metadata": {
        "colab": {
          "base_uri": "https://localhost:8080/"
        },
        "id": "mtK7HtDVMBOP",
        "outputId": "0b49d9c4-77dd-46c1-c757-67daeea52a83"
      },
      "outputs": [
        {
          "output_type": "execute_result",
          "data": {
            "text/plain": [
              "['error enabling appcelerator services app creation creating default app encountered error enabling appcelerator services please see attachment note noticed environment choicescreenshot working',\n",
              " 'create maintenance branch developer id like maintenance branch commit minor release ex code changes instead committing master',\n",
              " 'service activity monitoring backend integrated sam server sam api used sam gui']"
            ]
          },
          "metadata": {},
          "execution_count": 33
        }
      ],
      "source": [
        "train['clean_text'].tolist()[:3]"
      ]
    },
    {
      "cell_type": "markdown",
      "metadata": {
        "id": "sxBoIdH8MCwD"
      },
      "source": [
        "Y con el preprocesamiento complejo"
      ]
    },
    {
      "cell_type": "code",
      "execution_count": null,
      "metadata": {
        "colab": {
          "base_uri": "https://localhost:8080/"
        },
        "id": "Pbno7WKWMEwE",
        "outputId": "7a32a12e-1c16-46f1-e174-bc9f6ff713b7"
      },
      "outputs": [
        {
          "output_type": "execute_result",
          "data": {
            "text/plain": [
              "['error enable appcelerator service app creation create default app encounter error enable appcelerator service please see attachment note notice environment choicescreenshot work',\n",
              " 'create maintenance branch developer like maintenance branch commit minor release code change instead commit master',\n",
              " 'service activity monitor backend integrate sam server sam api use sam gui']"
            ]
          },
          "metadata": {},
          "execution_count": 34
        }
      ],
      "source": [
        "train['lemmatized_text'].tolist()[:3]"
      ]
    },
    {
      "cell_type": "code",
      "execution_count": null,
      "metadata": {
        "colab": {
          "base_uri": "https://localhost:8080/"
        },
        "id": "gBsQ3brEH6wD",
        "outputId": "1aa75570-28b7-4414-cc2d-71460247a6f9"
      },
      "outputs": [
        {
          "output_type": "execute_result",
          "data": {
            "text/plain": [
              "['error enable appcelerator service app creation create default app encounter error enable appcelerator service please see attachment note notice environment work',\n",
              " 'create maintenance branch developer like maintenance branch commit minor release code change instead commit master',\n",
              " 'service activity monitor backend integrate sam server sam api use sam gui']"
            ]
          },
          "metadata": {},
          "execution_count": 35
        }
      ],
      "source": [
        "train['filtered_text'].tolist()[:3]"
      ]
    },
    {
      "cell_type": "code",
      "execution_count": null,
      "metadata": {
        "colab": {
          "base_uri": "https://localhost:8080/"
        },
        "id": "_4ZPTgIbKRmT",
        "outputId": "e1f97635-bbde-4350-eb12-e5870b4280e2"
      },
      "outputs": [
        {
          "output_type": "execute_result",
          "data": {
            "text/plain": [
              "['error enabling appcelerator services app creation creating default app encountered error enabling appcelerator services please see attachment note noticed environment working',\n",
              " 'create maintenance branch developer id like maintenance branch commit minor release ex code changes instead master',\n",
              " 'service activity monitoring backend integrated sam server sam api used sam gui']"
            ]
          },
          "metadata": {},
          "execution_count": 36
        }
      ],
      "source": [
        "train['clean_filtered_text'].tolist()[:3]"
      ]
    },
    {
      "cell_type": "markdown",
      "metadata": {
        "id": "iYa-zvXuA8EF"
      },
      "source": [
        "# Bayes Naïve"
      ]
    },
    {
      "cell_type": "markdown",
      "metadata": {
        "id": "dIUb9ko9MNQD"
      },
      "source": [
        "Tras probar los diversos preprocesamientos del texto, nos decidimos por la opción básica. Por eso utilizamos la columna \"clean_filtered_text\". Esto lo justificamos en el final de la sección."
      ]
    },
    {
      "cell_type": "code",
      "execution_count": null,
      "metadata": {
        "colab": {
          "base_uri": "https://localhost:8080/"
        },
        "id": "nWoU-lysLzWr",
        "outputId": "5a521652-145b-4996-9881-874be40ff80c"
      },
      "outputs": [
        {
          "name": "stdout",
          "output_type": "stream",
          "text": [
            "Tamaño del conjunto de entrenamiento: 6320\n",
            "Tamaño del conjunto de prueba: 1580\n"
          ]
        }
      ],
      "source": [
        "# Dividir el dataset en entrenamiento y prueba (80% - 20%)\n",
        "X_train, X_test, y_train, y_test = train_test_split(\n",
        "    train['clean_filtered_text'], train['storypoint'], test_size=0.2, random_state=42)\n",
        "\n",
        "print(f\"Tamaño del conjunto de entrenamiento: {len(X_train)}\")\n",
        "print(f\"Tamaño del conjunto de prueba: {len(X_test)}\")"
      ]
    },
    {
      "cell_type": "markdown",
      "metadata": {
        "id": "JA2A0gIizN_v"
      },
      "source": [
        "Probamos primero con Bag of Words, vemos que los resultados podrían ser mejores y optamos por implementar otro método"
      ]
    },
    {
      "cell_type": "code",
      "execution_count": null,
      "metadata": {
        "colab": {
          "base_uri": "https://localhost:8080/"
        },
        "id": "PfGCMlXunNWy",
        "outputId": "58954bc7-9695-4f06-ef3a-7096593fc82b"
      },
      "outputs": [
        {
          "name": "stderr",
          "output_type": "stream",
          "text": [
            "/usr/local/lib/python3.10/dist-packages/sklearn/model_selection/_split.py:776: UserWarning: The least populated class in y has only 1 members, which is less than n_splits=10.\n",
            "  warnings.warn(\n"
          ]
        },
        {
          "name": "stdout",
          "output_type": "stream",
          "text": [
            "Mejor hiperparametros: {'alpha': 20, 'class_prior': None, 'fit_prior': True}\n",
            "Error cuadrático medio (Validación - BoW): 8.570886075949367\n",
            "RMSE (Validación - BoW): 2.9276075686384893\n",
            "Error cuadrático medio (Entrenamiento - BoW): 8.926582278481012\n",
            "RMSE (Entrenamiento - BoW): 2.9877386563220374\n"
          ]
        }
      ],
      "source": [
        "# Bag of Words\n",
        "vectorizer_bow = CountVectorizer(max_features=2000)  # Puedes ajustar max_features\n",
        "X_train_vec_bow = vectorizer_bow.fit_transform(X_train)\n",
        "X_test_vec_bow = vectorizer_bow.transform(X_test)\n",
        "\n",
        "# Inicializar el modelo Naive Bayes\n",
        "nb_model = MultinomialNB()\n",
        "\n",
        "# Definir los hiperparámetros para la búsqueda\n",
        "param_grid = {\n",
        "    'alpha': [0.1, 1, 5, 10, 20, 30, 50],\n",
        "    'fit_prior': [True, False],\n",
        "    'class_prior': [None]\n",
        "}\n",
        "grid_search = GridSearchCV(nb_model, param_grid, cv=10)\n",
        "\n",
        "# Ajustar el modelo\n",
        "grid_search.fit(X_train_vec_bow, y_train)\n",
        "\n",
        "# Mejor hiperparámetro\n",
        "best_alpha = grid_search.best_params_\n",
        "print(f\"Mejor hiperparametros: {best_alpha}\")\n",
        "\n",
        "# Predicciones con Bag of Words (BoW)\n",
        "y_pred_bow = grid_search.predict(X_test_vec_bow)\n",
        "mse_bow = mean_squared_error(y_test, y_pred_bow)\n",
        "rmse_bow = np.sqrt(mse_bow)\n",
        "print(f\"Error cuadrático medio (Validación - BoW): {mse_bow}\")\n",
        "print(f\"RMSE (Validación - BoW): {rmse_bow}\")\n",
        "\n",
        "# Predicciones en el conjunto de entrenamiento\n",
        "y_pred_train_bow = grid_search.predict(X_train_vec_bow)\n",
        "\n",
        "# Cálculo de métricas para el conjunto de entrenamiento\n",
        "mse_train_bow = mean_squared_error(y_train, y_pred_train_bow)\n",
        "rmse_train_bow = np.sqrt(mse_train_bow)\n",
        "print(f\"Error cuadrático medio (Entrenamiento - BoW): {mse_train_bow}\")\n",
        "print(f\"RMSE (Entrenamiento - BoW): {rmse_train_bow}\")"
      ]
    },
    {
      "cell_type": "markdown",
      "metadata": {
        "id": "uzv9Z5uPL86M"
      },
      "source": [
        "- Mejor hiperparametros: {'alpha': 20, 'class_prior': None, 'fit_prior': True}\n",
        "- Error cuadrático medio (Validación - BoW): 8.570886075949367\n",
        "- RMSE (Validación - BoW): 2.9276075686384893\n",
        "- Error cuadrático medio (Entrenamiento - BoW): 8.926582278481012\n",
        "- RMSE (Entrenamiento - BoW): 2.9877386563220374"
      ]
    },
    {
      "cell_type": "markdown",
      "metadata": {
        "id": "aJadXwA9zWlg"
      },
      "source": [
        "Implementamos TfidfVectorizer: Calcula el valor TF-IDF para cada palabra en el conjunto de documentos. TF-IDF es una medida que representa la importancia de una palabra en un documento en relación con su aparición en el resto de documentos."
      ]
    },
    {
      "cell_type": "code",
      "execution_count": null,
      "metadata": {
        "colab": {
          "base_uri": "https://localhost:8080/"
        },
        "id": "0f7gqICMUvkY",
        "outputId": "0ceb2a8d-c35b-4ebb-c1ff-e3af592e62e8"
      },
      "outputs": [
        {
          "name": "stderr",
          "output_type": "stream",
          "text": [
            "/usr/local/lib/python3.10/dist-packages/sklearn/model_selection/_split.py:776: UserWarning: The least populated class in y has only 1 members, which is less than n_splits=10.\n",
            "  warnings.warn(\n"
          ]
        },
        {
          "name": "stdout",
          "output_type": "stream",
          "text": [
            "Mejor valor de alpha: 20.0\n",
            "Mejor valor de fit_prior: True\n",
            "Error cuadrático medio (Validación TFID): 7.166455696202532\n",
            "RMSE (Validación TFID): 2.6770236637360028\n",
            "Error cuadrático medio (Entrenamiento TFID): 8.478006329113924\n",
            "RMSE (Entrenamiento TFID): 2.911701620893515\n"
          ]
        }
      ],
      "source": [
        "vectorizer = TfidfVectorizer(max_features=2000, ngram_range=(1, 3))\n",
        "X_train_vec = vectorizer.fit_transform(X_train)\n",
        "X_test_vec = vectorizer.transform(X_test)\n",
        "\n",
        "test_vec = vectorizer.transform(test['clean_filtered_text'])\n",
        "\n",
        "nb_model = MultinomialNB()\n",
        "param_grid = {\n",
        "    'alpha': [0.0001, 0.001, 0.01, 0.1, 0.5, 1.0, 2.0, 5.0, 10.0, 20.0, 50.0],\n",
        "    'fit_prior': [True, False]\n",
        "}\n",
        "\n",
        "grid_search = GridSearchCV(nb_model, param_grid, scoring='neg_mean_squared_error', cv=10)\n",
        "grid_search.fit(X_train_vec, y_train)\n",
        "best_params = grid_search.best_params_\n",
        "best_alpha = best_params['alpha']\n",
        "best_fit_prior = best_params['fit_prior']\n",
        "print(\"Mejor valor de alpha:\", best_alpha)\n",
        "print(\"Mejor valor de fit_prior:\", best_fit_prior)\n",
        "\n",
        "nb_model_best = MultinomialNB(alpha=best_alpha, fit_prior=best_fit_prior)\n",
        "nb_model_best.fit(X_train_vec, y_train)\n",
        "\n",
        "# Hacer predicciones en el conjunto de prueba\n",
        "y_pred = nb_model_best.predict(X_test_vec)\n",
        "\n",
        "# Calcular el error\n",
        "mse = mean_squared_error(y_test, y_pred)\n",
        "print(f\"Error cuadrático medio (Validación TFID): {mse}\")\n",
        "rmse = np.sqrt(mse)\n",
        "print(f\"RMSE (Validación TFID): {rmse}\")\n",
        "\n",
        "# Predicciones en el conjunto de entrenamiento\n",
        "y_pred_train = nb_model_best.predict(X_train_vec)\n",
        "\n",
        "# Calcular el error en el conjunto de entrenamiento\n",
        "mse_train = mean_squared_error(y_train, y_pred_train)\n",
        "rmse_train = np.sqrt(mse_train)\n",
        "print(f\"Error cuadrático medio (Entrenamiento TFID): {mse_train}\")\n",
        "print(f\"RMSE (Entrenamiento TFID): {rmse_train}\")"
      ]
    },
    {
      "cell_type": "markdown",
      "metadata": {
        "id": "w63jWOFOMw0r"
      },
      "source": [
        "- Error cuadrático medio (Validación TFID): 7.166455696202532\n",
        "- RMSE (Validación TFID): 2.6770236637360028\n",
        "- Error cuadrático medio (Entrenamiento TFID): 8.478006329113924\n",
        "- RMSE (Entrenamiento TFID): 2.911701620893515"
      ]
    },
    {
      "cell_type": "code",
      "execution_count": null,
      "metadata": {
        "colab": {
          "base_uri": "https://localhost:8080/",
          "height": 564
        },
        "id": "2txUUcPJOwN6",
        "outputId": "2774a682-2175-461e-dcbf-220ad5c901ea"
      },
      "outputs": [
        {
          "data": {
            "image/png": "[encoded data removed]",
            "text/plain": [
              "<Figure size 800x600 with 1 Axes>"
            ]
          },
          "metadata": {},
          "output_type": "display_data"
        }
      ],
      "source": [
        "# Gráfico Predicciones vs. Valores Reales\n",
        "plt.figure(figsize=(8, 6))\n",
        "plt.scatter(y_test, y_pred, alpha=0.6, color='b', label='Predicciones')\n",
        "plt.plot([y_test.min(), y_test.max()], [y_test.min(), y_test.max()], 'k--', lw=2, label='Línea de identidad')\n",
        "plt.xlabel(\"Valores Reales\")\n",
        "plt.ylabel(\"Predicciones\")\n",
        "plt.title(\"Predicciones vs. Valores Reales\")\n",
        "plt.legend()\n",
        "plt.grid(True)\n",
        "plt.show()"
      ]
    },
    {
      "cell_type": "markdown",
      "metadata": {
        "id": "hfJGqcVeNCZU"
      },
      "source": [
        "Probamos el modelo de Bayes Naive con el texto concatenado, nos dio resultados:\n",
        "\n",
        "**Bag of Words**\n",
        "- Error cuadrático medio (BoW): 9.918354430379747\n",
        "- RMSE (BoW): 3.1493419043317203\n",
        "\n",
        "**TfidfVectorizer**\n",
        "- Error cuadrático: 7.30126582278481\n",
        "- RMSE: 2.702085458083221\n",
        "\n",
        "Luego con el preprocesamiento básico obtuvimos los resultados:\n",
        "\n",
        "**Bag of Words**\n",
        "- Error cuadrático medio (BoW): 8.549367088607594\n",
        "- RMSE (BoW): 2.923930075875207\n",
        "\n",
        "**TfidfVectorizer**\n",
        "- Error cuadrático medio: 7.1689873417721515\n",
        "- RMSE: 2.6774964690494274\n",
        "\n",
        "Agregando al preprocesamiento, lemmatización y tokenización:\n",
        "\n",
        "**Bag of Words**\n",
        "- Error cuadrático medio (BoW): 8.727215189873418\n",
        "- RMSE (BoW): 2.954186045237066\n",
        "\n",
        "**TfidfVectorizer**\n",
        "- Error cuadrático: 7.209493670886076\n",
        "- RMSE: 2.685050031356227\n",
        "\n",
        "Determinamos que la técnica que mejor resultados dio fue TfidfVectorizer con preprocesamiento básico, investigando supimos que Bayes Naive asume una independencia condicional entre las características. La lematización puede crear características demasiado generales (por ejemplo, \"running\" y \"run\" se agrupan en una sola palabra), lo cual puede reducir la especificidad, por lo que en este caso no fue útil, pero podría ser más efectiva en otros modelos.\n",
        "\n",
        "Por último, decidimos probar eliminar las palabras menos frecuentes, en el texto con procesamiento básico, los resultados fueron mejores:\n",
        "\n",
        "**Bag of Words**\n",
        "\n",
        "- Error cuadrático medio (BoW): 8.570886075949367\n",
        "- RMSE (BoW): 2.9276075686384893\n",
        "\n",
        "\n",
        "**TfidfVectorizer**\n",
        "- Error cuadrático medio en el conjunto de validación: 7.166455696202532\n",
        "- RMSE en el conjunto de validación: 2.6770236637360028\n",
        "\n",
        "Siendo esta último, el mejor resultado obtenido hasta ahora."
      ]
    },
    {
      "cell_type": "markdown",
      "metadata": {
        "id": "vCHRpc0Ci04Q"
      },
      "source": [
        "Por último, quisimos entrenar el modelo Bayes Naive, utilizando también las nuevas columnas generadas en el análisis exploratorio."
      ]
    },
    {
      "cell_type": "code",
      "execution_count": null,
      "metadata": {
        "colab": {
          "base_uri": "https://localhost:8080/"
        },
        "id": "wZQX_cLxqEfI",
        "outputId": "f94af898-fb1b-4f6c-9d91-39ce27e1acd6"
      },
      "outputs": [
        {
          "name": "stdout",
          "output_type": "stream",
          "text": [
            "Tamaño del conjunto de entrenamiento: 6320\n",
            "Tamaño del conjunto de prueba: 1580\n"
          ]
        }
      ],
      "source": [
        "# Dividir el dataset en entrenamiento y prueba (80% - 20%)\n",
        "X_train, X_test, y_train, y_test = train_test_split(\n",
        "    train['clean_filtered_text'], train['storypoint'], test_size=0.2, random_state=42)\n",
        "\n",
        "print(f\"Tamaño del conjunto de entrenamiento: {len(X_train)}\")\n",
        "print(f\"Tamaño del conjunto de prueba: {len(X_test)}\")"
      ]
    },
    {
      "cell_type": "code",
      "execution_count": null,
      "metadata": {
        "colab": {
          "base_uri": "https://localhost:8080/",
          "height": 176
        },
        "id": "nNHh6eFMi0ee",
        "outputId": "04fdbc56-26b1-47f5-fb5c-4f95f359e3bc"
      },
      "outputs": [
        {
          "name": "stderr",
          "output_type": "stream",
          "text": [
            "/usr/local/lib/python3.10/dist-packages/sklearn/model_selection/_split.py:776: UserWarning: The least populated class in y has only 1 members, which is less than n_splits=10.\n",
            "  warnings.warn(\n"
          ]
        },
        {
          "name": "stdout",
          "output_type": "stream",
          "text": [
            "Mejor valor de alpha: 50.0\n",
            "Mejor valor de fit_prior: True\n",
            "Error cuadrático medio en el conjunto de entrenamiento: 8.331170886075949\n",
            "RMSE en el conjunto de entrenamiento: 2.8863767747949933\n",
            "Error cuadrático medio en el conjunto de validación: 7.0329113924050635\n",
            "RMSE en el conjunto de validación: 2.6519636861022557\n"
          ]
        },
        {
          "data": {
            "application/javascript": [
              "\n",
              "    async function download(id, filename, size) {\n",
              "      if (!google.colab.kernel.accessAllowed) {\n",
              "        return;\n",
              "      }\n",
              "      const div = document.createElement('div');\n",
              "      const label = document.createElement('label');\n",
              "      label.textContent = `Downloading \"${filename}\": `;\n",
              "      div.appendChild(label);\n",
              "      const progress = document.createElement('progress');\n",
              "      progress.max = size;\n",
              "      div.appendChild(progress);\n",
              "      document.body.appendChild(div);\n",
              "\n",
              "      const buffers = [];\n",
              "      let downloaded = 0;\n",
              "\n",
              "      const channel = await google.colab.kernel.comms.open(id);\n",
              "      // Send a message to notify the kernel that we're ready.\n",
              "      channel.send({})\n",
              "\n",
              "      for await (const message of channel.messages) {\n",
              "        // Send a message to notify the kernel that we're ready.\n",
              "        channel.send({})\n",
              "        if (message.buffers) {\n",
              "          for (const buffer of message.buffers) {\n",
              "            buffers.push(buffer);\n",
              "            downloaded += buffer.byteLength;\n",
              "            progress.value = downloaded;\n",
              "          }\n",
              "        }\n",
              "      }\n",
              "      const blob = new Blob(buffers, {type: 'application/binary'});\n",
              "      const a = document.createElement('a');\n",
              "      a.href = window.URL.createObjectURL(blob);\n",
              "      a.download = filename;\n",
              "      div.appendChild(a);\n",
              "      a.click();\n",
              "      div.remove();\n",
              "    }\n",
              "  "
            ],
            "text/plain": [
              "<IPython.core.display.Javascript object>"
            ]
          },
          "metadata": {},
          "output_type": "display_data"
        },
        {
          "data": {
            "application/javascript": [
              "download(\"download_3af5f851-9661-46dc-9834-3569740989ab\", \"submission_nb.csv\", 13604)"
            ],
            "text/plain": [
              "<IPython.core.display.Javascript object>"
            ]
          },
          "metadata": {},
          "output_type": "display_data"
        }
      ],
      "source": [
        "from sklearn.preprocessing import MinMaxScaler\n",
        "from sklearn.naive_bayes import MultinomialNB\n",
        "from sklearn.pipeline import Pipeline\n",
        "from sklearn.compose import ColumnTransformer\n",
        "from sklearn.feature_extraction.text import TfidfVectorizer\n",
        "from sklearn.model_selection import GridSearchCV\n",
        "from sklearn.metrics import mean_squared_error\n",
        "import numpy as np\n",
        "\n",
        "X_train_df = pd.DataFrame({\n",
        "    'filtered_text': X_train,\n",
        "    'title_length': train['title_length'].iloc[X_train.index],\n",
        "    'description_length': train['description_length'].iloc[X_train.index],\n",
        "    **{f'project_project{i}': train[f'project_project{i}'].iloc[X_train.index] for i in range(1, 9)}\n",
        "})\n",
        "\n",
        "X_test_df = pd.DataFrame({\n",
        "    'filtered_text': X_test,\n",
        "    'title_length': train['title_length'].iloc[X_test.index],\n",
        "    'description_length': train['description_length'].iloc[X_test.index],\n",
        "    **{f'project_project{i}': train[f'project_project{i}'].iloc[X_test.index] for i in range(1, 9)}\n",
        "})\n",
        "\n",
        "X_train = X_train_df\n",
        "X_test = X_test_df\n",
        "\n",
        "project_columns = [f'project_project{i}' for i in range(1, 9)]\n",
        "\n",
        "text_transformer = TfidfVectorizer(max_features=2000, ngram_range=(1, 3))\n",
        "\n",
        "numeric_transformer = MinMaxScaler()\n",
        "\n",
        "preprocessor = ColumnTransformer(\n",
        "    transformers=[\n",
        "        ('text', text_transformer, 'filtered_text'),\n",
        "        ('num', numeric_transformer, ['title_length', 'description_length']),\n",
        "        ('project', 'passthrough', project_columns)\n",
        "    ])\n",
        "\n",
        "pipeline = Pipeline(steps=[\n",
        "    ('preprocessor', preprocessor),\n",
        "    ('nb', MultinomialNB())\n",
        "])\n",
        "\n",
        "param_grid = {\n",
        "    'nb__alpha': [0.0001, 0.001, 0.01, 0.1, 0.5, 1.0, 2.0, 5.0, 10.0, 20.0, 50.0],\n",
        "    'nb__fit_prior': [True, False]\n",
        "}\n",
        "\n",
        "grid_search = GridSearchCV(pipeline, param_grid, scoring='neg_mean_squared_error', cv=10)\n",
        "grid_search.fit(X_train, y_train)\n",
        "\n",
        "best_params = grid_search.best_params_\n",
        "print(\"Mejor valor de alpha:\", best_params['nb__alpha'])\n",
        "print(\"Mejor valor de fit_prior:\", best_params['nb__fit_prior'])\n",
        "\n",
        "best_model = grid_search.best_estimator_\n",
        "\n",
        "y_pred_train = best_model.predict(X_train)\n",
        "\n",
        "mse_train = mean_squared_error(y_train, y_pred_train)\n",
        "rmse_train = np.sqrt(mse_train)\n",
        "print(f\"Error cuadrático medio en el conjunto de entrenamiento: {mse_train}\")\n",
        "print(f\"RMSE en el conjunto de entrenamiento: {rmse_train}\")\n",
        "\n",
        "y_pred = best_model.predict(X_test)\n",
        "\n",
        "mse = mean_squared_error(y_test, y_pred)\n",
        "rmse = np.sqrt(mse)\n",
        "print(f\"Error cuadrático medio en el conjunto de validación: {mse}\")\n",
        "print(f\"RMSE en el conjunto de validación: {rmse}\")\n",
        "\n",
        "X_test_final = test[['filtered_text', 'title_length', 'description_length'] + project_columns]\n",
        "\n",
        "test_predictions = best_model.predict(X_test_final)\n",
        "\n",
        "submission = pd.DataFrame({\n",
        "    'id': test['id'],\n",
        "    'storypoint': test_predictions\n",
        "})\n",
        "\n",
        "submission.to_csv('submission_nb.csv', index=False)\n",
        "from google.colab import files\n",
        "files.download('submission_nb.csv')"
      ]
    },
    {
      "cell_type": "markdown",
      "metadata": {
        "id": "YhpPDiTVsdsh"
      },
      "source": [
        "Los resultados del modelo Bayes Naive, utilizando las nuevas columnas nos dieron:\n",
        "\n",
        "- Error cuadrático medio en el conjunto de entrenamiento: 8.331170886075949\n",
        "- RMSE en el conjunto de entrenamiento: 2.8863767747949933\n",
        "\n",
        "- Error cuadrático medio en el conjunto de validación: 7.0329113924050635\n",
        "- RMSE en el conjunto de validación: 2.6519636861022557\n",
        "\n",
        "Este es superador a los obtenidos anteriormente, por lo que creemos es positivo sumar información extra al texto."
      ]
    },
    {
      "cell_type": "markdown",
      "metadata": {
        "id": "jrn-8dnyM09U"
      },
      "source": [
        "##Descarga del Bayes Naive"
      ]
    },
    {
      "cell_type": "code",
      "execution_count": null,
      "metadata": {
        "id": "osKUthwyOjPH"
      },
      "outputs": [],
      "source": [
        "test_predictions = nb_model_best.predict(test_vec)"
      ]
    },
    {
      "cell_type": "code",
      "execution_count": null,
      "metadata": {
        "id": "dPLg3sO2OmXW"
      },
      "outputs": [],
      "source": [
        "submission = pd.DataFrame({\n",
        "    'id': test['id'],\n",
        "    'storypoint': test_predictions\n",
        "})\n",
        "\n",
        "submission.to_csv('submission.csv', index=False)"
      ]
    },
    {
      "cell_type": "code",
      "execution_count": null,
      "metadata": {
        "colab": {
          "base_uri": "https://localhost:8080/",
          "height": 17
        },
        "id": "yuuWoXf3O4kW",
        "outputId": "30f9602b-f99c-4f31-ce2e-a0adede95959"
      },
      "outputs": [
        {
          "data": {
            "application/javascript": [
              "\n",
              "    async function download(id, filename, size) {\n",
              "      if (!google.colab.kernel.accessAllowed) {\n",
              "        return;\n",
              "      }\n",
              "      const div = document.createElement('div');\n",
              "      const label = document.createElement('label');\n",
              "      label.textContent = `Downloading \"${filename}\": `;\n",
              "      div.appendChild(label);\n",
              "      const progress = document.createElement('progress');\n",
              "      progress.max = size;\n",
              "      div.appendChild(progress);\n",
              "      document.body.appendChild(div);\n",
              "\n",
              "      const buffers = [];\n",
              "      let downloaded = 0;\n",
              "\n",
              "      const channel = await google.colab.kernel.comms.open(id);\n",
              "      // Send a message to notify the kernel that we're ready.\n",
              "      channel.send({})\n",
              "\n",
              "      for await (const message of channel.messages) {\n",
              "        // Send a message to notify the kernel that we're ready.\n",
              "        channel.send({})\n",
              "        if (message.buffers) {\n",
              "          for (const buffer of message.buffers) {\n",
              "            buffers.push(buffer);\n",
              "            downloaded += buffer.byteLength;\n",
              "            progress.value = downloaded;\n",
              "          }\n",
              "        }\n",
              "      }\n",
              "      const blob = new Blob(buffers, {type: 'application/binary'});\n",
              "      const a = document.createElement('a');\n",
              "      a.href = window.URL.createObjectURL(blob);\n",
              "      a.download = filename;\n",
              "      div.appendChild(a);\n",
              "      a.click();\n",
              "      div.remove();\n",
              "    }\n",
              "  "
            ],
            "text/plain": [
              "<IPython.core.display.Javascript object>"
            ]
          },
          "metadata": {},
          "output_type": "display_data"
        },
        {
          "data": {
            "application/javascript": [
              "download(\"download_eb892ed2-81a9-4ad9-9192-4b00abe6984f\", \"submission.csv\", 13604)"
            ],
            "text/plain": [
              "<IPython.core.display.Javascript object>"
            ]
          },
          "metadata": {},
          "output_type": "display_data"
        }
      ],
      "source": [
        "from google.colab import files\n",
        "files.download('submission.csv')"
      ]
    },
    {
      "cell_type": "markdown",
      "metadata": {
        "id": "awNtbSKgBFDk"
      },
      "source": [
        "# Random Forest"
      ]
    },
    {
      "cell_type": "code",
      "execution_count": null,
      "metadata": {
        "id": "3qXGC_ztEIW3"
      },
      "outputs": [],
      "source": [
        "from sklearn.ensemble import RandomForestRegressor"
      ]
    },
    {
      "cell_type": "markdown",
      "metadata": {
        "id": "C3DbfXsRC7UI"
      },
      "source": [
        "En un principio decidimos usar la columna 'lemmatized_text', ya que según nuestra investigación, usar texto lematizado es generalmente mejor para modelos como Random Forest y XGBoost, ya que reduce la dimensionalidad y el ruido, permitiendo que los modelos se concentren en patrones más relevantes y robustos en los datos.\n",
        "\n",
        "Luego decidimos utilizar 'filtered_text' que sobre el texto lematizado, filtra las palabras con menor frecuencia, al final de la sección analizamos los resultados."
      ]
    },
    {
      "cell_type": "code",
      "execution_count": null,
      "metadata": {
        "colab": {
          "base_uri": "https://localhost:8080/"
        },
        "id": "7Hs4fxNt5XkZ",
        "outputId": "2e67b065-f730-4e81-c515-1414f72be497"
      },
      "outputs": [
        {
          "name": "stdout",
          "output_type": "stream",
          "text": [
            "Tamaño del conjunto de entrenamiento: 6320\n",
            "Tamaño del conjunto de prueba: 1580\n"
          ]
        }
      ],
      "source": [
        "# Dividir el dataset en entrenamiento y prueba (80% - 20%)\n",
        "X_train, X_test, y_train, y_test = train_test_split(\n",
        "    train['lemmatized_text'], train['storypoint'], test_size=0.2, random_state=42)\n",
        "\n",
        "print(f\"Tamaño del conjunto de entrenamiento: {len(X_train)}\")\n",
        "print(f\"Tamaño del conjunto de prueba: {len(X_test)}\")"
      ]
    },
    {
      "cell_type": "code",
      "execution_count": null,
      "metadata": {
        "colab": {
          "base_uri": "https://localhost:8080/"
        },
        "id": "qTUG2b7yEE0d",
        "outputId": "0d9da6ca-c8ec-49a9-a22d-88945cadd3cd"
      },
      "outputs": [
        {
          "name": "stdout",
          "output_type": "stream",
          "text": [
            "Mejores hiperparámetros: {'max_depth': None, 'max_features': 'sqrt', 'min_samples_leaf': 1, 'min_samples_split': 5, 'n_estimators': 200, 'oob_score': True}\n",
            "Error cuadrático medio (Entrenamiento): 1.719104799790729\n",
            "RMSE (Entrenamiento): 1.3111463685610119\n",
            "Error cuadrático medio (Validación): 5.884323371556008\n",
            "RMSE (Validación): 2.425762430980414\n"
          ]
        }
      ],
      "source": [
        "# Vectorización de texto con TF-IDF\n",
        "vectorizer = TfidfVectorizer(max_features=2000, ngram_range=(1, 3))\n",
        "X_train_vec = vectorizer.fit_transform(X_train)\n",
        "X_test_vec = vectorizer.transform(X_test)\n",
        "\n",
        "test_vec = vectorizer.transform(test['lemmatized_text'])\n",
        "\n",
        "rf_model = RandomForestRegressor()\n",
        "\n",
        "param_grid = {\n",
        "    'n_estimators': [50, 100, 200],\n",
        "    'max_depth': [10, 20, None],\n",
        "    'min_samples_split': [2, 5, 10],\n",
        "    'min_samples_leaf': [1, 2, 4],\n",
        "    'max_features': ['sqrt', 'log2'],\n",
        "    'oob_score': [True]\n",
        "}\n",
        "\n",
        "grid_search = GridSearchCV(rf_model, param_grid, scoring='neg_mean_squared_error', cv=10, n_jobs=-1)\n",
        "grid_search.fit(X_train_vec, y_train)\n",
        "\n",
        "best_params = grid_search.best_params_\n",
        "print(\"Mejores hiperparámetros:\", best_params)\n",
        "\n",
        "rf_model_best = RandomForestRegressor(**best_params)\n",
        "rf_model_best.fit(X_train_vec, y_train)\n",
        "\n",
        "y_train_pred = rf_model_best.predict(X_train_vec)\n",
        "mse_train = mean_squared_error(y_train, y_train_pred)\n",
        "rmse_train = np.sqrt(mse_train)\n",
        "print(f\"Error cuadrático medio (Entrenamiento): {mse_train}\")\n",
        "print(f\"RMSE (Entrenamiento): {rmse_train}\")\n",
        "\n",
        "y_pred = rf_model_best.predict(X_test_vec)\n",
        "mse = mean_squared_error(y_test, y_pred)\n",
        "rmse = np.sqrt(mse)\n",
        "print(f\"Error cuadrático medio (Validación): {mse}\")\n",
        "print(f\"RMSE (Validación): {rmse}\")"
      ]
    },
    {
      "cell_type": "markdown",
      "metadata": {
        "id": "yGzj8La6NnRr"
      },
      "source": [
        "Los resultados que obtuvimos con 'lemmatized_text' fueron:\n",
        "\n",
        "- Mejores hiperparámetros: {'max_depth': None, 'max_features': 'sqrt', 'min_samples_leaf': 1, 'min_samples_split': 5, 'n_estimators': 200, 'oob_score': True}\n",
        "- Error cuadrático medio (Entrenamiento): 1.719104799790729\n",
        "- RMSE (Entrenamiento): 1.3111463685610119\n",
        "- Error cuadrático medio (Validación): 5.884323371556008\n",
        "- RMSE (Validación): 2.425762430980414\n",
        "\n",
        "Los resultados que obtuvimos con 'filtered_text' fueron:\n",
        "\n",
        "- Mejores hiperparámetros: {'max_depth': None, 'max_features': 'sqrt', 'min_samples_leaf': 1, 'min_samples_split': 10, 'n_estimators': 100}\n",
        "- Error cuadrático medio (Entrenamiento): 1.7047685723836672\n",
        "- RMSE (Entrenamiento): 1.3056678644983444\n",
        "- Error cuadrático medio (Validación): 5.939090321425357\n",
        "- RMSE (Validación): 2.4370248914250663\n",
        "\n",
        "El resultado obtenido sugiere que el filtrado realizado en filtered_text pudo haber eliminado características que eran útiles para el modelo. La lematización en sí ayuda a reducir la dimensionalidad de forma controlada, pero al combinarla con un filtrado de palabras basado en frecuencia,  puede que se pierdan palabras clave que interactúan con otras características."
      ]
    },
    {
      "cell_type": "markdown",
      "metadata": {
        "id": "fPLO0WVjR6Vu"
      },
      "source": [
        "Random Forest agregando las features nuevas al entrenamiento"
      ]
    },
    {
      "cell_type": "code",
      "execution_count": null,
      "metadata": {
        "id": "8cI1oUc8UPAA"
      },
      "outputs": [],
      "source": [
        "from sklearn.compose import ColumnTransformer\n",
        "from sklearn.preprocessing import StandardScaler\n",
        "from sklearn.pipeline import Pipeline\n",
        "from sklearn.model_selection import GridSearchCV, train_test_split\n",
        "from sklearn.ensemble import RandomForestRegressor\n",
        "from sklearn.feature_extraction.text import TfidfVectorizer\n",
        "from sklearn.metrics import mean_squared_error, mean_absolute_error, r2_score"
      ]
    },
    {
      "cell_type": "code",
      "execution_count": null,
      "metadata": {
        "id": "frxXAIrYVthZ"
      },
      "outputs": [],
      "source": [
        "project_columns = [f'project_project{i}' for i in range(1, 9)]  # Las columnas 'project_project1' a 'project_project8'"
      ]
    },
    {
      "cell_type": "code",
      "execution_count": null,
      "metadata": {
        "colab": {
          "base_uri": "https://localhost:8080/"
        },
        "id": "9i5XzakdV2Q5",
        "outputId": "e30f0247-0125-41bf-89df-bd3bb236f5d7"
      },
      "outputs": [
        {
          "name": "stderr",
          "output_type": "stream",
          "text": [
            "/usr/local/lib/python3.10/dist-packages/numpy/ma/core.py:2820: RuntimeWarning: invalid value encountered in cast\n",
            "  _data = np.array(data, dtype=dtype, copy=copy,\n"
          ]
        },
        {
          "name": "stdout",
          "output_type": "stream",
          "text": [
            "Mejores hiperparámetros: {'regressor__max_depth': 20, 'regressor__max_features': 'sqrt', 'regressor__min_samples_leaf': 2, 'regressor__min_samples_split': 10, 'regressor__n_estimators': 100}\n",
            "Error cuadrático medio (Entrenamiento): 5.608645221492051\n",
            "RMSE (Entrenamiento): 2.368257845229706\n",
            "MAE (Entrenamiento): 1.6456901763591296\n",
            "R² (Entrenamiento): 0.4027301007422831\n",
            "Error cuadrático medio (Prueba): 6.272358811034276\n",
            "RMSE (Prueba): 2.5044677700130773\n",
            "MAE (Prueba): 1.7722765369284061\n",
            "R² (Prueba): 0.24045374060646996\n"
          ]
        }
      ],
      "source": [
        "# Dividir el dataset en entrenamiento y prueba (80% - 20%)\n",
        "X_train, X_test, y_train, y_test = train_test_split(\n",
        "    train[['lemmatized_text', 'title_length', 'description_length'] + project_columns],\n",
        "    train['storypoint'],\n",
        "    test_size=0.2,\n",
        "    random_state=42\n",
        ")\n",
        "\n",
        "text_transformer = TfidfVectorizer(max_features=2000, ngram_range=(1, 3))\n",
        "\n",
        "numeric_transformer = StandardScaler()\n",
        "\n",
        "preprocessor = ColumnTransformer(\n",
        "    transformers=[\n",
        "        ('text', text_transformer, 'lemmatized_text'),\n",
        "        ('num', numeric_transformer, ['title_length', 'description_length']),\n",
        "        ('project', 'passthrough', project_columns)\n",
        "    ])\n",
        "\n",
        "pipeline = Pipeline(steps=[\n",
        "    ('preprocessor', preprocessor),\n",
        "    ('regressor', RandomForestRegressor())\n",
        "])\n",
        "\n",
        "param_grid = {\n",
        "    'regressor__n_estimators': [50, 100, 150],\n",
        "    'regressor__max_depth': [5, 10, 20],\n",
        "    'regressor__min_samples_split': [10, 20, 50],\n",
        "    'regressor__min_samples_leaf': [2, 4, 6],\n",
        "    'regressor__max_features': ['sqrt', 'log2']\n",
        "}\n",
        "\n",
        "grid_search = GridSearchCV(pipeline, param_grid, cv=10, n_jobs=-1, scoring='neg_mean_squared_error')\n",
        "\n",
        "grid_search.fit(X_train, y_train)\n",
        "\n",
        "best_params = grid_search.best_params_\n",
        "print(\"Mejores hiperparámetros:\", best_params)\n",
        "\n",
        "best_model = grid_search.best_estimator_\n",
        "\n",
        "y_pred_train = best_model.predict(X_train)\n",
        "\n",
        "mse_train = mean_squared_error(y_train, y_pred_train)\n",
        "rmse_train = np.sqrt(mse_train)\n",
        "mae_train = mean_absolute_error(y_train, y_pred_train)\n",
        "r2_train = r2_score(y_train, y_pred_train)\n",
        "\n",
        "print(f\"Error cuadrático medio (Entrenamiento): {mse_train}\")\n",
        "print(f\"RMSE (Entrenamiento): {rmse_train}\")\n",
        "print(f\"MAE (Entrenamiento): {mae_train}\")\n",
        "print(f\"R² (Entrenamiento): {r2_train}\")\n",
        "\n",
        "y_pred_test = best_model.predict(X_test)\n",
        "\n",
        "mse_test = mean_squared_error(y_test, y_pred_test)\n",
        "rmse_test = np.sqrt(mse_test)\n",
        "mae_test = mean_absolute_error(y_test, y_pred_test)\n",
        "r2_test = r2_score(y_test, y_pred_test)\n",
        "\n",
        "print(f\"Error cuadrático medio (Prueba): {mse_test}\")\n",
        "print(f\"RMSE (Prueba): {rmse_test}\")\n",
        "print(f\"MAE (Prueba): {mae_test}\")\n",
        "print(f\"R² (Prueba): {r2_test}\")"
      ]
    },
    {
      "cell_type": "markdown",
      "metadata": {
        "id": "NKAFRgHQgVQh"
      },
      "source": [
        "Los resultados del entrenamiento de Random Forest, utilizando las nuevas columnas fueron:\n",
        "\n",
        "**Con \"lemmatized_text\":**\n",
        "\n",
        "- Mejores hiperparámetros: {'regressor__max_depth': 20, 'regressor__max_features': 'sqrt', 'regressor__min_samples_leaf': 2, 'regressor__min_samples_split': 10, 'regressor__n_estimators': 100}\n",
        "- Error cuadrático medio (Entrenamiento): 5.63910193327332\n",
        "- RMSE (Entrenamiento): 2.3746793327254356\n",
        "\n",
        "- Error cuadrático medio (Prueba): 6.248434392553669\n",
        "- RMSE (Prueba): 2.4996868588992642\n",
        "\n",
        "**Con \"filtered_text\":**\n",
        "\n",
        "- Mejores hiperparámetros: {'regressor__max_depth': 20, 'regressor__max_features': 'sqrt', 'regressor__min_samples_leaf': 2, 'regressor__min_samples_split': 20, 'regressor__n_estimators': 150}\n",
        "- Error cuadrático medio (Entrenamiento): 5.798298628593582\n",
        "- RMSE (Entrenamiento): 2.407965661838553\n",
        "\n",
        "- Error cuadrático medio (Prueba): 6.290244255419674\n",
        "- RMSE (Prueba): 2.508035935830999\n"
      ]
    },
    {
      "cell_type": "code",
      "execution_count": null,
      "metadata": {
        "colab": {
          "base_uri": "https://localhost:8080/",
          "height": 34
        },
        "id": "CID9ssHSdU1w",
        "outputId": "b0fe74b7-aaaa-42e3-c82c-da4d8fbe0063"
      },
      "outputs": [
        {
          "data": {
            "application/javascript": [
              "\n",
              "    async function download(id, filename, size) {\n",
              "      if (!google.colab.kernel.accessAllowed) {\n",
              "        return;\n",
              "      }\n",
              "      const div = document.createElement('div');\n",
              "      const label = document.createElement('label');\n",
              "      label.textContent = `Downloading \"${filename}\": `;\n",
              "      div.appendChild(label);\n",
              "      const progress = document.createElement('progress');\n",
              "      progress.max = size;\n",
              "      div.appendChild(progress);\n",
              "      document.body.appendChild(div);\n",
              "\n",
              "      const buffers = [];\n",
              "      let downloaded = 0;\n",
              "\n",
              "      const channel = await google.colab.kernel.comms.open(id);\n",
              "      // Send a message to notify the kernel that we're ready.\n",
              "      channel.send({})\n",
              "\n",
              "      for await (const message of channel.messages) {\n",
              "        // Send a message to notify the kernel that we're ready.\n",
              "        channel.send({})\n",
              "        if (message.buffers) {\n",
              "          for (const buffer of message.buffers) {\n",
              "            buffers.push(buffer);\n",
              "            downloaded += buffer.byteLength;\n",
              "            progress.value = downloaded;\n",
              "          }\n",
              "        }\n",
              "      }\n",
              "      const blob = new Blob(buffers, {type: 'application/binary'});\n",
              "      const a = document.createElement('a');\n",
              "      a.href = window.URL.createObjectURL(blob);\n",
              "      a.download = filename;\n",
              "      div.appendChild(a);\n",
              "      a.click();\n",
              "      div.remove();\n",
              "    }\n",
              "  "
            ],
            "text/plain": [
              "<IPython.core.display.Javascript object>"
            ]
          },
          "metadata": {},
          "output_type": "display_data"
        },
        {
          "data": {
            "application/javascript": [
              "download(\"download_999cbc53-5f59-4f30-8f1b-7fd894c843a2\", \"submissionrfplus.csv\", 45881)"
            ],
            "text/plain": [
              "<IPython.core.display.Javascript object>"
            ]
          },
          "metadata": {},
          "output_type": "display_data"
        }
      ],
      "source": [
        "X_test_final = test[['lemmatized_text', 'title_length', 'description_length'] + project_columns]\n",
        "\n",
        "test_predictions = best_model.predict(X_test_final)\n",
        "\n",
        "submission = pd.DataFrame({\n",
        "    'id': test['id'],\n",
        "    'storypoint': test_predictions\n",
        "})\n",
        "\n",
        "submission.to_csv('submissionrfplus.csv', index=False)\n",
        "\n",
        "from google.colab import files\n",
        "files.download('submissionrfplus.csv')"
      ]
    },
    {
      "cell_type": "markdown",
      "metadata": {
        "id": "N2Bmn0me3tYp"
      },
      "source": [
        "##Descarga de Random Forest"
      ]
    },
    {
      "cell_type": "code",
      "execution_count": null,
      "metadata": {
        "colab": {
          "base_uri": "https://localhost:8080/",
          "height": 34
        },
        "id": "1wQ6Ig-6A5H8",
        "outputId": "359d0424-0b96-4bcd-8351-e105d43f8ad9"
      },
      "outputs": [
        {
          "data": {
            "application/javascript": [
              "\n",
              "    async function download(id, filename, size) {\n",
              "      if (!google.colab.kernel.accessAllowed) {\n",
              "        return;\n",
              "      }\n",
              "      const div = document.createElement('div');\n",
              "      const label = document.createElement('label');\n",
              "      label.textContent = `Downloading \"${filename}\": `;\n",
              "      div.appendChild(label);\n",
              "      const progress = document.createElement('progress');\n",
              "      progress.max = size;\n",
              "      div.appendChild(progress);\n",
              "      document.body.appendChild(div);\n",
              "\n",
              "      const buffers = [];\n",
              "      let downloaded = 0;\n",
              "\n",
              "      const channel = await google.colab.kernel.comms.open(id);\n",
              "      // Send a message to notify the kernel that we're ready.\n",
              "      channel.send({})\n",
              "\n",
              "      for await (const message of channel.messages) {\n",
              "        // Send a message to notify the kernel that we're ready.\n",
              "        channel.send({})\n",
              "        if (message.buffers) {\n",
              "          for (const buffer of message.buffers) {\n",
              "            buffers.push(buffer);\n",
              "            downloaded += buffer.byteLength;\n",
              "            progress.value = downloaded;\n",
              "          }\n",
              "        }\n",
              "      }\n",
              "      const blob = new Blob(buffers, {type: 'application/binary'});\n",
              "      const a = document.createElement('a');\n",
              "      a.href = window.URL.createObjectURL(blob);\n",
              "      a.download = filename;\n",
              "      div.appendChild(a);\n",
              "      a.click();\n",
              "      div.remove();\n",
              "    }\n",
              "  "
            ],
            "text/plain": [
              "<IPython.core.display.Javascript object>"
            ]
          },
          "metadata": {},
          "output_type": "display_data"
        },
        {
          "data": {
            "application/javascript": [
              "download(\"download_a32ad52e-e7e7-4ee4-823e-b219950ba5dc\", \"submissionrf.csv\", 45835)"
            ],
            "text/plain": [
              "<IPython.core.display.Javascript object>"
            ]
          },
          "metadata": {},
          "output_type": "display_data"
        }
      ],
      "source": [
        "test_predictions = rf_model_best.predict(test_vec)\n",
        "\n",
        "submission = pd.DataFrame({\n",
        "    'id': test['id'],\n",
        "    'storypoint': test_predictions\n",
        "})\n",
        "\n",
        "submission.to_csv('submissionrf.csv', index=False)\n",
        "\n",
        "from google.colab import files\n",
        "files.download('submissionrf.csv')"
      ]
    },
    {
      "cell_type": "markdown",
      "metadata": {
        "id": "YbB_5VPyBQP3"
      },
      "source": [
        "# XGboost"
      ]
    },
    {
      "cell_type": "markdown",
      "metadata": {
        "id": "ufYX3aUxeJX3"
      },
      "source": [
        "Similar al modelo anterior, probamos los resultados de las columnas 'lemmatized_test' y 'filtered_text'"
      ]
    },
    {
      "cell_type": "code",
      "execution_count": null,
      "metadata": {
        "colab": {
          "base_uri": "https://localhost:8080/"
        },
        "id": "Jm9Xrvm5EM34",
        "outputId": "5f6f9e0f-34f5-4995-fd0c-cd486362f9c7"
      },
      "outputs": [
        {
          "output_type": "stream",
          "name": "stdout",
          "text": [
            "Tamaño del conjunto de entrenamiento: 6320\n",
            "Tamaño del conjunto de prueba: 1580\n"
          ]
        }
      ],
      "source": [
        "# Dividir el dataset en entrenamiento y prueba (80% - 20%)\n",
        "X_train, X_test, y_train, y_test = train_test_split(\n",
        "    train['lemmatized_text'], train['storypoint'], test_size=0.2, random_state=42)\n",
        "\n",
        "print(f\"Tamaño del conjunto de entrenamiento: {len(X_train)}\")\n",
        "print(f\"Tamaño del conjunto de prueba: {len(X_test)}\")"
      ]
    },
    {
      "cell_type": "code",
      "execution_count": null,
      "metadata": {
        "id": "DyBtbfEAfIpv"
      },
      "outputs": [],
      "source": [
        "# Vectorización de texto con TF-IDF\n",
        "vectorizer = TfidfVectorizer(max_features=2000, ngram_range=(1, 3))\n",
        "X_train_vec = vectorizer.fit_transform(X_train)\n",
        "X_test_vec = vectorizer.transform(X_test)\n",
        "\n",
        "test_vec = vectorizer.transform(test['lemmatized_text'])"
      ]
    },
    {
      "cell_type": "code",
      "source": [
        "xgb_model = xgb.XGBRegressor(objective='reg:squarederror', random_state=42)\n",
        "\n",
        "param_grid_xgb = {\n",
        "    'n_estimators': [50, 100, 200],\n",
        "    'max_depth': [3, 5, 7, 10],\n",
        "    'learning_rate': [0.01, 0.1, 0.2],\n",
        "    'subsample': [0.8, 1.0]\n",
        "}\n",
        "\n",
        "grid_search_xgb = GridSearchCV(xgb_model, param_grid_xgb, scoring='neg_mean_squared_error', cv=10)\n",
        "grid_search_xgb.fit(X_train_vec, y_train)\n",
        "\n",
        "best_params_xgb = grid_search_xgb.best_params_\n",
        "print(\"Mejores parámetros de XGBoost:\", best_params_xgb)\n",
        "\n",
        "xgb_model_best = xgb.XGBRegressor(**best_params_xgb, objective='reg:squarederror', random_state=42)\n",
        "xgb_model_best.fit(X_train_vec, y_train)\n",
        "\n",
        "y_train_pred_xgb = xgb_model_best.predict(X_train_vec)\n",
        "mse_train_xgb = mean_squared_error(y_train, y_train_pred_xgb)\n",
        "rmse_train_xgb = np.sqrt(mse_train_xgb)\n",
        "print(f\"Error cuadrático medio (Entrenamiento): {mse_train_xgb}\")\n",
        "print(f\"RMSE (Entrenamiento): {rmse_train_xgb}\")\n",
        "\n",
        "y_pred_xgb = xgb_model_best.predict(X_test_vec)\n",
        "\n",
        "mse_test_xgb = mean_squared_error(y_test, y_pred_xgb)\n",
        "rmse_test_xgb = np.sqrt(mse_test_xgb)\n",
        "print(f\"Error cuadrático medio (Validación): {mse_test_xgb}\")\n",
        "print(f\"RMSE (Validación): {rmse_test_xgb}\")"
      ],
      "metadata": {
        "colab": {
          "base_uri": "https://localhost:8080/"
        },
        "id": "_GxVz6JImTPb",
        "outputId": "dbcec333-230c-4b8d-f8fb-5c7e95aba112"
      },
      "execution_count": null,
      "outputs": [
        {
          "output_type": "stream",
          "name": "stdout",
          "text": [
            "Mejores parámetros de XGBoost: {'learning_rate': 0.1, 'max_depth': 7, 'n_estimators': 200, 'subsample': 0.8}\n",
            "Error cuadrático medio (Entrenamiento): 1.9978649640112491\n",
            "RMSE (Entrenamiento): 1.4134585115988545\n",
            "Error cuadrático medio (Validación): 6.02053165468033\n",
            "RMSE (Validación): 2.453677170020606\n"
          ]
        }
      ]
    },
    {
      "cell_type": "markdown",
      "source": [
        "Con la columna 'filtered_text':\n",
        "\n",
        "- Mejores parámetros de XGBoost: {'learning_rate': 0.1, 'max_depth': 5, 'n_estimators': 200, 'subsample': 1.0}\n",
        "- Error cuadrático medio (Entrenamiento): 3.068234747859882\n",
        "- RMSE (Entrenamiento): 1.7516377330543784\n",
        "- Error cuadrático medio (Validación): 6.019436694201848\n",
        "- RMSE (Validación): 2.453454033439764\n",
        "\n",
        "Los resultados que obtuvimos con 'lemmatized_text' fueron:\n",
        "- Mejores parámetros de XGBoost: {'learning_rate': 0.1, 'max_depth': 7, 'n_estimators': 200, 'subsample': 0.8}\n",
        "- Error cuadrático medio (Entrenamiento): 1.9978649640112491\n",
        "- RMSE (Entrenamiento): 1.4134585115988545\n",
        "- Error cuadrático medio (Validación): 6.02053165468033\n",
        "- RMSE (Validación): 2.453677170020606"
      ],
      "metadata": {
        "id": "VPMN1Gs8mqEc"
      }
    },
    {
      "cell_type": "markdown",
      "metadata": {
        "id": "g5m4hqX11IfN"
      },
      "source": [
        "Usando las nuevas columnas:"
      ]
    },
    {
      "cell_type": "code",
      "execution_count": null,
      "metadata": {
        "id": "YJAkv0yw1M_T"
      },
      "outputs": [],
      "source": [
        "import xgboost as xgb\n",
        "from sklearn.model_selection import train_test_split, GridSearchCV\n",
        "from sklearn.compose import ColumnTransformer\n",
        "from sklearn.pipeline import Pipeline\n",
        "from sklearn.feature_extraction.text import TfidfVectorizer\n",
        "from sklearn.preprocessing import StandardScaler\n",
        "from sklearn.metrics import mean_squared_error\n",
        "import numpy as np\n",
        "\n",
        "project_columns = [f'project_project{i}' for i in range(1, 9)]  # Las columnas 'project_project1' a 'project_project8'\n",
        "\n",
        "X_train, X_test, y_train, y_test = train_test_split(\n",
        "    train[['lemmatized_text', 'title_length', 'description_length'] + project_columns],\n",
        "    train['storypoint'],\n",
        "    test_size=0.2,\n",
        "    random_state=42\n",
        ")\n",
        "\n",
        "text_transformer = TfidfVectorizer(max_features=2000, ngram_range=(1, 3))\n",
        "numeric_transformer = StandardScaler()\n",
        "\n",
        "preprocessor = ColumnTransformer(\n",
        "    transformers=[\n",
        "        ('text', text_transformer, 'lemmatized_text'),\n",
        "        ('num', numeric_transformer, ['title_length', 'description_length']),\n",
        "        ('project', 'passthrough', project_columns)\n",
        "    ]\n",
        ")\n",
        "\n",
        "xgb_model = xgb.XGBRegressor(objective='reg:squarederror', random_state=42)\n",
        "\n",
        "pipeline = Pipeline(steps=[('preprocessor', preprocessor), ('model', xgb_model)])\n",
        "\n",
        "# Definir el grid de hiperparámetros\n",
        "param_grid_xgb = {\n",
        "    'model__n_estimators': [50, 100, 200],\n",
        "    'model__max_depth': [3, 5, 7, 10],\n",
        "    'model__learning_rate': [0.01, 0.1, 0.2],\n",
        "    'model__subsample': [0.8, 1.0]\n",
        "}\n",
        "\n",
        "grid_search_xgb = GridSearchCV(pipeline, param_grid_xgb, scoring='neg_mean_squared_error', cv=10)\n",
        "grid_search_xgb.fit(X_train, y_train)\n",
        "\n",
        "best_params_xgb = grid_search_xgb.best_params_\n",
        "print(\"Mejores parámetros de XGBoost:\", best_params_xgb)\n",
        "\n",
        "pipeline.set_params(**grid_search_xgb.best_params_)\n",
        "pipeline.fit(X_train, y_train)\n",
        "\n",
        "y_train_pred_xgb = pipeline.predict(X_train)\n",
        "mse_train_xgb = mean_squared_error(y_train, y_train_pred_xgb)\n",
        "rmse_train_xgb = np.sqrt(mse_train_xgb)\n",
        "print(f\"Error cuadrático medio (Entrenamiento): {mse_train_xgb}\")\n",
        "print(f\"RMSE (Entrenamiento): {rmse_train_xgb}\")\n",
        "\n",
        "y_pred_xgb = pipeline.predict(X_test)\n",
        "\n",
        "mse_test_xgb = mean_squared_error(y_test, y_pred_xgb)\n",
        "rmse_test_xgb = np.sqrt(mse_test_xgb)\n",
        "print(f\"Error cuadrático medio (Validación): {mse_test_xgb}\")\n",
        "print(f\"RMSE (Validación): {rmse_test_xgb}\")"
      ]
    },
    {
      "cell_type": "markdown",
      "source": [
        "(lo corrimos mas de 12 hs y no terminaba nunca pq se nos cortaba el colab, lo dejamos para mostrar el codigo)"
      ],
      "metadata": {
        "id": "BnR8zVLld6U2"
      }
    },
    {
      "cell_type": "markdown",
      "metadata": {
        "id": "aAcNCC90ESDg"
      },
      "source": [
        "##Descarga de XGBoost"
      ]
    },
    {
      "cell_type": "code",
      "source": [
        "test_predictions = xgb_model_best.predict(test_vec)\n",
        "\n",
        "submission = pd.DataFrame({\n",
        "    'id': test['id'],\n",
        "    'storypoint': test_predictions\n",
        "})\n",
        "\n",
        "submission.to_csv('submissionxgb.csv', index=False)\n",
        "\n",
        "from google.colab import files\n",
        "files.download('submissionxgb.csv')"
      ],
      "metadata": {
        "colab": {
          "base_uri": "https://localhost:8080/",
          "height": 17
        },
        "id": "tGIBLKFblM1S",
        "outputId": "eb22db09-c4dc-4a28-eece-187371a2c3d7"
      },
      "execution_count": null,
      "outputs": [
        {
          "output_type": "display_data",
          "data": {
            "text/plain": [
              "<IPython.core.display.Javascript object>"
            ],
            "application/javascript": [
              "\n",
              "    async function download(id, filename, size) {\n",
              "      if (!google.colab.kernel.accessAllowed) {\n",
              "        return;\n",
              "      }\n",
              "      const div = document.createElement('div');\n",
              "      const label = document.createElement('label');\n",
              "      label.textContent = `Downloading \"${filename}\": `;\n",
              "      div.appendChild(label);\n",
              "      const progress = document.createElement('progress');\n",
              "      progress.max = size;\n",
              "      div.appendChild(progress);\n",
              "      document.body.appendChild(div);\n",
              "\n",
              "      const buffers = [];\n",
              "      let downloaded = 0;\n",
              "\n",
              "      const channel = await google.colab.kernel.comms.open(id);\n",
              "      // Send a message to notify the kernel that we're ready.\n",
              "      channel.send({})\n",
              "\n",
              "      for await (const message of channel.messages) {\n",
              "        // Send a message to notify the kernel that we're ready.\n",
              "        channel.send({})\n",
              "        if (message.buffers) {\n",
              "          for (const buffer of message.buffers) {\n",
              "            buffers.push(buffer);\n",
              "            downloaded += buffer.byteLength;\n",
              "            progress.value = downloaded;\n",
              "          }\n",
              "        }\n",
              "      }\n",
              "      const blob = new Blob(buffers, {type: 'application/binary'});\n",
              "      const a = document.createElement('a');\n",
              "      a.href = window.URL.createObjectURL(blob);\n",
              "      a.download = filename;\n",
              "      div.appendChild(a);\n",
              "      a.click();\n",
              "      div.remove();\n",
              "    }\n",
              "  "
            ]
          },
          "metadata": {}
        },
        {
          "output_type": "display_data",
          "data": {
            "text/plain": [
              "<IPython.core.display.Javascript object>"
            ],
            "application/javascript": [
              "download(\"download_47c03464-a215-44e3-bd8b-15afe7c1239c\", \"submissionxgb.csv\", 28665)"
            ]
          },
          "metadata": {}
        }
      ]
    },
    {
      "cell_type": "markdown",
      "metadata": {
        "id": "to9nPHQJBTsW"
      },
      "source": [
        "#Un modelo de red neuronal aplicando Keras y Tensor Flow."
      ]
    },
    {
      "cell_type": "code",
      "execution_count": null,
      "metadata": {
        "id": "UVYPJqv5WqxL"
      },
      "outputs": [],
      "source": [
        "# Importar librerías necesarias\n",
        "from sklearn.model_selection import train_test_split\n",
        "from sklearn.feature_extraction.text import TfidfVectorizer\n",
        "import tensorflow as tf\n",
        "import random\n",
        "from tensorflow.keras.models import Sequential\n",
        "from tensorflow.keras.layers import Dense, Dropout\n",
        "from tensorflow.keras.callbacks import EarlyStopping, ModelCheckpoint, ReduceLROnPlateau\n",
        "import matplotlib.pyplot as plt"
      ]
    },
    {
      "cell_type": "markdown",
      "metadata": {
        "id": "w9sTIFLgVQ1X"
      },
      "source": [
        "##TfidfVectorizer"
      ]
    },
    {
      "cell_type": "code",
      "execution_count": null,
      "metadata": {
        "colab": {
          "base_uri": "https://localhost:8080/",
          "height": 882
        },
        "id": "1CKLNHPU2FY9",
        "outputId": "646a6c6d-2dde-41d9-878d-26aaa87c4e79"
      },
      "outputs": [
        {
          "name": "stderr",
          "output_type": "stream",
          "text": [
            "/usr/local/lib/python3.10/dist-packages/keras/src/layers/core/dense.py:87: UserWarning: Do not pass an `input_shape`/`input_dim` argument to a layer. When using Sequential models, prefer using an `Input(shape)` object as the first layer in the model instead.\n",
            "  super().__init__(activity_regularizer=activity_regularizer, **kwargs)\n"
          ]
        },
        {
          "data": {
            "text/html": [
              "<pre style=\"white-space:pre;overflow-x:auto;line-height:normal;font-family:Menlo,'DejaVu Sans Mono',consolas,'Courier New',monospace\"><span style=\"font-weight: bold\">Model: \"sequential_5\"</span>\n",
              "</pre>\n"
            ],
            "text/plain": [
              "\u001b[1mModel: \"sequential_5\"\u001b[0m\n"
            ]
          },
          "metadata": {},
          "output_type": "display_data"
        },
        {
          "data": {
            "text/html": [
              "<pre style=\"white-space:pre;overflow-x:auto;line-height:normal;font-family:Menlo,'DejaVu Sans Mono',consolas,'Courier New',monospace\">┏━━━━━━━━━━━━━━━━━━━━━━━━━━━━━━━━━━━━━━┳━━━━━━━━━━━━━━━━━━━━━━━━━━━━━┳━━━━━━━━━━━━━━━━━┓\n",
              "┃<span style=\"font-weight: bold\"> Layer (type)                         </span>┃<span style=\"font-weight: bold\"> Output Shape                </span>┃<span style=\"font-weight: bold\">         Param # </span>┃\n",
              "┡━━━━━━━━━━━━━━━━━━━━━━━━━━━━━━━━━━━━━━╇━━━━━━━━━━━━━━━━━━━━━━━━━━━━━╇━━━━━━━━━━━━━━━━━┩\n",
              "│ dense_15 (<span style=\"color: #0087ff; text-decoration-color: #0087ff\">Dense</span>)                     │ (<span style=\"color: #00d7ff; text-decoration-color: #00d7ff\">None</span>, <span style=\"color: #00af00; text-decoration-color: #00af00\">256</span>)                 │         <span style=\"color: #00af00; text-decoration-color: #00af00\">512,256</span> │\n",
              "├──────────────────────────────────────┼─────────────────────────────┼─────────────────┤\n",
              "│ dropout_10 (<span style=\"color: #0087ff; text-decoration-color: #0087ff\">Dropout</span>)                 │ (<span style=\"color: #00d7ff; text-decoration-color: #00d7ff\">None</span>, <span style=\"color: #00af00; text-decoration-color: #00af00\">256</span>)                 │               <span style=\"color: #00af00; text-decoration-color: #00af00\">0</span> │\n",
              "├──────────────────────────────────────┼─────────────────────────────┼─────────────────┤\n",
              "│ dense_16 (<span style=\"color: #0087ff; text-decoration-color: #0087ff\">Dense</span>)                     │ (<span style=\"color: #00d7ff; text-decoration-color: #00d7ff\">None</span>, <span style=\"color: #00af00; text-decoration-color: #00af00\">128</span>)                 │          <span style=\"color: #00af00; text-decoration-color: #00af00\">32,896</span> │\n",
              "├──────────────────────────────────────┼─────────────────────────────┼─────────────────┤\n",
              "│ dropout_11 (<span style=\"color: #0087ff; text-decoration-color: #0087ff\">Dropout</span>)                 │ (<span style=\"color: #00d7ff; text-decoration-color: #00d7ff\">None</span>, <span style=\"color: #00af00; text-decoration-color: #00af00\">128</span>)                 │               <span style=\"color: #00af00; text-decoration-color: #00af00\">0</span> │\n",
              "├──────────────────────────────────────┼─────────────────────────────┼─────────────────┤\n",
              "│ dense_17 (<span style=\"color: #0087ff; text-decoration-color: #0087ff\">Dense</span>)                     │ (<span style=\"color: #00d7ff; text-decoration-color: #00d7ff\">None</span>, <span style=\"color: #00af00; text-decoration-color: #00af00\">1</span>)                   │             <span style=\"color: #00af00; text-decoration-color: #00af00\">129</span> │\n",
              "└──────────────────────────────────────┴─────────────────────────────┴─────────────────┘\n",
              "</pre>\n"
            ],
            "text/plain": [
              "┏━━━━━━━━━━━━━━━━━━━━━━━━━━━━━━━━━━━━━━┳━━━━━━━━━━━━━━━━━━━━━━━━━━━━━┳━━━━━━━━━━━━━━━━━┓\n",
              "┃\u001b[1m \u001b[0m\u001b[1mLayer (type)                        \u001b[0m\u001b[1m \u001b[0m┃\u001b[1m \u001b[0m\u001b[1mOutput Shape               \u001b[0m\u001b[1m \u001b[0m┃\u001b[1m \u001b[0m\u001b[1m        Param #\u001b[0m\u001b[1m \u001b[0m┃\n",
              "┡━━━━━━━━━━━━━━━━━━━━━━━━━━━━━━━━━━━━━━╇━━━━━━━━━━━━━━━━━━━━━━━━━━━━━╇━━━━━━━━━━━━━━━━━┩\n",
              "│ dense_15 (\u001b[38;5;33mDense\u001b[0m)                     │ (\u001b[38;5;45mNone\u001b[0m, \u001b[38;5;34m256\u001b[0m)                 │         \u001b[38;5;34m512,256\u001b[0m │\n",
              "├──────────────────────────────────────┼─────────────────────────────┼─────────────────┤\n",
              "│ dropout_10 (\u001b[38;5;33mDropout\u001b[0m)                 │ (\u001b[38;5;45mNone\u001b[0m, \u001b[38;5;34m256\u001b[0m)                 │               \u001b[38;5;34m0\u001b[0m │\n",
              "├──────────────────────────────────────┼─────────────────────────────┼─────────────────┤\n",
              "│ dense_16 (\u001b[38;5;33mDense\u001b[0m)                     │ (\u001b[38;5;45mNone\u001b[0m, \u001b[38;5;34m128\u001b[0m)                 │          \u001b[38;5;34m32,896\u001b[0m │\n",
              "├──────────────────────────────────────┼─────────────────────────────┼─────────────────┤\n",
              "│ dropout_11 (\u001b[38;5;33mDropout\u001b[0m)                 │ (\u001b[38;5;45mNone\u001b[0m, \u001b[38;5;34m128\u001b[0m)                 │               \u001b[38;5;34m0\u001b[0m │\n",
              "├──────────────────────────────────────┼─────────────────────────────┼─────────────────┤\n",
              "│ dense_17 (\u001b[38;5;33mDense\u001b[0m)                     │ (\u001b[38;5;45mNone\u001b[0m, \u001b[38;5;34m1\u001b[0m)                   │             \u001b[38;5;34m129\u001b[0m │\n",
              "└──────────────────────────────────────┴─────────────────────────────┴─────────────────┘\n"
            ]
          },
          "metadata": {},
          "output_type": "display_data"
        },
        {
          "data": {
            "text/html": [
              "<pre style=\"white-space:pre;overflow-x:auto;line-height:normal;font-family:Menlo,'DejaVu Sans Mono',consolas,'Courier New',monospace\"><span style=\"font-weight: bold\"> Total params: </span><span style=\"color: #00af00; text-decoration-color: #00af00\">545,281</span> (2.08 MB)\n",
              "</pre>\n"
            ],
            "text/plain": [
              "\u001b[1m Total params: \u001b[0m\u001b[38;5;34m545,281\u001b[0m (2.08 MB)\n"
            ]
          },
          "metadata": {},
          "output_type": "display_data"
        },
        {
          "data": {
            "text/html": [
              "<pre style=\"white-space:pre;overflow-x:auto;line-height:normal;font-family:Menlo,'DejaVu Sans Mono',consolas,'Courier New',monospace\"><span style=\"font-weight: bold\"> Trainable params: </span><span style=\"color: #00af00; text-decoration-color: #00af00\">545,281</span> (2.08 MB)\n",
              "</pre>\n"
            ],
            "text/plain": [
              "\u001b[1m Trainable params: \u001b[0m\u001b[38;5;34m545,281\u001b[0m (2.08 MB)\n"
            ]
          },
          "metadata": {},
          "output_type": "display_data"
        },
        {
          "data": {
            "text/html": [
              "<pre style=\"white-space:pre;overflow-x:auto;line-height:normal;font-family:Menlo,'DejaVu Sans Mono',consolas,'Courier New',monospace\"><span style=\"font-weight: bold\"> Non-trainable params: </span><span style=\"color: #00af00; text-decoration-color: #00af00\">0</span> (0.00 B)\n",
              "</pre>\n"
            ],
            "text/plain": [
              "\u001b[1m Non-trainable params: \u001b[0m\u001b[38;5;34m0\u001b[0m (0.00 B)\n"
            ]
          },
          "metadata": {},
          "output_type": "display_data"
        },
        {
          "name": "stdout",
          "output_type": "stream",
          "text": [
            "Epoch 1/50\n",
            "\u001b[1m198/198\u001b[0m \u001b[32m━━━━━━━━━━━━━━━━━━━━\u001b[0m\u001b[37m\u001b[0m \u001b[1m7s\u001b[0m 18ms/step - loss: 19.0390 - mean_squared_error: 15.8979 - val_loss: 7.8454 - val_mean_squared_error: 6.2674 - learning_rate: 0.0010\n",
            "Epoch 2/50\n",
            "\u001b[1m198/198\u001b[0m \u001b[32m━━━━━━━━━━━━━━━━━━━━\u001b[0m\u001b[37m\u001b[0m \u001b[1m5s\u001b[0m 15ms/step - loss: 9.9193 - mean_squared_error: 8.3784 - val_loss: 7.6544 - val_mean_squared_error: 6.1759 - learning_rate: 0.0010\n",
            "Epoch 3/50\n",
            "\u001b[1m198/198\u001b[0m \u001b[32m━━━━━━━━━━━━━━━━━━━━\u001b[0m\u001b[37m\u001b[0m \u001b[1m4s\u001b[0m 10ms/step - loss: 9.4182 - mean_squared_error: 7.9204 - val_loss: 7.7963 - val_mean_squared_error: 6.2984 - learning_rate: 0.0010\n",
            "Epoch 4/50\n",
            "\u001b[1m198/198\u001b[0m \u001b[32m━━━━━━━━━━━━━━━━━━━━\u001b[0m\u001b[37m\u001b[0m \u001b[1m2s\u001b[0m 10ms/step - loss: 9.1770 - mean_squared_error: 7.6442 - val_loss: 7.8186 - val_mean_squared_error: 6.2790 - learning_rate: 0.0010\n",
            "Epoch 5/50\n",
            "\u001b[1m198/198\u001b[0m \u001b[32m━━━━━━━━━━━━━━━━━━━━\u001b[0m\u001b[37m\u001b[0m \u001b[1m2s\u001b[0m 11ms/step - loss: 9.0140 - mean_squared_error: 7.4375 - val_loss: 7.9153 - val_mean_squared_error: 6.3050 - learning_rate: 0.0010\n",
            "Epoch 6/50\n",
            "\u001b[1m198/198\u001b[0m \u001b[32m━━━━━━━━━━━━━━━━━━━━\u001b[0m\u001b[37m\u001b[0m \u001b[1m3s\u001b[0m 13ms/step - loss: 8.7701 - mean_squared_error: 7.1124 - val_loss: 7.9991 - val_mean_squared_error: 6.2968 - learning_rate: 0.0010\n",
            "Epoch 7/50\n",
            "\u001b[1m198/198\u001b[0m \u001b[32m━━━━━━━━━━━━━━━━━━━━\u001b[0m\u001b[37m\u001b[0m \u001b[1m3s\u001b[0m 14ms/step - loss: 8.9884 - mean_squared_error: 7.2395 - val_loss: 8.1128 - val_mean_squared_error: 6.3163 - learning_rate: 0.0010\n",
            "Epoch 8/50\n",
            "\u001b[1m198/198\u001b[0m \u001b[32m━━━━━━━━━━━━━━━━━━━━\u001b[0m\u001b[37m\u001b[0m \u001b[1m2s\u001b[0m 10ms/step - loss: 8.2239 - mean_squared_error: 6.4361 - val_loss: 8.0384 - val_mean_squared_error: 6.3031 - learning_rate: 5.0000e-04\n",
            "Epoch 9/50\n",
            "\u001b[1m198/198\u001b[0m \u001b[32m━━━━━━━━━━━━━━━━━━━━\u001b[0m\u001b[37m\u001b[0m \u001b[1m2s\u001b[0m 10ms/step - loss: 7.7337 - mean_squared_error: 5.9907 - val_loss: 8.0797 - val_mean_squared_error: 6.3391 - learning_rate: 5.0000e-04\n",
            "Epoch 10/50\n",
            "\u001b[1m198/198\u001b[0m \u001b[32m━━━━━━━━━━━━━━━━━━━━\u001b[0m\u001b[37m\u001b[0m \u001b[1m3s\u001b[0m 10ms/step - loss: 7.4067 - mean_squared_error: 5.6478 - val_loss: 8.1941 - val_mean_squared_error: 6.4157 - learning_rate: 5.0000e-04\n",
            "Epoch 11/50\n",
            "\u001b[1m198/198\u001b[0m \u001b[32m━━━━━━━━━━━━━━━━━━━━\u001b[0m\u001b[37m\u001b[0m \u001b[1m2s\u001b[0m 10ms/step - loss: 7.0328 - mean_squared_error: 5.2263 - val_loss: 8.2756 - val_mean_squared_error: 6.4358 - learning_rate: 5.0000e-04\n",
            "Epoch 12/50\n",
            "\u001b[1m198/198\u001b[0m \u001b[32m━━━━━━━━━━━━━━━━━━━━\u001b[0m\u001b[37m\u001b[0m \u001b[1m3s\u001b[0m 14ms/step - loss: 6.7842 - mean_squared_error: 4.9170 - val_loss: 8.3622 - val_mean_squared_error: 6.4622 - learning_rate: 5.0000e-04\n",
            "\u001b[1m50/50\u001b[0m \u001b[32m━━━━━━━━━━━━━━━━━━━━\u001b[0m\u001b[37m\u001b[0m \u001b[1m0s\u001b[0m 3ms/step - loss: 7.6844 - mean_squared_error: 6.2058\n",
            "Error cuadrático medio (MSE) en prueba: 6.175868511199951\n",
            "Raíz del error cuadrático medio (RMSE) en prueba: 2.4851294757416467\n",
            "\u001b[1m198/198\u001b[0m \u001b[32m━━━━━━━━━━━━━━━━━━━━\u001b[0m\u001b[37m\u001b[0m \u001b[1m1s\u001b[0m 3ms/step - loss: 8.1094 - mean_squared_error: 6.6309\n",
            "Error cuadrático medio (MSE) en entrenamiento: 6.158326148986816\n",
            "Raíz del error cuadrático medio (RMSE) en entrenamiento: 2.481597499391635\n"
          ]
        }
      ],
      "source": [
        "seed_value = 42\n",
        "random.seed(seed_value)\n",
        "np.random.seed(seed_value)\n",
        "tf.random.set_seed(seed_value)\n",
        "\n",
        "X_train, X_test, y_train, y_test = train_test_split(\n",
        "    train['clean_text'], train['storypoint'], test_size=0.2, random_state=seed_value)\n",
        "\n",
        "vectorizer_tfidf = TfidfVectorizer(max_features=2000)\n",
        "X_train_tfidf = vectorizer_tfidf.fit_transform(X_train)\n",
        "X_test_tfidf = vectorizer_tfidf.transform(X_test)\n",
        "\n",
        "model = Sequential()\n",
        "\n",
        "model.add(Dense(256, input_dim=X_train_tfidf.shape[1], activation='relu', kernel_regularizer=tf.keras.regularizers.l2(0.01)))\n",
        "model.add(Dropout(0.5))\n",
        "model.add(Dense(128, activation='relu', kernel_regularizer=tf.keras.regularizers.l2(0.01)))\n",
        "model.add(Dropout(0.5))\n",
        "model.add(Dense(1, activation='linear'))\n",
        "\n",
        "model.compile(optimizer=tf.keras.optimizers.Adam(learning_rate=0.001), loss='mean_squared_error', metrics=['mean_squared_error'])\n",
        "\n",
        "model.summary()\n",
        "\n",
        "early_stopping = EarlyStopping(monitor='val_loss', patience=10, restore_best_weights=True)\n",
        "reduce_lr = ReduceLROnPlateau(monitor='val_loss', factor=0.5, patience=5, min_lr=1e-5)\n",
        "checkpoint = ModelCheckpoint('best_model.keras', monitor='val_loss', save_best_only=True)\n",
        "\n",
        "history = model.fit(X_train_tfidf, y_train, epochs=50, batch_size=32, validation_data=(X_test_tfidf, y_test),\n",
        "                    callbacks=[early_stopping, reduce_lr, checkpoint])\n",
        "\n",
        "loss_test, mse_test = model.evaluate(X_test_tfidf, y_test)\n",
        "rmse_test = mse_test ** 0.5\n",
        "\n",
        "print(f\"Error cuadrático medio (MSE) en prueba: {mse_test}\")\n",
        "print(f\"Raíz del error cuadrático medio (RMSE) en prueba: {rmse_test}\")\n",
        "\n",
        "loss_train, mse_train = model.evaluate(X_train_tfidf, y_train)\n",
        "rmse_train = mse_train ** 0.5\n",
        "\n",
        "print(f\"Error cuadrático medio (MSE) en entrenamiento: {mse_train}\")\n",
        "print(f\"Raíz del error cuadrático medio (RMSE) en entrenamiento: {rmse_train}\")"
      ]
    },
    {
      "cell_type": "code",
      "execution_count": null,
      "metadata": {
        "colab": {
          "base_uri": "https://localhost:8080/",
          "height": 474
        },
        "id": "wg-h8mdxUck6",
        "outputId": "625b60e0-2465-46c8-cf99-4d30793c830b"
      },
      "outputs": [
        {
          "data": {
            "image/png": "[encoded data removed]",
            "text/plain": [
              "<Figure size 640x480 with 1 Axes>"
            ]
          },
          "metadata": {},
          "output_type": "display_data"
        }
      ],
      "source": [
        "import matplotlib.pyplot as plt\n",
        "\n",
        "# Graficar la pérdida (loss) durante el entrenamiento\n",
        "plt.plot(history.history['loss'], label='Pérdida en entrenamiento')\n",
        "plt.plot(history.history['val_loss'], label='Pérdida en validación')\n",
        "plt.title('Pérdida durante el entrenamiento')\n",
        "plt.xlabel('Épocas')\n",
        "plt.ylabel('Pérdida')\n",
        "plt.legend()\n",
        "plt.show()"
      ]
    },
    {
      "cell_type": "markdown",
      "metadata": {
        "id": "FrBPd1lQUvmz"
      },
      "source": [
        "Probamos el modelo de Redes Neuronales con el texto concatenado, \"text\" nos dio resultados:\n",
        "\n",
        "**TfidfVectorizer**\n",
        "- Error cuadrático medio (MSE Validación): 6.220636367797852\n",
        "- Raíz del error cuadrático medio (RMSE Validación) en prueba: 2.4941203595251475\n",
        "\n",
        "- Error cuadrático medio (MSE Entrenamiento): 6.299950122833252\n",
        "- Raíz del error cuadrático medio (RMSE Entrenamiento): 2.5099701438131197\n",
        "\n",
        "Luego con el preprocesamiento básico, \"clean_text\" obtuvimos los resultados:\n",
        "\n",
        "**TfidfVectorizer**\n",
        "\n",
        "- Error cuadrático medio (MSE Validación): 6.175868511199951\n",
        "- Raíz del error cuadrático medio (RMSE Validación): 2.4851294757416467\n",
        "\n",
        "- Error cuadrático medio (MSE Entrenamiento): 6.158326148986816\n",
        "- Raíz del error cuadrático medio (RMSE Entrenamiento): 2.481597499391635\n",
        "\n",
        "Agregando al preprocesamiento, lemmatización y tokenización, con \"lemmatized_text\":\n",
        "\n",
        "**TfidfVectorizer**\n",
        "\n",
        "- Error cuadrático medio (MSE Validación): 6.19241189956665\n",
        "- Raíz del error cuadrático medio (RMSE Validación): 2.4884557258602475\n",
        "\n",
        "- Error cuadrático medio (MSE Entrenamiento): 6.22749662399292\n",
        "- Raíz del error cuadrático medio (RMSE Entrenamiento): 2.4954952662733945\n",
        "\n",
        "Con \"filtered_tex\", que es \"lemmatized_text\" pero filtrada por mínima frecuencia:\n",
        "\n",
        "- Error cuadrático medio (MSE Validación): 6.199394702911377\n",
        "- Raíz del error cuadrático medio (RMSE Validación): 2.4898583700506696\n",
        "\n",
        "- Error cuadrático medio (MSE Entrenamiento): 6.237082004547119\n",
        "- Raíz del error cuadrático medio (RMSE Entrenamiento): 2.497415064531148\n",
        "\n",
        "Por último con \"clean_filtered_text\" es decir el filtrado sobre \"clean_text\":\n",
        "\n",
        "- Error cuadrático medio (MSE Validación): 6.182759761810303\n",
        "- Raíz del error cuadrático medio (RMSE Validación): 2.4865155864804676\n",
        "\n",
        "- Error cuadrático medio (MSE Entrenamiento): 6.163732051849365\n",
        "- Raíz del error cuadrático medio (RMSE Entrenamiento): 2.4826864586268975\n",
        "\n",
        "Vemos que los resultados son mejores en el caso de los datos preprocesados con procesamientos básicos, investigando determinamos:\n",
        "\n",
        "Las redes neuronales tienen la capacidad de aprender representaciones complejas y capturar dependencias no lineales entre las características. Al simplificar el texto mediante preprocesamiento, se reduce la cantidad de datos que la red puede usar para aprender estos patrones complejos. Por lo tanto, el modelo podría desempeñarse mejor con datos menos procesados donde tiene más contexto para analizar."
      ]
    },
    {
      "cell_type": "markdown",
      "metadata": {
        "id": "18JZVh4nUndP"
      },
      "source": [
        "##Word2Vec"
      ]
    },
    {
      "cell_type": "markdown",
      "metadata": {
        "id": "ipThogDPGGF8"
      },
      "source": [
        "Probamos implementando Word2Vec: cada palabra en el texto se representa mediante un vector denso que captura su significado semántico y la relación con otras palabras"
      ]
    },
    {
      "cell_type": "code",
      "execution_count": null,
      "metadata": {
        "id": "xPDlXhGi-Gp9"
      },
      "outputs": [],
      "source": [
        "from gensim.models import Word2Vec\n",
        "import numpy as np\n",
        "from sklearn.model_selection import train_test_split\n",
        "from tensorflow.keras.models import Sequential\n",
        "from tensorflow.keras.layers import Dense, Dropout\n",
        "from tensorflow.keras.callbacks import EarlyStopping, ReduceLROnPlateau, ModelCheckpoint\n",
        "import tensorflow as tf"
      ]
    },
    {
      "cell_type": "code",
      "execution_count": null,
      "metadata": {
        "colab": {
          "base_uri": "https://localhost:8080/"
        },
        "id": "OxHkBk1gIeZi",
        "outputId": "8e2938a8-b3a9-4b29-a00c-a3ae471e522c"
      },
      "outputs": [
        {
          "name": "stdout",
          "output_type": "stream",
          "text": [
            "Epoch 1/50\n",
            "\u001b[1m198/198\u001b[0m \u001b[32m━━━━━━━━━━━━━━━━━━━━\u001b[0m\u001b[37m\u001b[0m \u001b[1m2s\u001b[0m 4ms/step - loss: 16.8048 - mean_squared_error: 13.8288 - val_loss: 9.6376 - val_mean_squared_error: 7.8981 - learning_rate: 0.0010\n",
            "Epoch 2/50\n",
            "\u001b[1m198/198\u001b[0m \u001b[32m━━━━━━━━━━━━━━━━━━━━\u001b[0m\u001b[37m\u001b[0m \u001b[1m1s\u001b[0m 4ms/step - loss: 12.3213 - mean_squared_error: 10.7327 - val_loss: 9.0304 - val_mean_squared_error: 7.8028 - learning_rate: 0.0010\n",
            "Epoch 3/50\n",
            "\u001b[1m198/198\u001b[0m \u001b[32m━━━━━━━━━━━━━━━━━━━━\u001b[0m\u001b[37m\u001b[0m \u001b[1m1s\u001b[0m 5ms/step - loss: 11.8690 - mean_squared_error: 10.7226 - val_loss: 8.8536 - val_mean_squared_error: 7.9182 - learning_rate: 0.0010\n",
            "Epoch 4/50\n",
            "\u001b[1m198/198\u001b[0m \u001b[32m━━━━━━━━━━━━━━━━━━━━\u001b[0m\u001b[37m\u001b[0m \u001b[1m1s\u001b[0m 5ms/step - loss: 11.3958 - mean_squared_error: 10.5076 - val_loss: 8.4853 - val_mean_squared_error: 7.7388 - learning_rate: 0.0010\n",
            "Epoch 5/50\n",
            "\u001b[1m198/198\u001b[0m \u001b[32m━━━━━━━━━━━━━━━━━━━━\u001b[0m\u001b[37m\u001b[0m \u001b[1m1s\u001b[0m 6ms/step - loss: 11.1993 - mean_squared_error: 10.4865 - val_loss: 8.4374 - val_mean_squared_error: 7.8289 - learning_rate: 0.0010\n",
            "Epoch 6/50\n",
            "\u001b[1m198/198\u001b[0m \u001b[32m━━━━━━━━━━━━━━━━━━━━\u001b[0m\u001b[37m\u001b[0m \u001b[1m1s\u001b[0m 4ms/step - loss: 11.1290 - mean_squared_error: 10.5447 - val_loss: 8.3315 - val_mean_squared_error: 7.8240 - learning_rate: 0.0010\n",
            "Epoch 7/50\n",
            "\u001b[1m198/198\u001b[0m \u001b[32m━━━━━━━━━━━━━━━━━━━━\u001b[0m\u001b[37m\u001b[0m \u001b[1m1s\u001b[0m 4ms/step - loss: 11.1470 - mean_squared_error: 10.6567 - val_loss: 8.1621 - val_mean_squared_error: 7.7304 - learning_rate: 0.0010\n",
            "Epoch 8/50\n",
            "\u001b[1m198/198\u001b[0m \u001b[32m━━━━━━━━━━━━━━━━━━━━\u001b[0m\u001b[37m\u001b[0m \u001b[1m1s\u001b[0m 3ms/step - loss: 10.8575 - mean_squared_error: 10.4375 - val_loss: 8.2712 - val_mean_squared_error: 7.8963 - learning_rate: 0.0010\n",
            "Epoch 9/50\n",
            "\u001b[1m198/198\u001b[0m \u001b[32m━━━━━━━━━━━━━━━━━━━━\u001b[0m\u001b[37m\u001b[0m \u001b[1m1s\u001b[0m 4ms/step - loss: 10.8315 - mean_squared_error: 10.4653 - val_loss: 8.1914 - val_mean_squared_error: 7.8606 - learning_rate: 0.0010\n",
            "Epoch 10/50\n",
            "\u001b[1m198/198\u001b[0m \u001b[32m━━━━━━━━━━━━━━━━━━━━\u001b[0m\u001b[37m\u001b[0m \u001b[1m1s\u001b[0m 3ms/step - loss: 10.6999 - mean_squared_error: 10.3756 - val_loss: 7.9379 - val_mean_squared_error: 7.6426 - learning_rate: 0.0010\n",
            "Epoch 11/50\n",
            "\u001b[1m198/198\u001b[0m \u001b[32m━━━━━━━━━━━━━━━━━━━━\u001b[0m\u001b[37m\u001b[0m \u001b[1m1s\u001b[0m 4ms/step - loss: 10.5540 - mean_squared_error: 10.2643 - val_loss: 7.8735 - val_mean_squared_error: 7.6084 - learning_rate: 0.0010\n",
            "Epoch 12/50\n",
            "\u001b[1m198/198\u001b[0m \u001b[32m━━━━━━━━━━━━━━━━━━━━\u001b[0m\u001b[37m\u001b[0m \u001b[1m1s\u001b[0m 3ms/step - loss: 10.3608 - mean_squared_error: 10.0998 - val_loss: 7.9480 - val_mean_squared_error: 7.7081 - learning_rate: 0.0010\n",
            "Epoch 13/50\n",
            "\u001b[1m198/198\u001b[0m \u001b[32m━━━━━━━━━━━━━━━━━━━━\u001b[0m\u001b[37m\u001b[0m \u001b[1m1s\u001b[0m 4ms/step - loss: 10.4941 - mean_squared_error: 10.2574 - val_loss: 7.8506 - val_mean_squared_error: 7.6310 - learning_rate: 0.0010\n",
            "Epoch 14/50\n",
            "\u001b[1m198/198\u001b[0m \u001b[32m━━━━━━━━━━━━━━━━━━━━\u001b[0m\u001b[37m\u001b[0m \u001b[1m1s\u001b[0m 3ms/step - loss: 10.3492 - mean_squared_error: 10.1321 - val_loss: 7.9096 - val_mean_squared_error: 7.7060 - learning_rate: 0.0010\n",
            "Epoch 15/50\n",
            "\u001b[1m198/198\u001b[0m \u001b[32m━━━━━━━━━━━━━━━━━━━━\u001b[0m\u001b[37m\u001b[0m \u001b[1m1s\u001b[0m 4ms/step - loss: 10.2490 - mean_squared_error: 10.0470 - val_loss: 7.8250 - val_mean_squared_error: 7.6366 - learning_rate: 0.0010\n",
            "Epoch 16/50\n",
            "\u001b[1m198/198\u001b[0m \u001b[32m━━━━━━━━━━━━━━━━━━━━\u001b[0m\u001b[37m\u001b[0m \u001b[1m2s\u001b[0m 6ms/step - loss: 10.2097 - mean_squared_error: 10.0236 - val_loss: 7.7878 - val_mean_squared_error: 7.6175 - learning_rate: 0.0010\n",
            "Epoch 17/50\n",
            "\u001b[1m198/198\u001b[0m \u001b[32m━━━━━━━━━━━━━━━━━━━━\u001b[0m\u001b[37m\u001b[0m \u001b[1m1s\u001b[0m 6ms/step - loss: 10.2818 - mean_squared_error: 10.1122 - val_loss: 7.7705 - val_mean_squared_error: 7.6110 - learning_rate: 0.0010\n",
            "Epoch 18/50\n",
            "\u001b[1m198/198\u001b[0m \u001b[32m━━━━━━━━━━━━━━━━━━━━\u001b[0m\u001b[37m\u001b[0m \u001b[1m1s\u001b[0m 4ms/step - loss: 10.1503 - mean_squared_error: 9.9909 - val_loss: 7.8511 - val_mean_squared_error: 7.7014 - learning_rate: 0.0010\n",
            "Epoch 19/50\n",
            "\u001b[1m198/198\u001b[0m \u001b[32m━━━━━━━━━━━━━━━━━━━━\u001b[0m\u001b[37m\u001b[0m \u001b[1m1s\u001b[0m 3ms/step - loss: 10.2176 - mean_squared_error: 10.0676 - val_loss: 7.8688 - val_mean_squared_error: 7.7268 - learning_rate: 0.0010\n",
            "Epoch 20/50\n",
            "\u001b[1m198/198\u001b[0m \u001b[32m━━━━━━━━━━━━━━━━━━━━\u001b[0m\u001b[37m\u001b[0m \u001b[1m1s\u001b[0m 4ms/step - loss: 10.2608 - mean_squared_error: 10.1188 - val_loss: 7.7731 - val_mean_squared_error: 7.6410 - learning_rate: 0.0010\n",
            "Epoch 21/50\n",
            "\u001b[1m198/198\u001b[0m \u001b[32m━━━━━━━━━━━━━━━━━━━━\u001b[0m\u001b[37m\u001b[0m \u001b[1m1s\u001b[0m 4ms/step - loss: 10.2791 - mean_squared_error: 10.1466 - val_loss: 7.7959 - val_mean_squared_error: 7.6684 - learning_rate: 0.0010\n",
            "Epoch 22/50\n",
            "\u001b[1m198/198\u001b[0m \u001b[32m━━━━━━━━━━━━━━━━━━━━\u001b[0m\u001b[37m\u001b[0m \u001b[1m1s\u001b[0m 4ms/step - loss: 10.0897 - mean_squared_error: 9.9617 - val_loss: 7.7531 - val_mean_squared_error: 7.6309 - learning_rate: 0.0010\n",
            "Epoch 23/50\n",
            "\u001b[1m198/198\u001b[0m \u001b[32m━━━━━━━━━━━━━━━━━━━━\u001b[0m\u001b[37m\u001b[0m \u001b[1m1s\u001b[0m 4ms/step - loss: 10.2383 - mean_squared_error: 10.1153 - val_loss: 7.7644 - val_mean_squared_error: 7.6471 - learning_rate: 0.0010\n",
            "Epoch 24/50\n",
            "\u001b[1m198/198\u001b[0m \u001b[32m━━━━━━━━━━━━━━━━━━━━\u001b[0m\u001b[37m\u001b[0m \u001b[1m1s\u001b[0m 3ms/step - loss: 10.1996 - mean_squared_error: 10.0825 - val_loss: 7.7179 - val_mean_squared_error: 7.6053 - learning_rate: 0.0010\n",
            "Epoch 25/50\n",
            "\u001b[1m198/198\u001b[0m \u001b[32m━━━━━━━━━━━━━━━━━━━━\u001b[0m\u001b[37m\u001b[0m \u001b[1m1s\u001b[0m 4ms/step - loss: 10.1100 - mean_squared_error: 9.9969 - val_loss: 7.6726 - val_mean_squared_error: 7.5632 - learning_rate: 0.0010\n",
            "Epoch 26/50\n",
            "\u001b[1m198/198\u001b[0m \u001b[32m━━━━━━━━━━━━━━━━━━━━\u001b[0m\u001b[37m\u001b[0m \u001b[1m1s\u001b[0m 3ms/step - loss: 10.0990 - mean_squared_error: 9.9884 - val_loss: 7.7239 - val_mean_squared_error: 7.6156 - learning_rate: 0.0010\n",
            "Epoch 27/50\n",
            "\u001b[1m198/198\u001b[0m \u001b[32m━━━━━━━━━━━━━━━━━━━━\u001b[0m\u001b[37m\u001b[0m \u001b[1m1s\u001b[0m 5ms/step - loss: 10.1945 - mean_squared_error: 10.0844 - val_loss: 7.6834 - val_mean_squared_error: 7.5747 - learning_rate: 0.0010\n",
            "Epoch 28/50\n",
            "\u001b[1m198/198\u001b[0m \u001b[32m━━━━━━━━━━━━━━━━━━━━\u001b[0m\u001b[37m\u001b[0m \u001b[1m2s\u001b[0m 6ms/step - loss: 10.0982 - mean_squared_error: 9.9905 - val_loss: 7.6630 - val_mean_squared_error: 7.5603 - learning_rate: 0.0010\n",
            "Epoch 29/50\n",
            "\u001b[1m198/198\u001b[0m \u001b[32m━━━━━━━━━━━━━━━━━━━━\u001b[0m\u001b[37m\u001b[0m \u001b[1m1s\u001b[0m 6ms/step - loss: 10.0282 - mean_squared_error: 9.9255 - val_loss: 7.6629 - val_mean_squared_error: 7.5634 - learning_rate: 0.0010\n",
            "Epoch 30/50\n",
            "\u001b[1m198/198\u001b[0m \u001b[32m━━━━━━━━━━━━━━━━━━━━\u001b[0m\u001b[37m\u001b[0m \u001b[1m1s\u001b[0m 4ms/step - loss: 10.0509 - mean_squared_error: 9.9509 - val_loss: 7.6808 - val_mean_squared_error: 7.5846 - learning_rate: 0.0010\n",
            "Epoch 31/50\n",
            "\u001b[1m198/198\u001b[0m \u001b[32m━━━━━━━━━━━━━━━━━━━━\u001b[0m\u001b[37m\u001b[0m \u001b[1m1s\u001b[0m 3ms/step - loss: 10.0415 - mean_squared_error: 9.9439 - val_loss: 7.6743 - val_mean_squared_error: 7.5783 - learning_rate: 0.0010\n",
            "Epoch 32/50\n",
            "\u001b[1m198/198\u001b[0m \u001b[32m━━━━━━━━━━━━━━━━━━━━\u001b[0m\u001b[37m\u001b[0m \u001b[1m1s\u001b[0m 4ms/step - loss: 10.0252 - mean_squared_error: 9.9271 - val_loss: 7.6846 - val_mean_squared_error: 7.5872 - learning_rate: 0.0010\n",
            "Epoch 33/50\n",
            "\u001b[1m198/198\u001b[0m \u001b[32m━━━━━━━━━━━━━━━━━━━━\u001b[0m\u001b[37m\u001b[0m \u001b[1m1s\u001b[0m 4ms/step - loss: 10.1800 - mean_squared_error: 10.0826 - val_loss: 7.6203 - val_mean_squared_error: 7.5267 - learning_rate: 0.0010\n",
            "Epoch 34/50\n",
            "\u001b[1m198/198\u001b[0m \u001b[32m━━━━━━━━━━━━━━━━━━━━\u001b[0m\u001b[37m\u001b[0m \u001b[1m1s\u001b[0m 4ms/step - loss: 10.0365 - mean_squared_error: 9.9417 - val_loss: 7.5803 - val_mean_squared_error: 7.4851 - learning_rate: 0.0010\n",
            "Epoch 35/50\n",
            "\u001b[1m198/198\u001b[0m \u001b[32m━━━━━━━━━━━━━━━━━━━━\u001b[0m\u001b[37m\u001b[0m \u001b[1m1s\u001b[0m 7ms/step - loss: 10.0730 - mean_squared_error: 9.9770 - val_loss: 7.6307 - val_mean_squared_error: 7.5356 - learning_rate: 0.0010\n",
            "Epoch 36/50\n",
            "\u001b[1m198/198\u001b[0m \u001b[32m━━━━━━━━━━━━━━━━━━━━\u001b[0m\u001b[37m\u001b[0m \u001b[1m2s\u001b[0m 4ms/step - loss: 10.0870 - mean_squared_error: 9.9920 - val_loss: 7.6465 - val_mean_squared_error: 7.5546 - learning_rate: 0.0010\n",
            "Epoch 37/50\n",
            "\u001b[1m198/198\u001b[0m \u001b[32m━━━━━━━━━━━━━━━━━━━━\u001b[0m\u001b[37m\u001b[0m \u001b[1m1s\u001b[0m 4ms/step - loss: 10.0928 - mean_squared_error: 9.9988 - val_loss: 7.6318 - val_mean_squared_error: 7.5387 - learning_rate: 0.0010\n",
            "Epoch 38/50\n",
            "\u001b[1m198/198\u001b[0m \u001b[32m━━━━━━━━━━━━━━━━━━━━\u001b[0m\u001b[37m\u001b[0m \u001b[1m1s\u001b[0m 5ms/step - loss: 10.1391 - mean_squared_error: 10.0441 - val_loss: 7.7186 - val_mean_squared_error: 7.6244 - learning_rate: 0.0010\n",
            "Epoch 39/50\n",
            "\u001b[1m198/198\u001b[0m \u001b[32m━━━━━━━━━━━━━━━━━━━━\u001b[0m\u001b[37m\u001b[0m \u001b[1m1s\u001b[0m 6ms/step - loss: 10.0222 - mean_squared_error: 9.9257 - val_loss: 7.5558 - val_mean_squared_error: 7.4619 - learning_rate: 0.0010\n",
            "Epoch 40/50\n",
            "\u001b[1m198/198\u001b[0m \u001b[32m━━━━━━━━━━━━━━━━━━━━\u001b[0m\u001b[37m\u001b[0m \u001b[1m1s\u001b[0m 4ms/step - loss: 10.0914 - mean_squared_error: 9.9963 - val_loss: 7.6743 - val_mean_squared_error: 7.5817 - learning_rate: 0.0010\n",
            "Epoch 41/50\n",
            "\u001b[1m198/198\u001b[0m \u001b[32m━━━━━━━━━━━━━━━━━━━━\u001b[0m\u001b[37m\u001b[0m \u001b[1m1s\u001b[0m 3ms/step - loss: 10.0279 - mean_squared_error: 9.9347 - val_loss: 7.6740 - val_mean_squared_error: 7.5803 - learning_rate: 0.0010\n",
            "Epoch 42/50\n",
            "\u001b[1m198/198\u001b[0m \u001b[32m━━━━━━━━━━━━━━━━━━━━\u001b[0m\u001b[37m\u001b[0m \u001b[1m1s\u001b[0m 3ms/step - loss: 10.0259 - mean_squared_error: 9.9299 - val_loss: 7.6685 - val_mean_squared_error: 7.5736 - learning_rate: 0.0010\n",
            "Epoch 43/50\n",
            "\u001b[1m198/198\u001b[0m \u001b[32m━━━━━━━━━━━━━━━━━━━━\u001b[0m\u001b[37m\u001b[0m \u001b[1m1s\u001b[0m 3ms/step - loss: 9.9983 - mean_squared_error: 9.8993 - val_loss: 7.6223 - val_mean_squared_error: 7.5261 - learning_rate: 0.0010\n",
            "Epoch 44/50\n",
            "\u001b[1m198/198\u001b[0m \u001b[32m━━━━━━━━━━━━━━━━━━━━\u001b[0m\u001b[37m\u001b[0m \u001b[1m1s\u001b[0m 3ms/step - loss: 10.0421 - mean_squared_error: 9.9446 - val_loss: 7.6258 - val_mean_squared_error: 7.5314 - learning_rate: 0.0010\n",
            "Epoch 45/50\n",
            "\u001b[1m198/198\u001b[0m \u001b[32m━━━━━━━━━━━━━━━━━━━━\u001b[0m\u001b[37m\u001b[0m \u001b[1m1s\u001b[0m 4ms/step - loss: 9.9461 - mean_squared_error: 9.8511 - val_loss: 7.5538 - val_mean_squared_error: 7.4598 - learning_rate: 5.0000e-04\n",
            "Epoch 46/50\n",
            "\u001b[1m198/198\u001b[0m \u001b[32m━━━━━━━━━━━━━━━━━━━━\u001b[0m\u001b[37m\u001b[0m \u001b[1m1s\u001b[0m 3ms/step - loss: 9.8991 - mean_squared_error: 9.8052 - val_loss: 7.5322 - val_mean_squared_error: 7.4407 - learning_rate: 5.0000e-04\n",
            "Epoch 47/50\n",
            "\u001b[1m198/198\u001b[0m \u001b[32m━━━━━━━━━━━━━━━━━━━━\u001b[0m\u001b[37m\u001b[0m \u001b[1m1s\u001b[0m 4ms/step - loss: 10.0575 - mean_squared_error: 9.9654 - val_loss: 7.5643 - val_mean_squared_error: 7.4731 - learning_rate: 5.0000e-04\n",
            "Epoch 48/50\n",
            "\u001b[1m198/198\u001b[0m \u001b[32m━━━━━━━━━━━━━━━━━━━━\u001b[0m\u001b[37m\u001b[0m \u001b[1m1s\u001b[0m 4ms/step - loss: 9.8954 - mean_squared_error: 9.8038 - val_loss: 7.5602 - val_mean_squared_error: 7.4688 - learning_rate: 5.0000e-04\n",
            "Epoch 49/50\n",
            "\u001b[1m198/198\u001b[0m \u001b[32m━━━━━━━━━━━━━━━━━━━━\u001b[0m\u001b[37m\u001b[0m \u001b[1m1s\u001b[0m 4ms/step - loss: 9.9446 - mean_squared_error: 9.8522 - val_loss: 7.5303 - val_mean_squared_error: 7.4387 - learning_rate: 5.0000e-04\n",
            "Epoch 50/50\n",
            "\u001b[1m198/198\u001b[0m \u001b[32m━━━━━━━━━━━━━━━━━━━━\u001b[0m\u001b[37m\u001b[0m \u001b[1m1s\u001b[0m 5ms/step - loss: 9.9029 - mean_squared_error: 9.8110 - val_loss: 7.5539 - val_mean_squared_error: 7.4629 - learning_rate: 5.0000e-04\n",
            "\u001b[1m50/50\u001b[0m \u001b[32m━━━━━━━━━━━━━━━━━━━━\u001b[0m\u001b[37m\u001b[0m \u001b[1m0s\u001b[0m 3ms/step - loss: 7.4645 - mean_squared_error: 7.3729\n",
            "Error cuadrático medio (MSE) en prueba: 7.438706398010254\n",
            "Raíz del error cuadrático medio (RMSE) en prueba: 2.72739920033908\n",
            "\u001b[1m198/198\u001b[0m \u001b[32m━━━━━━━━━━━━━━━━━━━━\u001b[0m\u001b[37m\u001b[0m \u001b[1m0s\u001b[0m 2ms/step - loss: 9.2933 - mean_squared_error: 9.2017\n",
            "Error cuadrático medio (MSE) en entrenamiento: 8.591631889343262\n",
            "Raíz del error cuadrático medio (RMSE) en entrenamiento: 2.9311485614590165\n"
          ]
        }
      ],
      "source": [
        "seed_value = 42\n",
        "random.seed(seed_value)\n",
        "np.random.seed(seed_value)\n",
        "tf.random.set_seed(seed_value)\n",
        "\n",
        "X_train, X_test, y_train, y_test = train_test_split(\n",
        "    train['lemmatized_text'], train['storypoint'], test_size=0.2, random_state=seed_value)\n",
        "\n",
        "sentences = [text.split() for text in X_train]\n",
        "word2vec_model = Word2Vec(sentences, vector_size=200, window=5, min_count=1, workers=4, seed=seed_value)\n",
        "\n",
        "def document_vector(doc, model):\n",
        "    words = doc.split()\n",
        "    word_vecs = [model.wv[word] for word in words if word in model.wv]\n",
        "    return np.mean(word_vecs, axis=0) if word_vecs else np.zeros(model.vector_size)\n",
        "\n",
        "X_train_vec = np.array([document_vector(text, word2vec_model) for text in X_train])\n",
        "X_test_vec = np.array([document_vector(text, word2vec_model) for text in X_test])\n",
        "\n",
        "\n",
        "model = Sequential()\n",
        "model.add(Dense(256, input_dim=X_train_vec.shape[1], activation='relu', kernel_regularizer=tf.keras.regularizers.l2(0.01)))\n",
        "model.add(Dropout(0.5))\n",
        "model.add(Dense(128, activation='relu', kernel_regularizer=tf.keras.regularizers.l2(0.01)))\n",
        "model.add(Dropout(0.5))\n",
        "model.add(Dense(1, activation='linear'))\n",
        "\n",
        "model.compile(optimizer=tf.keras.optimizers.Adam(learning_rate=0.001), loss='mean_squared_error', metrics=['mean_squared_error'])\n",
        "\n",
        "early_stopping = EarlyStopping(monitor='val_loss', patience=10, restore_best_weights=True)\n",
        "reduce_lr = ReduceLROnPlateau(monitor='val_loss', factor=0.5, patience=5, min_lr=1e-5)\n",
        "checkpoint = ModelCheckpoint('best_model.keras', monitor='val_loss', save_best_only=True)\n",
        "\n",
        "history = model.fit(X_train_vec, y_train, epochs=50, batch_size=32, validation_data=(X_test_vec, y_test),\n",
        "                    callbacks=[early_stopping, reduce_lr, checkpoint])\n",
        "\n",
        "loss_test, mse_test = model.evaluate(X_test_vec, y_test)\n",
        "rmse_test = mse_test ** 0.5\n",
        "\n",
        "print(f\"Error cuadrático medio (MSE) en prueba: {mse_test}\")\n",
        "print(f\"Raíz del error cuadrático medio (RMSE) en prueba: {rmse_test}\")\n",
        "\n",
        "loss_train, mse_train = model.evaluate(X_train_vec, y_train)\n",
        "rmse_train = mse_train ** 0.5\n",
        "\n",
        "print(f\"Error cuadrático medio (MSE) en entrenamiento: {mse_train}\")\n",
        "print(f\"Raíz del error cuadrático medio (RMSE) en entrenamiento: {rmse_train}\")"
      ]
    },
    {
      "cell_type": "markdown",
      "metadata": {
        "id": "3Wc2xBn2I0tq"
      },
      "source": [
        "Resultados de columna \"clean_text\":\n",
        "\n",
        "- Error cuadrático medio (MSE) en prueba: 7.479933261871338\n",
        "- Raíz del error cuadrático medio (RMSE) en prueba: 2.7349466652699714\n",
        "\n",
        "- Error cuadrático medio (MSE) en entrenamiento: 8.676304817199707\n",
        "- Raíz del error cuadrático medio (RMSE) en entrenamiento: 2.9455567923908217\n",
        "\n",
        "\n",
        "\"clean_filtered_text\":\n",
        "\n",
        "- Error cuadrático medio (MSE) en prueba: 7.316233158111572\n",
        "- Raíz del error cuadrático medio (RMSE) en prueba: 2.7048536297019052\n",
        "\n",
        "- Error cuadrático medio (MSE) en entrenamiento: 8.423718452453613\n",
        "- Raíz del error cuadrático medio (RMSE) en entrenamiento: 2.9023642866555557\n",
        "\n",
        "\"filtered_text\":\n",
        "- Error cuadrático medio (MSE) en prueba: 7.1621246337890625\n",
        "- Raíz del error cuadrático medio (RMSE) en prueba: 2.676214609068014\n",
        "\n",
        "- Error cuadrático medio (MSE) en entrenamiento: 8.229286193847656\n",
        "- Raíz del error cuadrático medio (RMSE) en entrenamiento: 2.8686732462669315\n",
        "\n",
        "\"lemmatized_text\":\n",
        "- Error cuadrático medio (MSE) en prueba: 7.438706398010254\n",
        "- Raíz del error cuadrático medio (RMSE) en prueba: 2.72739920033908\n",
        "\n",
        "- Error cuadrático medio (MSE) en entrenamiento: 8.591631889343262\n",
        "- Raíz del error cuadrático medio (RMSE) en entrenamiento: 2.9311485614590165\n",
        "\n",
        "Como vemos el mejor desempeño del modelo se dio con el preprocesamiento \"filtered_text\" usando Word2Vec. Concluimos que, la eliminación de palabras de baja frecuencia mejora la calidad de la representación de los textos al reducir el ruido y centrar el modelo en palabras más representativas. Esto ayuda a la red neuronal a aprender de vectores de entrada más coherentes y semánticamente significativos, lo que se traduce en un rendimiento superior en términos de error cuadrático medio y otros indicadores."
      ]
    },
    {
      "cell_type": "markdown",
      "metadata": {
        "id": "LYXfOd5mOcPh"
      },
      "source": [
        "En conclusión, podemos ver que entre **Word2Vec** y **TfidfVectorizer**:\n",
        "\n",
        "El MSE y RMSE de TF-IDF en entrenamiento y prueba son cercanos, lo sugiere que el modelo está generalizando mejor en comparación con Word2Vec. El rendimiento de Word2Vec, puede no estar capturando tan bien la información relevante para la tarea.\n",
        "\n",
        "Sugiere que una representación más explícita de la importancia de las palabras (como la que ofrece TF-IDF) fue más adecuada para el modelo de red neuronal en este caso. TF-IDF probablemente capturó de manera más precisa las características necesarias para la predicción de storypoint."
      ]
    },
    {
      "cell_type": "markdown",
      "metadata": {
        "id": "orNw2H6AfllO"
      },
      "source": [
        "##Red Neuronal - Búsqueda de Hiperparametros"
      ]
    },
    {
      "cell_type": "code",
      "execution_count": null,
      "metadata": {
        "colab": {
          "base_uri": "https://localhost:8080/"
        },
        "id": "vHIhzru3mD3Q",
        "outputId": "6183efd7-8c99-44bd-f76d-5f64508c01cd"
      },
      "outputs": [
        {
          "name": "stdout",
          "output_type": "stream",
          "text": [
            "Collecting scikeras\n",
            "  Downloading scikeras-0.13.0-py3-none-any.whl.metadata (3.1 kB)\n",
            "Requirement already satisfied: keras>=3.2.0 in /usr/local/lib/python3.10/dist-packages (from scikeras) (3.5.0)\n",
            "Requirement already satisfied: scikit-learn>=1.4.2 in /usr/local/lib/python3.10/dist-packages (from scikeras) (1.5.2)\n",
            "Requirement already satisfied: absl-py in /usr/local/lib/python3.10/dist-packages (from keras>=3.2.0->scikeras) (1.4.0)\n",
            "Requirement already satisfied: numpy in /usr/local/lib/python3.10/dist-packages (from keras>=3.2.0->scikeras) (1.26.4)\n",
            "Requirement already satisfied: rich in /usr/local/lib/python3.10/dist-packages (from keras>=3.2.0->scikeras) (13.9.4)\n",
            "Requirement already satisfied: namex in /usr/local/lib/python3.10/dist-packages (from keras>=3.2.0->scikeras) (0.0.8)\n",
            "Requirement already satisfied: h5py in /usr/local/lib/python3.10/dist-packages (from keras>=3.2.0->scikeras) (3.12.1)\n",
            "Requirement already satisfied: optree in /usr/local/lib/python3.10/dist-packages (from keras>=3.2.0->scikeras) (0.13.1)\n",
            "Requirement already satisfied: ml-dtypes in /usr/local/lib/python3.10/dist-packages (from keras>=3.2.0->scikeras) (0.4.1)\n",
            "Requirement already satisfied: packaging in /usr/local/lib/python3.10/dist-packages (from keras>=3.2.0->scikeras) (24.2)\n",
            "Requirement already satisfied: scipy>=1.6.0 in /usr/local/lib/python3.10/dist-packages (from scikit-learn>=1.4.2->scikeras) (1.13.1)\n",
            "Requirement already satisfied: joblib>=1.2.0 in /usr/local/lib/python3.10/dist-packages (from scikit-learn>=1.4.2->scikeras) (1.4.2)\n",
            "Requirement already satisfied: threadpoolctl>=3.1.0 in /usr/local/lib/python3.10/dist-packages (from scikit-learn>=1.4.2->scikeras) (3.5.0)\n",
            "Requirement already satisfied: typing-extensions>=4.5.0 in /usr/local/lib/python3.10/dist-packages (from optree->keras>=3.2.0->scikeras) (4.12.2)\n",
            "Requirement already satisfied: markdown-it-py>=2.2.0 in /usr/local/lib/python3.10/dist-packages (from rich->keras>=3.2.0->scikeras) (3.0.0)\n",
            "Requirement already satisfied: pygments<3.0.0,>=2.13.0 in /usr/local/lib/python3.10/dist-packages (from rich->keras>=3.2.0->scikeras) (2.18.0)\n",
            "Requirement already satisfied: mdurl~=0.1 in /usr/local/lib/python3.10/dist-packages (from markdown-it-py>=2.2.0->rich->keras>=3.2.0->scikeras) (0.1.2)\n",
            "Downloading scikeras-0.13.0-py3-none-any.whl (26 kB)\n",
            "Installing collected packages: scikeras\n",
            "Successfully installed scikeras-0.13.0\n"
          ]
        }
      ],
      "source": [
        "!pip install scikeras"
      ]
    },
    {
      "cell_type": "code",
      "execution_count": null,
      "metadata": {
        "colab": {
          "base_uri": "https://localhost:8080/"
        },
        "id": "0xgvnl6LWFoX",
        "outputId": "bb73aa00-08f9-49c5-cfbb-857c8faa4761"
      },
      "outputs": [
        {
          "name": "stdout",
          "output_type": "stream",
          "text": [
            "Fitting 3 folds for each of 32 candidates, totalling 96 fits\n"
          ]
        },
        {
          "name": "stderr",
          "output_type": "stream",
          "text": [
            "/usr/local/lib/python3.10/dist-packages/joblib/externals/loky/process_executor.py:752: UserWarning: A worker stopped while some jobs were given to the executor. This can be caused by a too short worker timeout or by a memory leak.\n",
            "  warnings.warn(\n",
            "/usr/local/lib/python3.10/dist-packages/scikeras/wrappers.py:925: UserWarning: ``build_fn`` will be renamed to ``model`` in a future release, at which point use of ``build_fn`` will raise an Error instead.\n",
            "  X, y = self._initialize(X, y)\n",
            "/usr/local/lib/python3.10/dist-packages/keras/src/layers/core/dense.py:87: UserWarning: Do not pass an `input_shape`/`input_dim` argument to a layer. When using Sequential models, prefer using an `Input(shape)` object as the first layer in the model instead.\n",
            "  super().__init__(activity_regularizer=activity_regularizer, **kwargs)\n"
          ]
        },
        {
          "name": "stdout",
          "output_type": "stream",
          "text": [
            "Mejores hiperparámetros encontrados: {'batch_size': 64, 'dropout_rate': 0.3, 'l2_rate': 0.1, 'learning_rate': 0.001, 'units': 128}\n",
            "\n",
            "Evaluación en el conjunto de prueba:\n",
            "  Error cuadrático medio (MSE): 6.1358\n",
            "  Raíz del error cuadrático medio (RMSE): 2.4771\n",
            "  Error absoluto medio (MAE): 1.7750\n",
            "  Coeficiente de determinación (R²): 0.2570\n",
            "\n",
            "Evaluación en el conjunto de entrenamiento:\n",
            "  Error cuadrático medio (MSE): 5.7987\n",
            "  Raíz del error cuadrático medio (RMSE): 2.4081\n",
            "  Error absoluto medio (MAE): 1.6468\n",
            "  Coeficiente de determinación (R²): 0.3825\n"
          ]
        }
      ],
      "source": [
        "import numpy as np\n",
        "import tensorflow as tf\n",
        "from sklearn.model_selection import train_test_split, GridSearchCV, KFold\n",
        "from sklearn.feature_extraction.text import TfidfVectorizer\n",
        "from scikeras.wrappers import KerasRegressor\n",
        "from keras.models import Sequential\n",
        "from keras.layers import Dense, Dropout\n",
        "from keras.callbacks import EarlyStopping, ReduceLROnPlateau, ModelCheckpoint\n",
        "from sklearn.metrics import mean_squared_error, mean_absolute_error, r2_score\n",
        "\n",
        "seed = 42\n",
        "np.random.seed(seed)\n",
        "tf.random.set_seed(seed)\n",
        "\n",
        "X_train, X_test, y_train, y_test = train_test_split(\n",
        "    train['clean_text'], train['storypoint'], test_size=0.2, random_state=seed)\n",
        "\n",
        "vectorizer_tfidf = TfidfVectorizer(max_features=2000)\n",
        "X_train_tfidf = vectorizer_tfidf.fit_transform(X_train)\n",
        "X_test_tfidf = vectorizer_tfidf.transform(X_test)\n",
        "\n",
        "# Función para construir el modelo\n",
        "def build_model(learning_rate=0.001, dropout_rate=0.5, l2_rate=0.01, units=256):\n",
        "    model = Sequential()\n",
        "    model.add(Dense(units, input_dim=X_train_tfidf.shape[1], activation='relu',\n",
        "                    kernel_regularizer=tf.keras.regularizers.l2(l2_rate)))\n",
        "    model.add(Dropout(dropout_rate))\n",
        "    model.add(Dense(units // 2, activation='relu', kernel_regularizer=tf.keras.regularizers.l2(l2_rate)))\n",
        "    model.add(Dropout(dropout_rate))\n",
        "    model.add(Dense(1, activation='linear'))\n",
        "\n",
        "    model.compile(optimizer=tf.keras.optimizers.Adam(learning_rate=learning_rate),\n",
        "                  loss='mean_squared_error', metrics=['mean_squared_error', 'mean_absolute_error'])\n",
        "    return model\n",
        "\n",
        "model = KerasRegressor(\n",
        "    build_fn=build_model,\n",
        "    epochs=50,\n",
        "    batch_size=32,\n",
        "    verbose=0,\n",
        "    learning_rate=0.001,\n",
        "    dropout_rate=0.5,\n",
        "    l2_rate=0.01,\n",
        "    units=256\n",
        ")\n",
        "\n",
        "param_grid = {\n",
        "    'learning_rate': [0.001, 0.01],\n",
        "    'dropout_rate': [0.3, 0.5],\n",
        "    'l2_rate': [0.01, 0.1],\n",
        "    'units': [128, 256],\n",
        "    'batch_size': [32, 64]\n",
        "}\n",
        "\n",
        "kf = KFold(n_splits=3, shuffle=True, random_state=seed)\n",
        "\n",
        "grid = GridSearchCV(estimator=model, param_grid=param_grid, cv=kf, verbose=2, n_jobs=-1)\n",
        "\n",
        "grid_result = grid.fit(X_train_tfidf, y_train, validation_data=(X_test_tfidf, y_test),\n",
        "                       callbacks=[EarlyStopping(monitor='val_loss', patience=10, restore_best_weights=True),\n",
        "                                  ReduceLROnPlateau(monitor='val_loss', factor=0.5, patience=5, min_lr=1e-5),\n",
        "                                  ModelCheckpoint('best_model.keras', monitor='val_loss', save_best_only=True)])\n",
        "\n",
        "print(f\"Mejores hiperparámetros encontrados: {grid_result.best_params_}\")\n",
        "\n",
        "best_model = grid_result.best_estimator_\n",
        "\n",
        "y_pred_test = best_model.predict(X_test_tfidf)\n",
        "mse_test = mean_squared_error(y_test, y_pred_test)\n",
        "rmse_test = np.sqrt(mse_test)\n",
        "mae_test = mean_absolute_error(y_test, y_pred_test)\n",
        "r2_test = r2_score(y_test, y_pred_test)\n",
        "\n",
        "print(\"\\nEvaluación en el conjunto de prueba:\")\n",
        "print(f\"  Error cuadrático medio (MSE): {mse_test:.4f}\")\n",
        "print(f\"  Raíz del error cuadrático medio (RMSE): {rmse_test:.4f}\")\n",
        "print(f\"  Error absoluto medio (MAE): {mae_test:.4f}\")\n",
        "print(f\"  Coeficiente de determinación (R²): {r2_test:.4f}\")\n",
        "\n",
        "y_pred_train = best_model.predict(X_train_tfidf)\n",
        "mse_train = mean_squared_error(y_train, y_pred_train)\n",
        "rmse_train = np.sqrt(mse_train)\n",
        "mae_train = mean_absolute_error(y_train, y_pred_train)\n",
        "r2_train = r2_score(y_train, y_pred_train)\n",
        "\n",
        "print(\"\\nEvaluación en el conjunto de entrenamiento:\")\n",
        "print(f\"  Error cuadrático medio (MSE): {mse_train:.4f}\")\n",
        "print(f\"  Raíz del error cuadrático medio (RMSE): {rmse_train:.4f}\")\n",
        "print(f\"  Error absoluto medio (MAE): {mae_train:.4f}\")\n",
        "print(f\"  Coeficiente de determinación (R²): {r2_train:.4f}\")"
      ]
    },
    {
      "cell_type": "markdown",
      "metadata": {
        "id": "yc9NusZJQ1XP"
      },
      "source": [
        "Mejores hiperparámetros encontrados: {'batch_size': 64, 'dropout_rate': 0.3, 'l2_rate': 0.1, 'learning_rate': 0.001, 'units': 128}\n",
        "\n",
        "- Evaluación en el conjunto de prueba:\n",
        "  - Error cuadrático medio (MSE): 6.1358\n",
        "  - Raíz del error cuadrático medio (RMSE): 2.4771\n",
        "\n",
        "- Evaluación en el conjunto de entrenamiento:\n",
        "  - Error cuadrático medio (MSE): 5.7987\n",
        "  - Raíz del error cuadrático medio (RMSE): 2.4081"
      ]
    },
    {
      "cell_type": "markdown",
      "metadata": {
        "id": "g2aoyJ1TbklS"
      },
      "source": [
        "##Descarga de Red Neuronal"
      ]
    },
    {
      "cell_type": "code",
      "execution_count": null,
      "metadata": {
        "colab": {
          "base_uri": "https://localhost:8080/",
          "height": 34
        },
        "id": "x6oMod2CqRav",
        "outputId": "1a1595c6-f989-4202-be23-be30e276d364"
      },
      "outputs": [
        {
          "data": {
            "application/javascript": [
              "\n",
              "    async function download(id, filename, size) {\n",
              "      if (!google.colab.kernel.accessAllowed) {\n",
              "        return;\n",
              "      }\n",
              "      const div = document.createElement('div');\n",
              "      const label = document.createElement('label');\n",
              "      label.textContent = `Downloading \"${filename}\": `;\n",
              "      div.appendChild(label);\n",
              "      const progress = document.createElement('progress');\n",
              "      progress.max = size;\n",
              "      div.appendChild(progress);\n",
              "      document.body.appendChild(div);\n",
              "\n",
              "      const buffers = [];\n",
              "      let downloaded = 0;\n",
              "\n",
              "      const channel = await google.colab.kernel.comms.open(id);\n",
              "      // Send a message to notify the kernel that we're ready.\n",
              "      channel.send({})\n",
              "\n",
              "      for await (const message of channel.messages) {\n",
              "        // Send a message to notify the kernel that we're ready.\n",
              "        channel.send({})\n",
              "        if (message.buffers) {\n",
              "          for (const buffer of message.buffers) {\n",
              "            buffers.push(buffer);\n",
              "            downloaded += buffer.byteLength;\n",
              "            progress.value = downloaded;\n",
              "          }\n",
              "        }\n",
              "      }\n",
              "      const blob = new Blob(buffers, {type: 'application/binary'});\n",
              "      const a = document.createElement('a');\n",
              "      a.href = window.URL.createObjectURL(blob);\n",
              "      a.download = filename;\n",
              "      div.appendChild(a);\n",
              "      a.click();\n",
              "      div.remove();\n",
              "    }\n",
              "  "
            ],
            "text/plain": [
              "<IPython.core.display.Javascript object>"
            ]
          },
          "metadata": {},
          "output_type": "display_data"
        },
        {
          "data": {
            "application/javascript": [
              "download(\"download_d3e50c99-664b-43e9-bd0f-cecd55b71465\", \"submission.csv\", 28680)"
            ],
            "text/plain": [
              "<IPython.core.display.Javascript object>"
            ]
          },
          "metadata": {},
          "output_type": "display_data"
        }
      ],
      "source": [
        "from google.colab import files\n",
        "\n",
        "test_vec = vectorizer_tfidf.transform(test['clean_text'])\n",
        "\n",
        "test_predictions = best_model.predict(test_vec)\n",
        "\n",
        "\n",
        "submission = pd.DataFrame({\n",
        "    'id': test['id'],\n",
        "    'storypoint': test_predictions.flatten()\n",
        "})\n",
        "\n",
        "submission.to_csv('submission.csv', index=False)\n",
        "\n",
        "files.download('submission.csv')"
      ]
    },
    {
      "cell_type": "markdown",
      "metadata": {
        "id": "S17KmmOXPMKu"
      },
      "source": [
        "#Un ensamble de al menos 3 modelos elegidos por el grupo"
      ]
    },
    {
      "cell_type": "markdown",
      "metadata": {
        "id": "5Mm9grgbEn8v"
      },
      "source": [
        "## Ensamble Voting: Random Forest - RidgeRegressor - XGboost"
      ]
    },
    {
      "cell_type": "code",
      "execution_count": null,
      "metadata": {
        "id": "ZvmK0d-6tJjD"
      },
      "outputs": [],
      "source": [
        "X_train, X_test, y_train, y_test = train_test_split(\n",
        "    train['lemmatized_text'], train['storypoint'], test_size=0.2, random_state=seed)\n",
        "\n",
        "vectorizer_tfidf = TfidfVectorizer(max_features=2000)\n",
        "X_train_tfidf = vectorizer_tfidf.fit_transform(X_train)\n",
        "X_test_tfidf = vectorizer_tfidf.transform(X_test)\n",
        "\n",
        "test_vec = vectorizer_tfidf.transform(test['lemmatized_text'])"
      ]
    },
    {
      "cell_type": "code",
      "execution_count": null,
      "metadata": {
        "colab": {
          "base_uri": "https://localhost:8080/"
        },
        "id": "IcaxEdFVwTKg",
        "outputId": "97c9c694-341e-4d1b-b5a8-7baa0992fcd0"
      },
      "outputs": [
        {
          "name": "stdout",
          "output_type": "stream",
          "text": [
            "Error cuadrático medio (Entrenamiento Voting): 2.8738580533437132\n",
            "RMSE (Entrenamiento Voting): 1.6952457206386669\n",
            "Error cuadrático medio (Validación Voting): 5.837761454399016\n",
            "RMSE (Validación Voting): 2.416145991946475\n"
          ]
        }
      ],
      "source": [
        "from sklearn.linear_model import Ridge\n",
        "from sklearn.ensemble import VotingRegressor\n",
        "from sklearn.metrics import mean_squared_error\n",
        "import numpy as np\n",
        "from gensim.models import Word2Vec\n",
        "\n",
        "rf_model_best = RandomForestRegressor(\n",
        "    n_estimators=200,\n",
        "    max_depth=None,\n",
        "    min_samples_split=5,\n",
        "    min_samples_leaf=1,\n",
        "    max_features='sqrt',\n",
        "    oob_score=True,\n",
        "    random_state=42\n",
        ")\n",
        "\n",
        "xgb_model_best = xgb.XGBRegressor(\n",
        "    learning_rate=0.1,\n",
        "    max_depth=5,\n",
        "    n_estimators=200,\n",
        "    subsample=1.0,\n",
        "    objective='reg:squarederror',\n",
        "    random_state=42\n",
        ")\n",
        "\n",
        "ridge_model_best = Ridge(alpha=1.0)\n",
        "\n",
        "rf_model_best.fit(X_train_tfidf, y_train)\n",
        "xgb_model_best.fit(X_train_tfidf, y_train)\n",
        "ridge_model_best.fit(X_train_tfidf, y_train)\n",
        "\n",
        "voting_regressor = VotingRegressor(estimators=[\n",
        "    ('rf', rf_model_best),\n",
        "    ('xgb', xgb_model_best),\n",
        "    ('ridge', ridge_model_best)\n",
        "])\n",
        "\n",
        "voting_regressor.fit(X_train_tfidf, y_train)\n",
        "\n",
        "y_train_pred_voting = voting_regressor.predict(X_train_tfidf)\n",
        "y_test_pred_voting = voting_regressor.predict(X_test_tfidf)\n",
        "\n",
        "mse_train_voting = mean_squared_error(y_train, y_train_pred_voting)\n",
        "rmse_train_voting = np.sqrt(mse_train_voting)\n",
        "print(f\"Error cuadrático medio (Entrenamiento Voting): {mse_train_voting}\")\n",
        "print(f\"RMSE (Entrenamiento Voting): {rmse_train_voting}\")\n",
        "\n",
        "mse_test_voting = mean_squared_error(y_test, y_test_pred_voting)\n",
        "rmse_test_voting = np.sqrt(mse_test_voting)\n",
        "print(f\"Error cuadrático medio (Validación Voting): {mse_test_voting}\")\n",
        "print(f\"RMSE (Validación Voting): {rmse_test_voting}\")"
      ]
    },
    {
      "cell_type": "code",
      "execution_count": null,
      "metadata": {
        "colab": {
          "base_uri": "https://localhost:8080/",
          "height": 17
        },
        "id": "6v22z5Bcs0Gj",
        "outputId": "f94f3467-d11c-43f8-bcb9-ff52ccc9bc61"
      },
      "outputs": [
        {
          "data": {
            "application/javascript": [
              "\n",
              "    async function download(id, filename, size) {\n",
              "      if (!google.colab.kernel.accessAllowed) {\n",
              "        return;\n",
              "      }\n",
              "      const div = document.createElement('div');\n",
              "      const label = document.createElement('label');\n",
              "      label.textContent = `Downloading \"${filename}\": `;\n",
              "      div.appendChild(label);\n",
              "      const progress = document.createElement('progress');\n",
              "      progress.max = size;\n",
              "      div.appendChild(progress);\n",
              "      document.body.appendChild(div);\n",
              "\n",
              "      const buffers = [];\n",
              "      let downloaded = 0;\n",
              "\n",
              "      const channel = await google.colab.kernel.comms.open(id);\n",
              "      // Send a message to notify the kernel that we're ready.\n",
              "      channel.send({})\n",
              "\n",
              "      for await (const message of channel.messages) {\n",
              "        // Send a message to notify the kernel that we're ready.\n",
              "        channel.send({})\n",
              "        if (message.buffers) {\n",
              "          for (const buffer of message.buffers) {\n",
              "            buffers.push(buffer);\n",
              "            downloaded += buffer.byteLength;\n",
              "            progress.value = downloaded;\n",
              "          }\n",
              "        }\n",
              "      }\n",
              "      const blob = new Blob(buffers, {type: 'application/binary'});\n",
              "      const a = document.createElement('a');\n",
              "      a.href = window.URL.createObjectURL(blob);\n",
              "      a.download = filename;\n",
              "      div.appendChild(a);\n",
              "      a.click();\n",
              "      div.remove();\n",
              "    }\n",
              "  "
            ],
            "text/plain": [
              "<IPython.core.display.Javascript object>"
            ]
          },
          "metadata": {},
          "output_type": "display_data"
        },
        {
          "data": {
            "application/javascript": [
              "download(\"download_db0c0162-d525-44f7-b5fc-b68286fdd2b0\", \"submission_ensemble.csv\", 45813)"
            ],
            "text/plain": [
              "<IPython.core.display.Javascript object>"
            ]
          },
          "metadata": {},
          "output_type": "display_data"
        }
      ],
      "source": [
        "test_predictions_ensemble = voting_regressor.predict(test_vec)\n",
        "\n",
        "\n",
        "submission_ensemble = pd.DataFrame({\n",
        "    'id': test['id'],\n",
        "    'storypoint': test_predictions_ensemble\n",
        "})\n",
        "\n",
        "submission_ensemble.to_csv('submission_ensemble.csv', index=False)\n",
        "\n",
        "from google.colab import files\n",
        "files.download('submission_ensemble.csv')"
      ]
    },
    {
      "cell_type": "markdown",
      "metadata": {
        "id": "JYqp_rhyo6OW"
      },
      "source": [
        "## Ensamble Stacking: KNeighborsRegressor - RandomForestRegressor - XGBoostRegressor - Red Neuronal"
      ]
    },
    {
      "cell_type": "code",
      "execution_count": null,
      "metadata": {
        "colab": {
          "base_uri": "https://localhost:8080/"
        },
        "id": "XR9o53HIpdTW",
        "outputId": "2ab804b0-ddfa-42ac-98d3-9dc5ab0c7330"
      },
      "outputs": [
        {
          "name": "stderr",
          "output_type": "stream",
          "text": [
            "/usr/local/lib/python3.10/dist-packages/keras/src/layers/core/dense.py:87: UserWarning: Do not pass an `input_shape`/`input_dim` argument to a layer. When using Sequential models, prefer using an `Input(shape)` object as the first layer in the model instead.\n",
            "  super().__init__(activity_regularizer=activity_regularizer, **kwargs)\n"
          ]
        },
        {
          "data": {
            "text/plain": [
              "<keras.src.callbacks.history.History at 0x7b215e2645b0>"
            ]
          },
          "execution_count": 55,
          "metadata": {},
          "output_type": "execute_result"
        }
      ],
      "source": [
        "from keras.models import Sequential\n",
        "from keras.layers import Dense, Dropout\n",
        "import tensorflow as tf\n",
        "import numpy as np\n",
        "from sklearn.model_selection import train_test_split\n",
        "from tensorflow.keras.models import Sequential\n",
        "from tensorflow.keras.layers import Dense, Dropout\n",
        "from tensorflow.keras.callbacks import EarlyStopping, ReduceLROnPlateau, ModelCheckpoint\n",
        "import tensorflow as tf\n",
        "\n",
        "seed = 42\n",
        "np.random.seed(seed)\n",
        "tf.random.set_seed(seed)\n",
        "\n",
        "X_train, X_test, y_train, y_test = train_test_split(\n",
        "    train['clean_text'], train['storypoint'], test_size=0.2, random_state=seed)\n",
        "\n",
        "vectorizer_tfidf = TfidfVectorizer(max_features=2000)\n",
        "X_train_tfidf = vectorizer_tfidf.fit_transform(X_train)\n",
        "X_test_tfidf = vectorizer_tfidf.transform(X_test)\n",
        "\n",
        "def build_nn_model(learning_rate=0.001, dropout_rate=0.3, l2_rate=0.1, units=128):\n",
        "    model = Sequential()\n",
        "    model.add(Dense(units, input_dim=X_train_tfidf.shape[1], activation='relu',\n",
        "                    kernel_regularizer=tf.keras.regularizers.l2(l2_rate)))\n",
        "    model.add(Dropout(dropout_rate))\n",
        "    model.add(Dense(units // 2, activation='relu', kernel_regularizer=tf.keras.regularizers.l2(l2_rate)))\n",
        "    model.add(Dropout(dropout_rate))\n",
        "    model.add(Dense(1, activation='linear'))\n",
        "\n",
        "    model.compile(optimizer=tf.keras.optimizers.Adam(learning_rate=learning_rate),\n",
        "                  loss='mean_squared_error', metrics=['mean_squared_error', 'mean_absolute_error'])\n",
        "    return model\n",
        "\n",
        "nn_model = build_nn_model(learning_rate=0.001, dropout_rate=0.3, l2_rate=0.1, units=128)\n",
        "\n",
        "nn_model.fit(X_train_tfidf, y_train, epochs=50, batch_size=64, verbose=0,\n",
        "             validation_data=(X_test_tfidf, y_test),\n",
        "             callbacks=[EarlyStopping(monitor='val_loss', patience=10, restore_best_weights=True),\n",
        "                        ReduceLROnPlateau(monitor='val_loss', factor=0.5, patience=5, min_lr=1e-5),\n",
        "                        ModelCheckpoint('best_nn_model.keras', monitor='val_loss', save_best_only=True)])"
      ]
    },
    {
      "cell_type": "code",
      "execution_count": null,
      "metadata": {
        "colab": {
          "base_uri": "https://localhost:8080/"
        },
        "id": "svHSlpZ6o6tn",
        "outputId": "1fd06b72-d35f-40e8-954c-7c0fa9931665"
      },
      "outputs": [
        {
          "name": "stdout",
          "output_type": "stream",
          "text": [
            "Evaluación en el conjunto de entrenamiento:\n",
            "  Error cuadrático medio (MSE - Entrenamiento): 1.7442\n",
            "  Raíz del error cuadrático medio (RMSE - Entrenamiento): 1.3207\n",
            "\n",
            "Evaluación en el conjunto de validación (Test):\n",
            "  Error cuadrático medio (MSE - Validación): 5.5429\n",
            "  Raíz del error cuadrático medio (RMSE - Validación): 2.3543\n"
          ]
        }
      ],
      "source": [
        "from sklearn.ensemble import StackingRegressor\n",
        "from sklearn.linear_model import LinearRegression\n",
        "import xgboost as xgb\n",
        "from sklearn.ensemble import RandomForestRegressor\n",
        "from sklearn.metrics import mean_squared_error\n",
        "from scikeras.wrappers import KerasRegressor\n",
        "from sklearn.neighbors import KNeighborsRegressor\n",
        "\n",
        "\n",
        "base_models = [\n",
        "    ('knn', KNeighborsRegressor(n_neighbors=5)),\n",
        "    ('rf', RandomForestRegressor(\n",
        "        n_estimators=200, max_depth=None, min_samples_split=5, min_samples_leaf=1,\n",
        "        max_features='sqrt', oob_score=True)),\n",
        "    ('xgb', xgb.XGBRegressor(\n",
        "        learning_rate=0.1, max_depth=5, n_estimators=200, subsample=1.0,\n",
        "        colsample_bytree=0.7, reg_alpha=0.1, reg_lambda=1.5)),\n",
        "    ('nn', KerasRegressor(model=nn_model, epochs=50, batch_size=64, verbose=0))\n",
        "]\n",
        "\n",
        "meta_model = LinearRegression()\n",
        "\n",
        "stacking_model = StackingRegressor(estimators=base_models, final_estimator=meta_model)\n",
        "\n",
        "stacking_model.fit(X_train_tfidf, y_train)\n",
        "\n",
        "y_train_pred_stack = stacking_model.predict(X_train_tfidf)\n",
        "\n",
        "y_pred_stack = stacking_model.predict(X_test_tfidf)\n",
        "\n",
        "mse_train = mean_squared_error(y_train, y_train_pred_stack)\n",
        "rmse_train = np.sqrt(mse_train)\n",
        "\n",
        "mse_test = mean_squared_error(y_test, y_pred_stack)\n",
        "rmse_test = np.sqrt(mse_test)\n",
        "\n",
        "\n",
        "print(f\"Evaluación en el conjunto de entrenamiento:\")\n",
        "print(f\"  Error cuadrático medio (MSE - Entrenamiento): {mse_train:.4f}\")\n",
        "print(f\"  Raíz del error cuadrático medio (RMSE - Entrenamiento): {rmse_train:.4f}\")\n",
        "\n",
        "print(f\"\\nEvaluación en el conjunto de validación (Test):\")\n",
        "print(f\"  Error cuadrático medio (MSE - Validación): {mse_test:.4f}\")\n",
        "print(f\"  Raíz del error cuadrático medio (RMSE - Validación): {rmse_test:.4f}\")"
      ]
    },
    {
      "cell_type": "code",
      "execution_count": null,
      "metadata": {
        "colab": {
          "base_uri": "https://localhost:8080/",
          "height": 17
        },
        "id": "iwrIkq2prElI",
        "outputId": "2af10bbb-6d1b-474c-f53c-1d0704de9824"
      },
      "outputs": [
        {
          "data": {
            "application/javascript": [
              "\n",
              "    async function download(id, filename, size) {\n",
              "      if (!google.colab.kernel.accessAllowed) {\n",
              "        return;\n",
              "      }\n",
              "      const div = document.createElement('div');\n",
              "      const label = document.createElement('label');\n",
              "      label.textContent = `Downloading \"${filename}\": `;\n",
              "      div.appendChild(label);\n",
              "      const progress = document.createElement('progress');\n",
              "      progress.max = size;\n",
              "      div.appendChild(progress);\n",
              "      document.body.appendChild(div);\n",
              "\n",
              "      const buffers = [];\n",
              "      let downloaded = 0;\n",
              "\n",
              "      const channel = await google.colab.kernel.comms.open(id);\n",
              "      // Send a message to notify the kernel that we're ready.\n",
              "      channel.send({})\n",
              "\n",
              "      for await (const message of channel.messages) {\n",
              "        // Send a message to notify the kernel that we're ready.\n",
              "        channel.send({})\n",
              "        if (message.buffers) {\n",
              "          for (const buffer of message.buffers) {\n",
              "            buffers.push(buffer);\n",
              "            downloaded += buffer.byteLength;\n",
              "            progress.value = downloaded;\n",
              "          }\n",
              "        }\n",
              "      }\n",
              "      const blob = new Blob(buffers, {type: 'application/binary'});\n",
              "      const a = document.createElement('a');\n",
              "      a.href = window.URL.createObjectURL(blob);\n",
              "      a.download = filename;\n",
              "      div.appendChild(a);\n",
              "      a.click();\n",
              "      div.remove();\n",
              "    }\n",
              "  "
            ],
            "text/plain": [
              "<IPython.core.display.Javascript object>"
            ]
          },
          "metadata": {},
          "output_type": "display_data"
        },
        {
          "data": {
            "application/javascript": [
              "download(\"download_bae1ae2c-914f-4d53-b481-d62e182c4550\", \"submission_ensemble.csv\", 45814)"
            ],
            "text/plain": [
              "<IPython.core.display.Javascript object>"
            ]
          },
          "metadata": {},
          "output_type": "display_data"
        }
      ],
      "source": [
        "test_vec = vectorizer_tfidf.transform(test['clean_text'])\n",
        "\n",
        "test_predictions_ensemble = stacking_model.predict(test_vec)\n",
        "\n",
        "submission_ensemble = pd.DataFrame({\n",
        "    'id': test['id'],\n",
        "    'storypoint': test_predictions_ensemble\n",
        "})\n",
        "\n",
        "submission_ensemble.to_csv('submission_ensemble.csv', index=False)\n",
        "\n",
        "from google.colab import files\n",
        "files.download('submission_ensemble.csv')"
      ]
    }
  ],
  "metadata": {
    "colab": {
      "toc_visible": true,
      "provenance": []
    },
    "kernelspec": {
      "display_name": "Python 3",
      "name": "python3"
    },
    "language_info": {
      "name": "python"
    }
  },
  "nbformat": 4,
  "nbformat_minor": 0
}